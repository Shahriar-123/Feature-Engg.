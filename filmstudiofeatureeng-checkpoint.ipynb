{
 "cells": [
  {
   "cell_type": "code",
   "execution_count": null,
   "id": "7e907edd",
   "metadata": {},
   "outputs": [],
   "source": []
  },
  {
   "cell_type": "code",
   "execution_count": null,
   "id": "c6ffe461",
   "metadata": {},
   "outputs": [],
   "source": []
  },
  {
   "cell_type": "code",
   "execution_count": 1,
   "id": "0ed127b0",
   "metadata": {},
   "outputs": [
    {
     "name": "stdout",
     "output_type": "stream",
     "text": [
      "Requirement already satisfied: pandas in e:\\anaconda\\lib\\site-packages (1.3.4)\n",
      "Requirement already satisfied: numpy>=1.17.3 in e:\\anaconda\\lib\\site-packages (from pandas) (1.20.3)\n",
      "Requirement already satisfied: python-dateutil>=2.7.3 in e:\\anaconda\\lib\\site-packages (from pandas) (2.8.2)\n",
      "Requirement already satisfied: pytz>=2017.3 in e:\\anaconda\\lib\\site-packages (from pandas) (2021.3)\n",
      "Requirement already satisfied: six>=1.5 in e:\\anaconda\\lib\\site-packages (from python-dateutil>=2.7.3->pandas) (1.16.0)\n"
     ]
    }
   ],
   "source": [
    "!pip install pandas"
   ]
  },
  {
   "cell_type": "code",
   "execution_count": 2,
   "id": "fe9544eb",
   "metadata": {},
   "outputs": [],
   "source": [
    "import pandas as pd"
   ]
  },
  {
   "cell_type": "code",
   "execution_count": 3,
   "id": "f7c23112",
   "metadata": {},
   "outputs": [],
   "source": [
    "import numpy as np"
   ]
  },
  {
   "cell_type": "code",
   "execution_count": null,
   "id": "87edf6f1",
   "metadata": {},
   "outputs": [],
   "source": []
  },
  {
   "cell_type": "code",
   "execution_count": 4,
   "id": "6535da05",
   "metadata": {},
   "outputs": [],
   "source": [
    "df=pd.read_csv(\"combined_dataset.csv\")"
   ]
  },
  {
   "cell_type": "code",
   "execution_count": 5,
   "id": "58f409f3",
   "metadata": {},
   "outputs": [
    {
     "data": {
      "text/html": [
       "<div>\n",
       "<style scoped>\n",
       "    .dataframe tbody tr th:only-of-type {\n",
       "        vertical-align: middle;\n",
       "    }\n",
       "\n",
       "    .dataframe tbody tr th {\n",
       "        vertical-align: top;\n",
       "    }\n",
       "\n",
       "    .dataframe thead th {\n",
       "        text-align: right;\n",
       "    }\n",
       "</style>\n",
       "<table border=\"1\" class=\"dataframe\">\n",
       "  <thead>\n",
       "    <tr style=\"text-align: right;\">\n",
       "      <th></th>\n",
       "      <th>YEAR</th>\n",
       "      <th>WARNER BROS</th>\n",
       "      <th>WALT DISNEY</th>\n",
       "      <th>20TH CENTURY FOX</th>\n",
       "      <th>PARAMOUNT PICTURES</th>\n",
       "      <th>SONY PICTURES</th>\n",
       "      <th>UNIVERSAL</th>\n",
       "      <th>TOTAL MAJOR 6</th>\n",
       "      <th>TOTAL OTHER STUDIOS</th>\n",
       "      <th>TICKETS SOLD</th>\n",
       "      <th>TOTAL BOX OFFICE</th>\n",
       "      <th>TOTAL INFLATION ADJUSTED BOX OFFICE</th>\n",
       "      <th>AVERAGE TICKET PRICE</th>\n",
       "    </tr>\n",
       "  </thead>\n",
       "  <tbody>\n",
       "    <tr>\n",
       "      <th>0</th>\n",
       "      <td>2021</td>\n",
       "      <td>17</td>\n",
       "      <td>7</td>\n",
       "      <td>0</td>\n",
       "      <td>4</td>\n",
       "      <td>16</td>\n",
       "      <td>17</td>\n",
       "      <td>61</td>\n",
       "      <td>38</td>\n",
       "      <td>42,37,74,881</td>\n",
       "      <td>$3,881,777,912</td>\n",
       "      <td>$3,881,777,912</td>\n",
       "      <td>$9.16</td>\n",
       "    </tr>\n",
       "    <tr>\n",
       "      <th>1</th>\n",
       "      <td>2020</td>\n",
       "      <td>5</td>\n",
       "      <td>3</td>\n",
       "      <td>1</td>\n",
       "      <td>3</td>\n",
       "      <td>9</td>\n",
       "      <td>13</td>\n",
       "      <td>34</td>\n",
       "      <td>23</td>\n",
       "      <td>22,36,38,958</td>\n",
       "      <td>$2,048,534,616</td>\n",
       "      <td>$2,048,534,616</td>\n",
       "      <td>$9.16</td>\n",
       "    </tr>\n",
       "    <tr>\n",
       "      <th>2</th>\n",
       "      <td>2019</td>\n",
       "      <td>18</td>\n",
       "      <td>10</td>\n",
       "      <td>11</td>\n",
       "      <td>9</td>\n",
       "      <td>18</td>\n",
       "      <td>21</td>\n",
       "      <td>87</td>\n",
       "      <td>44</td>\n",
       "      <td>1,22,85,41,629</td>\n",
       "      <td>$11,253,443,955</td>\n",
       "      <td>$11,253,444,050</td>\n",
       "      <td>$9.16</td>\n",
       "    </tr>\n",
       "    <tr>\n",
       "      <th>3</th>\n",
       "      <td>2018</td>\n",
       "      <td>19</td>\n",
       "      <td>10</td>\n",
       "      <td>11</td>\n",
       "      <td>10</td>\n",
       "      <td>16</td>\n",
       "      <td>20</td>\n",
       "      <td>86</td>\n",
       "      <td>58</td>\n",
       "      <td>1,31,15,36,128</td>\n",
       "      <td>$11,948,096,650</td>\n",
       "      <td>$12,013,670,952</td>\n",
       "      <td>$9.11</td>\n",
       "    </tr>\n",
       "    <tr>\n",
       "      <th>4</th>\n",
       "      <td>2017</td>\n",
       "      <td>18</td>\n",
       "      <td>8</td>\n",
       "      <td>14</td>\n",
       "      <td>10</td>\n",
       "      <td>16</td>\n",
       "      <td>15</td>\n",
       "      <td>81</td>\n",
       "      <td>50</td>\n",
       "      <td>1,22,56,39,761</td>\n",
       "      <td>$10,993,991,460</td>\n",
       "      <td>$11,226,860,216</td>\n",
       "      <td>$8.97</td>\n",
       "    </tr>\n",
       "  </tbody>\n",
       "</table>\n",
       "</div>"
      ],
      "text/plain": [
       "   YEAR  WARNER BROS  WALT DISNEY  20TH CENTURY FOX  PARAMOUNT PICTURES  \\\n",
       "0  2021           17            7                 0                   4   \n",
       "1  2020            5            3                 1                   3   \n",
       "2  2019           18           10                11                   9   \n",
       "3  2018           19           10                11                  10   \n",
       "4  2017           18            8                14                  10   \n",
       "\n",
       "   SONY PICTURES  UNIVERSAL  TOTAL MAJOR 6  TOTAL OTHER STUDIOS  \\\n",
       "0             16         17             61                   38   \n",
       "1              9         13             34                   23   \n",
       "2             18         21             87                   44   \n",
       "3             16         20             86                   58   \n",
       "4             16         15             81                   50   \n",
       "\n",
       "     TICKETS SOLD  TOTAL BOX OFFICE TOTAL INFLATION ADJUSTED BOX OFFICE  \\\n",
       "0    42,37,74,881   $3,881,777,912                      $3,881,777,912    \n",
       "1    22,36,38,958   $2,048,534,616                      $2,048,534,616    \n",
       "2  1,22,85,41,629  $11,253,443,955                     $11,253,444,050    \n",
       "3  1,31,15,36,128  $11,948,096,650                     $12,013,670,952    \n",
       "4  1,22,56,39,761  $10,993,991,460                     $11,226,860,216    \n",
       "\n",
       "  AVERAGE TICKET PRICE  \n",
       "0               $9.16   \n",
       "1               $9.16   \n",
       "2               $9.16   \n",
       "3               $9.11   \n",
       "4               $8.97   "
      ]
     },
     "execution_count": 5,
     "metadata": {},
     "output_type": "execute_result"
    }
   ],
   "source": [
    "df.head()"
   ]
  },
  {
   "cell_type": "code",
   "execution_count": 6,
   "id": "9f3cf84f",
   "metadata": {},
   "outputs": [
    {
     "data": {
      "text/html": [
       "<div>\n",
       "<style scoped>\n",
       "    .dataframe tbody tr th:only-of-type {\n",
       "        vertical-align: middle;\n",
       "    }\n",
       "\n",
       "    .dataframe tbody tr th {\n",
       "        vertical-align: top;\n",
       "    }\n",
       "\n",
       "    .dataframe thead th {\n",
       "        text-align: right;\n",
       "    }\n",
       "</style>\n",
       "<table border=\"1\" class=\"dataframe\">\n",
       "  <thead>\n",
       "    <tr style=\"text-align: right;\">\n",
       "      <th></th>\n",
       "      <th>YEAR</th>\n",
       "      <th>WARNER BROS</th>\n",
       "      <th>WALT DISNEY</th>\n",
       "      <th>20TH CENTURY FOX</th>\n",
       "      <th>PARAMOUNT PICTURES</th>\n",
       "      <th>SONY PICTURES</th>\n",
       "      <th>UNIVERSAL</th>\n",
       "      <th>TOTAL MAJOR 6</th>\n",
       "      <th>TOTAL OTHER STUDIOS</th>\n",
       "      <th>TICKETS SOLD</th>\n",
       "      <th>TOTAL BOX OFFICE</th>\n",
       "      <th>TOTAL INFLATION ADJUSTED BOX OFFICE</th>\n",
       "      <th>AVERAGE TICKET PRICE</th>\n",
       "    </tr>\n",
       "  </thead>\n",
       "  <tbody>\n",
       "    <tr>\n",
       "      <th>22</th>\n",
       "      <td>1999</td>\n",
       "      <td>27</td>\n",
       "      <td>20</td>\n",
       "      <td>15</td>\n",
       "      <td>13</td>\n",
       "      <td>22</td>\n",
       "      <td>16</td>\n",
       "      <td>113</td>\n",
       "      <td>19</td>\n",
       "      <td>1,44,46,64,086</td>\n",
       "      <td>$7,338,894,852</td>\n",
       "      <td>$13,233,123,027</td>\n",
       "      <td>$5.08</td>\n",
       "    </tr>\n",
       "    <tr>\n",
       "      <th>23</th>\n",
       "      <td>1998</td>\n",
       "      <td>27</td>\n",
       "      <td>21</td>\n",
       "      <td>11</td>\n",
       "      <td>11</td>\n",
       "      <td>20</td>\n",
       "      <td>16</td>\n",
       "      <td>106</td>\n",
       "      <td>20</td>\n",
       "      <td>1,44,38,32,471</td>\n",
       "      <td>$6,771,575,283</td>\n",
       "      <td>$13,225,505,439</td>\n",
       "      <td>$4.69</td>\n",
       "    </tr>\n",
       "    <tr>\n",
       "      <th>24</th>\n",
       "      <td>1997</td>\n",
       "      <td>31</td>\n",
       "      <td>22</td>\n",
       "      <td>12</td>\n",
       "      <td>16</td>\n",
       "      <td>22</td>\n",
       "      <td>11</td>\n",
       "      <td>114</td>\n",
       "      <td>22</td>\n",
       "      <td>1,35,73,49,648</td>\n",
       "      <td>$6,230,235,770</td>\n",
       "      <td>$12,433,322,785</td>\n",
       "      <td>$4.59</td>\n",
       "    </tr>\n",
       "    <tr>\n",
       "      <th>25</th>\n",
       "      <td>1996</td>\n",
       "      <td>31</td>\n",
       "      <td>23</td>\n",
       "      <td>13</td>\n",
       "      <td>16</td>\n",
       "      <td>24</td>\n",
       "      <td>13</td>\n",
       "      <td>120</td>\n",
       "      <td>22</td>\n",
       "      <td>1,30,52,21,290</td>\n",
       "      <td>$5,769,078,886</td>\n",
       "      <td>$11,955,781,912</td>\n",
       "      <td>$4.42</td>\n",
       "    </tr>\n",
       "    <tr>\n",
       "      <th>26</th>\n",
       "      <td>1995</td>\n",
       "      <td>27</td>\n",
       "      <td>22</td>\n",
       "      <td>11</td>\n",
       "      <td>12</td>\n",
       "      <td>20</td>\n",
       "      <td>17</td>\n",
       "      <td>109</td>\n",
       "      <td>27</td>\n",
       "      <td>1,22,17,05,907</td>\n",
       "      <td>$5,314,421,390</td>\n",
       "      <td>$11,190,826,105</td>\n",
       "      <td>$4.35</td>\n",
       "    </tr>\n",
       "  </tbody>\n",
       "</table>\n",
       "</div>"
      ],
      "text/plain": [
       "    YEAR  WARNER BROS  WALT DISNEY  20TH CENTURY FOX  PARAMOUNT PICTURES  \\\n",
       "22  1999           27           20                15                  13   \n",
       "23  1998           27           21                11                  11   \n",
       "24  1997           31           22                12                  16   \n",
       "25  1996           31           23                13                  16   \n",
       "26  1995           27           22                11                  12   \n",
       "\n",
       "    SONY PICTURES  UNIVERSAL  TOTAL MAJOR 6  TOTAL OTHER STUDIOS  \\\n",
       "22             22         16            113                   19   \n",
       "23             20         16            106                   20   \n",
       "24             22         11            114                   22   \n",
       "25             24         13            120                   22   \n",
       "26             20         17            109                   27   \n",
       "\n",
       "      TICKETS SOLD TOTAL BOX OFFICE TOTAL INFLATION ADJUSTED BOX OFFICE  \\\n",
       "22  1,44,46,64,086  $7,338,894,852                     $13,233,123,027    \n",
       "23  1,44,38,32,471  $6,771,575,283                     $13,225,505,439    \n",
       "24  1,35,73,49,648  $6,230,235,770                     $12,433,322,785    \n",
       "25  1,30,52,21,290  $5,769,078,886                     $11,955,781,912    \n",
       "26  1,22,17,05,907  $5,314,421,390                     $11,190,826,105    \n",
       "\n",
       "   AVERAGE TICKET PRICE  \n",
       "22               $5.08   \n",
       "23               $4.69   \n",
       "24               $4.59   \n",
       "25               $4.42   \n",
       "26               $4.35   "
      ]
     },
     "execution_count": 6,
     "metadata": {},
     "output_type": "execute_result"
    }
   ],
   "source": [
    "df.tail()"
   ]
  },
  {
   "cell_type": "code",
   "execution_count": 7,
   "id": "b450e1ba",
   "metadata": {},
   "outputs": [
    {
     "data": {
      "text/plain": [
       "YEAR                                   0\n",
       "WARNER BROS                            0\n",
       "WALT DISNEY                            0\n",
       "20TH CENTURY FOX                       0\n",
       "PARAMOUNT PICTURES                     0\n",
       "SONY PICTURES                          0\n",
       "UNIVERSAL                              0\n",
       "TOTAL MAJOR 6                          0\n",
       "TOTAL OTHER STUDIOS                    0\n",
       "TICKETS SOLD                           0\n",
       "TOTAL BOX OFFICE                       0\n",
       "TOTAL INFLATION ADJUSTED BOX OFFICE    0\n",
       "AVERAGE TICKET PRICE                   0\n",
       "dtype: int64"
      ]
     },
     "execution_count": 7,
     "metadata": {},
     "output_type": "execute_result"
    }
   ],
   "source": [
    "df.isna().sum()"
   ]
  },
  {
   "cell_type": "markdown",
   "id": "8855b44a",
   "metadata": {},
   "source": [
    "## TICKETS SOLD"
   ]
  },
  {
   "cell_type": "code",
   "execution_count": 8,
   "id": "785a6e0d",
   "metadata": {},
   "outputs": [
    {
     "data": {
      "text/plain": [
       "array(['42,37,74,881', '22,36,38,958', '1,22,85,41,629', '1,31,15,36,128',\n",
       "       '1,22,56,39,761', '1,30,25,56,378', '1,32,33,56,776',\n",
       "       '1,25,74,02,920', '1,33,91,68,926', '1,38,09,21,942',\n",
       "       '1,28,29,15,168', '1,32,85,49,021', '1,41,85,67,388',\n",
       "       '1,35,80,42,073', '1,42,00,36,680', '1,39,87,38,283',\n",
       "       '1,37,29,80,280', '1,49,56,51,298', '1,52,45,89,620',\n",
       "       '1,57,57,56,527', '1,46,58,74,205', '1,39,74,60,079',\n",
       "       '1,44,46,64,086', '1,44,38,32,471', '1,35,73,49,648',\n",
       "       '1,30,52,21,290', '1,22,17,05,907'], dtype=object)"
      ]
     },
     "execution_count": 8,
     "metadata": {},
     "output_type": "execute_result"
    }
   ],
   "source": [
    "df[\"TICKETS SOLD\"].unique()"
   ]
  },
  {
   "cell_type": "code",
   "execution_count": 9,
   "id": "5d4e852b",
   "metadata": {},
   "outputs": [
    {
     "data": {
      "text/html": [
       "<div>\n",
       "<style scoped>\n",
       "    .dataframe tbody tr th:only-of-type {\n",
       "        vertical-align: middle;\n",
       "    }\n",
       "\n",
       "    .dataframe tbody tr th {\n",
       "        vertical-align: top;\n",
       "    }\n",
       "\n",
       "    .dataframe thead th {\n",
       "        text-align: right;\n",
       "    }\n",
       "</style>\n",
       "<table border=\"1\" class=\"dataframe\">\n",
       "  <thead>\n",
       "    <tr style=\"text-align: right;\">\n",
       "      <th></th>\n",
       "      <th>YEAR</th>\n",
       "      <th>WARNER BROS</th>\n",
       "      <th>WALT DISNEY</th>\n",
       "      <th>20TH CENTURY FOX</th>\n",
       "      <th>PARAMOUNT PICTURES</th>\n",
       "      <th>SONY PICTURES</th>\n",
       "      <th>UNIVERSAL</th>\n",
       "      <th>TOTAL MAJOR 6</th>\n",
       "      <th>TOTAL OTHER STUDIOS</th>\n",
       "      <th>TICKETS SOLD</th>\n",
       "      <th>TOTAL BOX OFFICE</th>\n",
       "      <th>TOTAL INFLATION ADJUSTED BOX OFFICE</th>\n",
       "      <th>AVERAGE TICKET PRICE</th>\n",
       "    </tr>\n",
       "  </thead>\n",
       "  <tbody>\n",
       "    <tr>\n",
       "      <th>0</th>\n",
       "      <td>2021</td>\n",
       "      <td>17</td>\n",
       "      <td>7</td>\n",
       "      <td>0</td>\n",
       "      <td>4</td>\n",
       "      <td>16</td>\n",
       "      <td>17</td>\n",
       "      <td>61</td>\n",
       "      <td>38</td>\n",
       "      <td>42,37,74,881</td>\n",
       "      <td>$3,881,777,912</td>\n",
       "      <td>$3,881,777,912</td>\n",
       "      <td>$9.16</td>\n",
       "    </tr>\n",
       "    <tr>\n",
       "      <th>1</th>\n",
       "      <td>2020</td>\n",
       "      <td>5</td>\n",
       "      <td>3</td>\n",
       "      <td>1</td>\n",
       "      <td>3</td>\n",
       "      <td>9</td>\n",
       "      <td>13</td>\n",
       "      <td>34</td>\n",
       "      <td>23</td>\n",
       "      <td>22,36,38,958</td>\n",
       "      <td>$2,048,534,616</td>\n",
       "      <td>$2,048,534,616</td>\n",
       "      <td>$9.16</td>\n",
       "    </tr>\n",
       "    <tr>\n",
       "      <th>2</th>\n",
       "      <td>2019</td>\n",
       "      <td>18</td>\n",
       "      <td>10</td>\n",
       "      <td>11</td>\n",
       "      <td>9</td>\n",
       "      <td>18</td>\n",
       "      <td>21</td>\n",
       "      <td>87</td>\n",
       "      <td>44</td>\n",
       "      <td>1,22,85,41,629</td>\n",
       "      <td>$11,253,443,955</td>\n",
       "      <td>$11,253,444,050</td>\n",
       "      <td>$9.16</td>\n",
       "    </tr>\n",
       "    <tr>\n",
       "      <th>3</th>\n",
       "      <td>2018</td>\n",
       "      <td>19</td>\n",
       "      <td>10</td>\n",
       "      <td>11</td>\n",
       "      <td>10</td>\n",
       "      <td>16</td>\n",
       "      <td>20</td>\n",
       "      <td>86</td>\n",
       "      <td>58</td>\n",
       "      <td>1,31,15,36,128</td>\n",
       "      <td>$11,948,096,650</td>\n",
       "      <td>$12,013,670,952</td>\n",
       "      <td>$9.11</td>\n",
       "    </tr>\n",
       "    <tr>\n",
       "      <th>4</th>\n",
       "      <td>2017</td>\n",
       "      <td>18</td>\n",
       "      <td>8</td>\n",
       "      <td>14</td>\n",
       "      <td>10</td>\n",
       "      <td>16</td>\n",
       "      <td>15</td>\n",
       "      <td>81</td>\n",
       "      <td>50</td>\n",
       "      <td>1,22,56,39,761</td>\n",
       "      <td>$10,993,991,460</td>\n",
       "      <td>$11,226,860,216</td>\n",
       "      <td>$8.97</td>\n",
       "    </tr>\n",
       "  </tbody>\n",
       "</table>\n",
       "</div>"
      ],
      "text/plain": [
       "   YEAR  WARNER BROS  WALT DISNEY  20TH CENTURY FOX  PARAMOUNT PICTURES  \\\n",
       "0  2021           17            7                 0                   4   \n",
       "1  2020            5            3                 1                   3   \n",
       "2  2019           18           10                11                   9   \n",
       "3  2018           19           10                11                  10   \n",
       "4  2017           18            8                14                  10   \n",
       "\n",
       "   SONY PICTURES  UNIVERSAL  TOTAL MAJOR 6  TOTAL OTHER STUDIOS  \\\n",
       "0             16         17             61                   38   \n",
       "1              9         13             34                   23   \n",
       "2             18         21             87                   44   \n",
       "3             16         20             86                   58   \n",
       "4             16         15             81                   50   \n",
       "\n",
       "     TICKETS SOLD  TOTAL BOX OFFICE TOTAL INFLATION ADJUSTED BOX OFFICE  \\\n",
       "0    42,37,74,881   $3,881,777,912                      $3,881,777,912    \n",
       "1    22,36,38,958   $2,048,534,616                      $2,048,534,616    \n",
       "2  1,22,85,41,629  $11,253,443,955                     $11,253,444,050    \n",
       "3  1,31,15,36,128  $11,948,096,650                     $12,013,670,952    \n",
       "4  1,22,56,39,761  $10,993,991,460                     $11,226,860,216    \n",
       "\n",
       "  AVERAGE TICKET PRICE  \n",
       "0               $9.16   \n",
       "1               $9.16   \n",
       "2               $9.16   \n",
       "3               $9.11   \n",
       "4               $8.97   "
      ]
     },
     "execution_count": 9,
     "metadata": {},
     "output_type": "execute_result"
    }
   ],
   "source": [
    "df.head()"
   ]
  },
  {
   "cell_type": "code",
   "execution_count": 10,
   "id": "8fc8537b",
   "metadata": {},
   "outputs": [],
   "source": [
    "df['TICKETS SOLD'] = df['TICKETS SOLD'].apply(lambda x: x.replace(\",\", \"\"))"
   ]
  },
  {
   "cell_type": "code",
   "execution_count": 11,
   "id": "b8b8dffe",
   "metadata": {},
   "outputs": [
    {
     "data": {
      "text/plain": [
       "array(['423774881', '223638958', '1228541629', '1311536128', '1225639761',\n",
       "       '1302556378', '1323356776', '1257402920', '1339168926',\n",
       "       '1380921942', '1282915168', '1328549021', '1418567388',\n",
       "       '1358042073', '1420036680', '1398738283', '1372980280',\n",
       "       '1495651298', '1524589620', '1575756527', '1465874205',\n",
       "       '1397460079', '1444664086', '1443832471', '1357349648',\n",
       "       '1305221290', '1221705907'], dtype=object)"
      ]
     },
     "execution_count": 11,
     "metadata": {},
     "output_type": "execute_result"
    }
   ],
   "source": [
    "df['TICKETS SOLD'].unique()"
   ]
  },
  {
   "cell_type": "code",
   "execution_count": 12,
   "id": "33fd794d",
   "metadata": {},
   "outputs": [],
   "source": [
    "df[\"TICKETS SOLD\"]=df[\"TICKETS SOLD\"].apply(lambda x: int(x))"
   ]
  },
  {
   "cell_type": "code",
   "execution_count": 13,
   "id": "941ef1c8",
   "metadata": {},
   "outputs": [
    {
     "data": {
      "text/plain": [
       "array([ 423774881,  223638958, 1228541629, 1311536128, 1225639761,\n",
       "       1302556378, 1323356776, 1257402920, 1339168926, 1380921942,\n",
       "       1282915168, 1328549021, 1418567388, 1358042073, 1420036680,\n",
       "       1398738283, 1372980280, 1495651298, 1524589620, 1575756527,\n",
       "       1465874205, 1397460079, 1444664086, 1443832471, 1357349648,\n",
       "       1305221290, 1221705907], dtype=int64)"
      ]
     },
     "execution_count": 13,
     "metadata": {},
     "output_type": "execute_result"
    }
   ],
   "source": [
    "df['TICKETS SOLD'].unique()"
   ]
  },
  {
   "cell_type": "markdown",
   "id": "7637ab56",
   "metadata": {},
   "source": [
    "## Total box offfice"
   ]
  },
  {
   "cell_type": "code",
   "execution_count": 14,
   "id": "6ca704b4",
   "metadata": {},
   "outputs": [
    {
     "data": {
      "text/plain": [
       "Index(['YEAR', 'WARNER BROS', 'WALT DISNEY', '20TH CENTURY FOX',\n",
       "       'PARAMOUNT PICTURES', 'SONY PICTURES', 'UNIVERSAL', 'TOTAL MAJOR 6',\n",
       "       'TOTAL OTHER STUDIOS', 'TICKETS SOLD', 'TOTAL BOX OFFICE',\n",
       "       'TOTAL INFLATION ADJUSTED BOX OFFICE', 'AVERAGE TICKET PRICE'],\n",
       "      dtype='object')"
      ]
     },
     "execution_count": 14,
     "metadata": {},
     "output_type": "execute_result"
    }
   ],
   "source": [
    "df.columns"
   ]
  },
  {
   "cell_type": "code",
   "execution_count": 15,
   "id": "39b9d1e3",
   "metadata": {},
   "outputs": [],
   "source": [
    "len=df['TOTAL BOX OFFICE'].unique()"
   ]
  },
  {
   "cell_type": "code",
   "execution_count": 16,
   "id": "ccd8361d",
   "metadata": {},
   "outputs": [
    {
     "data": {
      "text/plain": [
       "array(['$3,881,777,912 ', '$2,048,534,616 ', '$11,253,443,955 ',\n",
       "       '$11,948,096,650 ', '$10,993,991,460 ', '$11,267,115,924 ',\n",
       "       '$11,155,900,636 ', '$10,272,985,008 ', '$10,887,446,341 ',\n",
       "       '$10,992,141,616 ', '$10,173,519,704 ', '$10,482,254,025 ',\n",
       "       '$10,639,257,284 ', '$9,750,744,148 ', '$9,769,854,914 ',\n",
       "       '$9,161,738,221 ', '$8,800,805,718 ', '$9,287,996,519 ',\n",
       "       '$9,193,277,289 ', '$9,155,147,215 ', '$8,296,849,636 ',\n",
       "       '$7,532,311,479 ', '$7,338,894,852 ', '$6,771,575,283 ',\n",
       "       '$6,230,235,770 ', '$5,769,078,886 ', '$5,314,421,390 '],\n",
       "      dtype=object)"
      ]
     },
     "execution_count": 16,
     "metadata": {},
     "output_type": "execute_result"
    }
   ],
   "source": [
    "len"
   ]
  },
  {
   "cell_type": "code",
   "execution_count": 17,
   "id": "efb05398",
   "metadata": {},
   "outputs": [],
   "source": [
    "df['TOTAL BOX OFFICE'] = df['TOTAL BOX OFFICE'].apply(lambda x: x.replace(\"$\", \"\"))"
   ]
  },
  {
   "cell_type": "code",
   "execution_count": 18,
   "id": "f2cdce2c",
   "metadata": {},
   "outputs": [
    {
     "data": {
      "text/plain": [
       "array(['3,881,777,912 ', '2,048,534,616 ', '11,253,443,955 ',\n",
       "       '11,948,096,650 ', '10,993,991,460 ', '11,267,115,924 ',\n",
       "       '11,155,900,636 ', '10,272,985,008 ', '10,887,446,341 ',\n",
       "       '10,992,141,616 ', '10,173,519,704 ', '10,482,254,025 ',\n",
       "       '10,639,257,284 ', '9,750,744,148 ', '9,769,854,914 ',\n",
       "       '9,161,738,221 ', '8,800,805,718 ', '9,287,996,519 ',\n",
       "       '9,193,277,289 ', '9,155,147,215 ', '8,296,849,636 ',\n",
       "       '7,532,311,479 ', '7,338,894,852 ', '6,771,575,283 ',\n",
       "       '6,230,235,770 ', '5,769,078,886 ', '5,314,421,390 '], dtype=object)"
      ]
     },
     "execution_count": 18,
     "metadata": {},
     "output_type": "execute_result"
    }
   ],
   "source": [
    "df['TOTAL BOX OFFICE'].unique()"
   ]
  },
  {
   "cell_type": "code",
   "execution_count": 19,
   "id": "aae7cc6b",
   "metadata": {},
   "outputs": [],
   "source": [
    "df['TOTAL BOX OFFICE'] = df['TOTAL BOX OFFICE'].apply(lambda x: x.replace(\",\", \"\"))"
   ]
  },
  {
   "cell_type": "code",
   "execution_count": 20,
   "id": "a222bdcb",
   "metadata": {},
   "outputs": [
    {
     "data": {
      "text/plain": [
       "array(['3881777912 ', '2048534616 ', '11253443955 ', '11948096650 ',\n",
       "       '10993991460 ', '11267115924 ', '11155900636 ', '10272985008 ',\n",
       "       '10887446341 ', '10992141616 ', '10173519704 ', '10482254025 ',\n",
       "       '10639257284 ', '9750744148 ', '9769854914 ', '9161738221 ',\n",
       "       '8800805718 ', '9287996519 ', '9193277289 ', '9155147215 ',\n",
       "       '8296849636 ', '7532311479 ', '7338894852 ', '6771575283 ',\n",
       "       '6230235770 ', '5769078886 ', '5314421390 '], dtype=object)"
      ]
     },
     "execution_count": 20,
     "metadata": {},
     "output_type": "execute_result"
    }
   ],
   "source": [
    "df['TOTAL BOX OFFICE'].unique()"
   ]
  },
  {
   "cell_type": "code",
   "execution_count": 21,
   "id": "69d7f43c",
   "metadata": {},
   "outputs": [],
   "source": [
    "df['TOTAL BOX OFFICE'] = df['TOTAL BOX OFFICE'].apply(lambda x: int(x))"
   ]
  },
  {
   "cell_type": "code",
   "execution_count": 22,
   "id": "0aba62eb",
   "metadata": {},
   "outputs": [
    {
     "data": {
      "text/plain": [
       "array([ 3881777912,  2048534616, 11253443955, 11948096650, 10993991460,\n",
       "       11267115924, 11155900636, 10272985008, 10887446341, 10992141616,\n",
       "       10173519704, 10482254025, 10639257284,  9750744148,  9769854914,\n",
       "        9161738221,  8800805718,  9287996519,  9193277289,  9155147215,\n",
       "        8296849636,  7532311479,  7338894852,  6771575283,  6230235770,\n",
       "        5769078886,  5314421390], dtype=int64)"
      ]
     },
     "execution_count": 22,
     "metadata": {},
     "output_type": "execute_result"
    }
   ],
   "source": [
    "df['TOTAL BOX OFFICE'].unique()"
   ]
  },
  {
   "cell_type": "markdown",
   "id": "e616baaf",
   "metadata": {},
   "source": [
    "# TOTAL INFLATION ADJUSTED BOX OFFICE"
   ]
  },
  {
   "cell_type": "code",
   "execution_count": 23,
   "id": "9e2c0e26",
   "metadata": {},
   "outputs": [
    {
     "data": {
      "text/plain": [
       "Index(['YEAR', 'WARNER BROS', 'WALT DISNEY', '20TH CENTURY FOX',\n",
       "       'PARAMOUNT PICTURES', 'SONY PICTURES', 'UNIVERSAL', 'TOTAL MAJOR 6',\n",
       "       'TOTAL OTHER STUDIOS', 'TICKETS SOLD', 'TOTAL BOX OFFICE',\n",
       "       'TOTAL INFLATION ADJUSTED BOX OFFICE', 'AVERAGE TICKET PRICE'],\n",
       "      dtype='object')"
      ]
     },
     "execution_count": 23,
     "metadata": {},
     "output_type": "execute_result"
    }
   ],
   "source": [
    "df.columns"
   ]
  },
  {
   "cell_type": "code",
   "execution_count": 24,
   "id": "9498134d",
   "metadata": {},
   "outputs": [
    {
     "data": {
      "text/plain": [
       "array(['$3,881,777,912 ', '$2,048,534,616 ', '$11,253,444,050 ',\n",
       "       '$12,013,670,952 ', '$11,226,860,216 ', '$11,931,416,424 ',\n",
       "       '$12,121,948,075 ', '$11,517,810,744 ', '$12,266,787,382 ',\n",
       "       '$12,649,244,986 ', '$11,751,502,955 ', '$12,169,509,032 ',\n",
       "       '$12,994,051,137 ', '$12,439,665,380 ', '$13,007,535,993 ',\n",
       "       '$12,812,442,671 ', '$12,576,499,367 ', '$13,700,165,883 ',\n",
       "       '$13,965,240,914 ', '$14,433,929,789 ', '$13,427,407,722 ',\n",
       "       '$12,800,734,319 ', '$13,233,123,027 ', '$13,225,505,439 ',\n",
       "       '$12,433,322,785 ', '$11,955,781,912 ', '$11,190,826,105 '],\n",
       "      dtype=object)"
      ]
     },
     "execution_count": 24,
     "metadata": {},
     "output_type": "execute_result"
    }
   ],
   "source": [
    "df['TOTAL INFLATION ADJUSTED BOX OFFICE'].unique()"
   ]
  },
  {
   "cell_type": "code",
   "execution_count": 25,
   "id": "d8e279cc",
   "metadata": {},
   "outputs": [],
   "source": [
    "df['TOTAL INFLATION ADJUSTED BOX OFFICE'] = df['TOTAL INFLATION ADJUSTED BOX OFFICE'].apply(lambda x: x.replace(\"$\", \"\"))"
   ]
  },
  {
   "cell_type": "code",
   "execution_count": 26,
   "id": "f63e9db2",
   "metadata": {},
   "outputs": [],
   "source": [
    "df['TOTAL INFLATION ADJUSTED BOX OFFICE'] = df['TOTAL INFLATION ADJUSTED BOX OFFICE'].apply(lambda x: x.replace(\",\", \"\"))"
   ]
  },
  {
   "cell_type": "code",
   "execution_count": 27,
   "id": "7403f42e",
   "metadata": {},
   "outputs": [],
   "source": [
    "df['TOTAL INFLATION ADJUSTED BOX OFFICE'] = df['TOTAL INFLATION ADJUSTED BOX OFFICE'].apply(lambda x: int(x))"
   ]
  },
  {
   "cell_type": "code",
   "execution_count": 28,
   "id": "438301ff",
   "metadata": {},
   "outputs": [
    {
     "data": {
      "text/plain": [
       "array([ 3881777912,  2048534616, 11253444050, 12013670952, 11226860216,\n",
       "       11931416424, 12121948075, 11517810744, 12266787382, 12649244986,\n",
       "       11751502955, 12169509032, 12994051137, 12439665380, 13007535993,\n",
       "       12812442671, 12576499367, 13700165883, 13965240914, 14433929789,\n",
       "       13427407722, 12800734319, 13233123027, 13225505439, 12433322785,\n",
       "       11955781912, 11190826105], dtype=int64)"
      ]
     },
     "execution_count": 28,
     "metadata": {},
     "output_type": "execute_result"
    }
   ],
   "source": [
    "df['TOTAL INFLATION ADJUSTED BOX OFFICE'].unique()"
   ]
  },
  {
   "cell_type": "markdown",
   "id": "9b035f02",
   "metadata": {},
   "source": [
    "# 'AVERAGE TICKET PRICE'"
   ]
  },
  {
   "cell_type": "code",
   "execution_count": 29,
   "id": "62582a45",
   "metadata": {},
   "outputs": [
    {
     "data": {
      "text/plain": [
       "array(['$9.16 ', '$9.11 ', '$8.97 ', '$8.65 ', '$8.43 ', '$8.17 ',\n",
       "       '$8.13 ', '$7.96 ', '$7.93 ', '$7.89 ', '$7.50 ', '$7.18 ',\n",
       "       '$6.88 ', '$6.55 ', '$6.41 ', '$6.21 ', '$6.03 ', '$5.81 ',\n",
       "       '$5.66 ', '$5.39 ', '$5.08 ', '$4.69 ', '$4.59 ', '$4.42 ',\n",
       "       '$4.35 '], dtype=object)"
      ]
     },
     "execution_count": 29,
     "metadata": {},
     "output_type": "execute_result"
    }
   ],
   "source": [
    "df['AVERAGE TICKET PRICE'].unique()"
   ]
  },
  {
   "cell_type": "code",
   "execution_count": 30,
   "id": "b7fb39e2",
   "metadata": {},
   "outputs": [],
   "source": [
    "df['AVERAGE TICKET PRICE'] = df['AVERAGE TICKET PRICE'].apply(lambda x: x.replace(\"$\", \"\"))"
   ]
  },
  {
   "cell_type": "code",
   "execution_count": 31,
   "id": "3c097731",
   "metadata": {},
   "outputs": [],
   "source": [
    "df['AVERAGE TICKET PRICE'] = df['AVERAGE TICKET PRICE'].apply(lambda x: float(x))"
   ]
  },
  {
   "cell_type": "code",
   "execution_count": 32,
   "id": "0ca1682b",
   "metadata": {},
   "outputs": [
    {
     "data": {
      "text/plain": [
       "array([9.16, 9.11, 8.97, 8.65, 8.43, 8.17, 8.13, 7.96, 7.93, 7.89, 7.5 ,\n",
       "       7.18, 6.88, 6.55, 6.41, 6.21, 6.03, 5.81, 5.66, 5.39, 5.08, 4.69,\n",
       "       4.59, 4.42, 4.35])"
      ]
     },
     "execution_count": 32,
     "metadata": {},
     "output_type": "execute_result"
    }
   ],
   "source": [
    "df[\"AVERAGE TICKET PRICE\"].unique()"
   ]
  },
  {
   "cell_type": "code",
   "execution_count": 33,
   "id": "388eaa89",
   "metadata": {},
   "outputs": [
    {
     "ename": "AttributeError",
     "evalue": "'numpy.ndarray' object has no attribute 'df'",
     "output_type": "error",
     "traceback": [
      "\u001b[1;31m---------------------------------------------------------------------------\u001b[0m",
      "\u001b[1;31mAttributeError\u001b[0m                            Traceback (most recent call last)",
      "\u001b[1;32m~\\AppData\\Local\\Temp/ipykernel_14212/1179537579.py\u001b[0m in \u001b[0;36m<module>\u001b[1;34m\u001b[0m\n\u001b[1;32m----> 1\u001b[1;33m \u001b[0mlen\u001b[0m\u001b[1;33m.\u001b[0m\u001b[0mdf\u001b[0m\u001b[1;33m[\u001b[0m\u001b[1;34m\"AVERAGE TICKET PRICE\"\u001b[0m\u001b[1;33m]\u001b[0m\u001b[1;33m.\u001b[0m\u001b[0munique\u001b[0m\u001b[1;33m(\u001b[0m\u001b[1;33m)\u001b[0m\u001b[1;33m\u001b[0m\u001b[1;33m\u001b[0m\u001b[0m\n\u001b[0m",
      "\u001b[1;31mAttributeError\u001b[0m: 'numpy.ndarray' object has no attribute 'df'"
     ]
    }
   ],
   "source": [
    "len.df[\"AVERAGE TICKET PRICE\"].unique()"
   ]
  },
  {
   "cell_type": "code",
   "execution_count": null,
   "id": "3eb0303e",
   "metadata": {},
   "outputs": [],
   "source": [
    "len"
   ]
  },
  {
   "cell_type": "code",
   "execution_count": 34,
   "id": "a3457c84",
   "metadata": {},
   "outputs": [
    {
     "data": {
      "text/plain": [
       "YEAR                                   0\n",
       "WARNER BROS                            0\n",
       "WALT DISNEY                            0\n",
       "20TH CENTURY FOX                       0\n",
       "PARAMOUNT PICTURES                     0\n",
       "SONY PICTURES                          0\n",
       "UNIVERSAL                              0\n",
       "TOTAL MAJOR 6                          0\n",
       "TOTAL OTHER STUDIOS                    0\n",
       "TICKETS SOLD                           0\n",
       "TOTAL BOX OFFICE                       0\n",
       "TOTAL INFLATION ADJUSTED BOX OFFICE    0\n",
       "AVERAGE TICKET PRICE                   0\n",
       "dtype: int64"
      ]
     },
     "execution_count": 34,
     "metadata": {},
     "output_type": "execute_result"
    }
   ],
   "source": [
    "df.isna().sum()"
   ]
  },
  {
   "cell_type": "code",
   "execution_count": 35,
   "id": "0fa404c0",
   "metadata": {},
   "outputs": [
    {
     "ename": "AttributeError",
     "evalue": "'DataFrame' object has no attribute 'type'",
     "output_type": "error",
     "traceback": [
      "\u001b[1;31m---------------------------------------------------------------------------\u001b[0m",
      "\u001b[1;31mAttributeError\u001b[0m                            Traceback (most recent call last)",
      "\u001b[1;32m~\\AppData\\Local\\Temp/ipykernel_14212/1543814071.py\u001b[0m in \u001b[0;36m<module>\u001b[1;34m\u001b[0m\n\u001b[1;32m----> 1\u001b[1;33m \u001b[0mdf\u001b[0m\u001b[1;33m.\u001b[0m\u001b[0mtype\u001b[0m\u001b[1;33m\u001b[0m\u001b[1;33m\u001b[0m\u001b[0m\n\u001b[0m",
      "\u001b[1;32mE:\\anaconda\\lib\\site-packages\\pandas\\core\\generic.py\u001b[0m in \u001b[0;36m__getattr__\u001b[1;34m(self, name)\u001b[0m\n\u001b[0;32m   5485\u001b[0m         ):\n\u001b[0;32m   5486\u001b[0m             \u001b[1;32mreturn\u001b[0m \u001b[0mself\u001b[0m\u001b[1;33m[\u001b[0m\u001b[0mname\u001b[0m\u001b[1;33m]\u001b[0m\u001b[1;33m\u001b[0m\u001b[1;33m\u001b[0m\u001b[0m\n\u001b[1;32m-> 5487\u001b[1;33m         \u001b[1;32mreturn\u001b[0m \u001b[0mobject\u001b[0m\u001b[1;33m.\u001b[0m\u001b[0m__getattribute__\u001b[0m\u001b[1;33m(\u001b[0m\u001b[0mself\u001b[0m\u001b[1;33m,\u001b[0m \u001b[0mname\u001b[0m\u001b[1;33m)\u001b[0m\u001b[1;33m\u001b[0m\u001b[1;33m\u001b[0m\u001b[0m\n\u001b[0m\u001b[0;32m   5488\u001b[0m \u001b[1;33m\u001b[0m\u001b[0m\n\u001b[0;32m   5489\u001b[0m     \u001b[1;32mdef\u001b[0m \u001b[0m__setattr__\u001b[0m\u001b[1;33m(\u001b[0m\u001b[0mself\u001b[0m\u001b[1;33m,\u001b[0m \u001b[0mname\u001b[0m\u001b[1;33m:\u001b[0m \u001b[0mstr\u001b[0m\u001b[1;33m,\u001b[0m \u001b[0mvalue\u001b[0m\u001b[1;33m)\u001b[0m \u001b[1;33m->\u001b[0m \u001b[1;32mNone\u001b[0m\u001b[1;33m:\u001b[0m\u001b[1;33m\u001b[0m\u001b[1;33m\u001b[0m\u001b[0m\n",
      "\u001b[1;31mAttributeError\u001b[0m: 'DataFrame' object has no attribute 'type'"
     ]
    }
   ],
   "source": [
    "df.type"
   ]
  },
  {
   "cell_type": "code",
   "execution_count": 36,
   "id": "9ef74ca4",
   "metadata": {},
   "outputs": [
    {
     "data": {
      "text/html": [
       "<div>\n",
       "<style scoped>\n",
       "    .dataframe tbody tr th:only-of-type {\n",
       "        vertical-align: middle;\n",
       "    }\n",
       "\n",
       "    .dataframe tbody tr th {\n",
       "        vertical-align: top;\n",
       "    }\n",
       "\n",
       "    .dataframe thead th {\n",
       "        text-align: right;\n",
       "    }\n",
       "</style>\n",
       "<table border=\"1\" class=\"dataframe\">\n",
       "  <thead>\n",
       "    <tr style=\"text-align: right;\">\n",
       "      <th></th>\n",
       "      <th>YEAR</th>\n",
       "      <th>WARNER BROS</th>\n",
       "      <th>WALT DISNEY</th>\n",
       "      <th>20TH CENTURY FOX</th>\n",
       "      <th>PARAMOUNT PICTURES</th>\n",
       "      <th>SONY PICTURES</th>\n",
       "      <th>UNIVERSAL</th>\n",
       "      <th>TOTAL MAJOR 6</th>\n",
       "      <th>TOTAL OTHER STUDIOS</th>\n",
       "      <th>TICKETS SOLD</th>\n",
       "      <th>TOTAL BOX OFFICE</th>\n",
       "      <th>TOTAL INFLATION ADJUSTED BOX OFFICE</th>\n",
       "      <th>AVERAGE TICKET PRICE</th>\n",
       "    </tr>\n",
       "  </thead>\n",
       "  <tbody>\n",
       "    <tr>\n",
       "      <th>0</th>\n",
       "      <td>2021</td>\n",
       "      <td>17</td>\n",
       "      <td>7</td>\n",
       "      <td>0</td>\n",
       "      <td>4</td>\n",
       "      <td>16</td>\n",
       "      <td>17</td>\n",
       "      <td>61</td>\n",
       "      <td>38</td>\n",
       "      <td>423774881</td>\n",
       "      <td>3881777912</td>\n",
       "      <td>3881777912</td>\n",
       "      <td>9.16</td>\n",
       "    </tr>\n",
       "    <tr>\n",
       "      <th>1</th>\n",
       "      <td>2020</td>\n",
       "      <td>5</td>\n",
       "      <td>3</td>\n",
       "      <td>1</td>\n",
       "      <td>3</td>\n",
       "      <td>9</td>\n",
       "      <td>13</td>\n",
       "      <td>34</td>\n",
       "      <td>23</td>\n",
       "      <td>223638958</td>\n",
       "      <td>2048534616</td>\n",
       "      <td>2048534616</td>\n",
       "      <td>9.16</td>\n",
       "    </tr>\n",
       "    <tr>\n",
       "      <th>2</th>\n",
       "      <td>2019</td>\n",
       "      <td>18</td>\n",
       "      <td>10</td>\n",
       "      <td>11</td>\n",
       "      <td>9</td>\n",
       "      <td>18</td>\n",
       "      <td>21</td>\n",
       "      <td>87</td>\n",
       "      <td>44</td>\n",
       "      <td>1228541629</td>\n",
       "      <td>11253443955</td>\n",
       "      <td>11253444050</td>\n",
       "      <td>9.16</td>\n",
       "    </tr>\n",
       "    <tr>\n",
       "      <th>3</th>\n",
       "      <td>2018</td>\n",
       "      <td>19</td>\n",
       "      <td>10</td>\n",
       "      <td>11</td>\n",
       "      <td>10</td>\n",
       "      <td>16</td>\n",
       "      <td>20</td>\n",
       "      <td>86</td>\n",
       "      <td>58</td>\n",
       "      <td>1311536128</td>\n",
       "      <td>11948096650</td>\n",
       "      <td>12013670952</td>\n",
       "      <td>9.11</td>\n",
       "    </tr>\n",
       "    <tr>\n",
       "      <th>4</th>\n",
       "      <td>2017</td>\n",
       "      <td>18</td>\n",
       "      <td>8</td>\n",
       "      <td>14</td>\n",
       "      <td>10</td>\n",
       "      <td>16</td>\n",
       "      <td>15</td>\n",
       "      <td>81</td>\n",
       "      <td>50</td>\n",
       "      <td>1225639761</td>\n",
       "      <td>10993991460</td>\n",
       "      <td>11226860216</td>\n",
       "      <td>8.97</td>\n",
       "    </tr>\n",
       "  </tbody>\n",
       "</table>\n",
       "</div>"
      ],
      "text/plain": [
       "   YEAR  WARNER BROS  WALT DISNEY  20TH CENTURY FOX  PARAMOUNT PICTURES  \\\n",
       "0  2021           17            7                 0                   4   \n",
       "1  2020            5            3                 1                   3   \n",
       "2  2019           18           10                11                   9   \n",
       "3  2018           19           10                11                  10   \n",
       "4  2017           18            8                14                  10   \n",
       "\n",
       "   SONY PICTURES  UNIVERSAL  TOTAL MAJOR 6  TOTAL OTHER STUDIOS  TICKETS SOLD  \\\n",
       "0             16         17             61                   38     423774881   \n",
       "1              9         13             34                   23     223638958   \n",
       "2             18         21             87                   44    1228541629   \n",
       "3             16         20             86                   58    1311536128   \n",
       "4             16         15             81                   50    1225639761   \n",
       "\n",
       "   TOTAL BOX OFFICE  TOTAL INFLATION ADJUSTED BOX OFFICE  AVERAGE TICKET PRICE  \n",
       "0        3881777912                           3881777912                  9.16  \n",
       "1        2048534616                           2048534616                  9.16  \n",
       "2       11253443955                          11253444050                  9.16  \n",
       "3       11948096650                          12013670952                  9.11  \n",
       "4       10993991460                          11226860216                  8.97  "
      ]
     },
     "execution_count": 36,
     "metadata": {},
     "output_type": "execute_result"
    }
   ],
   "source": [
    "df.head()"
   ]
  },
  {
   "cell_type": "markdown",
   "id": "79a470f7",
   "metadata": {},
   "source": [
    "## TOP dristibutor Data"
   ]
  },
  {
   "cell_type": "code",
   "execution_count": 56,
   "id": "f993dff3",
   "metadata": {},
   "outputs": [],
   "source": [
    "df3=pd.read_csv(\"TopDistributors.csv\")"
   ]
  },
  {
   "cell_type": "code",
   "execution_count": 57,
   "id": "18962a74",
   "metadata": {},
   "outputs": [
    {
     "data": {
      "text/html": [
       "<div>\n",
       "<style scoped>\n",
       "    .dataframe tbody tr th:only-of-type {\n",
       "        vertical-align: middle;\n",
       "    }\n",
       "\n",
       "    .dataframe tbody tr th {\n",
       "        vertical-align: top;\n",
       "    }\n",
       "\n",
       "    .dataframe thead th {\n",
       "        text-align: right;\n",
       "    }\n",
       "</style>\n",
       "<table border=\"1\" class=\"dataframe\">\n",
       "  <thead>\n",
       "    <tr style=\"text-align: right;\">\n",
       "      <th></th>\n",
       "      <th>RANK\\tDISTRIBUTORS\\tMOVIES\\tTOTAL GROSS\\tAVERAGE GROSS\\tMARKET SHARE</th>\n",
       "      <th>Unnamed: 1</th>\n",
       "      <th>Unnamed: 2</th>\n",
       "      <th>Unnamed: 3</th>\n",
       "      <th>Unnamed: 4</th>\n",
       "      <th>Unnamed: 5</th>\n",
       "    </tr>\n",
       "  </thead>\n",
       "  <tbody>\n",
       "    <tr>\n",
       "      <th>0</th>\n",
       "      <td>1\\tWalt Disney\\t588\\t\"$40</td>\n",
       "      <td>472</td>\n",
       "      <td>424</td>\n",
       "      <td>278 \"\\t\"$68</td>\n",
       "      <td>830</td>\n",
       "      <td>654 \"\\t17.02%</td>\n",
       "    </tr>\n",
       "    <tr>\n",
       "      <th>1</th>\n",
       "      <td>2\\tWarner Bros.\\t824\\t\"$36</td>\n",
       "      <td>269</td>\n",
       "      <td>425</td>\n",
       "      <td>479 \"\\t\"$44</td>\n",
       "      <td>16</td>\n",
       "      <td>293 \"\\t15.25%</td>\n",
       "    </tr>\n",
       "    <tr>\n",
       "      <th>2</th>\n",
       "      <td>3\\tSony Pictures\\t747\\t\"$29</td>\n",
       "      <td>113</td>\n",
       "      <td>2</td>\n",
       "      <td>302 \"\\t\"$38</td>\n",
       "      <td>973</td>\n",
       "      <td>229 \"\\t12.24%</td>\n",
       "    </tr>\n",
       "    <tr>\n",
       "      <th>3</th>\n",
       "      <td>4\\tUniversal\\t535\\t\"$28</td>\n",
       "      <td>89</td>\n",
       "      <td>932</td>\n",
       "      <td>569 \"\\t\"$52</td>\n",
       "      <td>504</td>\n",
       "      <td>547 \"\\t11.81%</td>\n",
       "    </tr>\n",
       "    <tr>\n",
       "      <th>4</th>\n",
       "      <td>5\\t20th Century Fox\\t525\\t\"$25</td>\n",
       "      <td>857</td>\n",
       "      <td>839</td>\n",
       "      <td>756 \"\\t\"$49</td>\n",
       "      <td>253</td>\n",
       "      <td>028 \"\\t10.88%</td>\n",
       "    </tr>\n",
       "  </tbody>\n",
       "</table>\n",
       "</div>"
      ],
      "text/plain": [
       "  RANK\\tDISTRIBUTORS\\tMOVIES\\tTOTAL GROSS\\tAVERAGE GROSS\\tMARKET SHARE  \\\n",
       "0                          1\\tWalt Disney\\t588\\t\"$40                     \n",
       "1                         2\\tWarner Bros.\\t824\\t\"$36                     \n",
       "2                        3\\tSony Pictures\\t747\\t\"$29                     \n",
       "3                            4\\tUniversal\\t535\\t\"$28                     \n",
       "4                     5\\t20th Century Fox\\t525\\t\"$25                     \n",
       "\n",
       "   Unnamed: 1  Unnamed: 2   Unnamed: 3  Unnamed: 4     Unnamed: 5  \n",
       "0         472         424  278 \"\\t\"$68         830  654 \"\\t17.02%  \n",
       "1         269         425  479 \"\\t\"$44          16  293 \"\\t15.25%  \n",
       "2         113           2  302 \"\\t\"$38         973  229 \"\\t12.24%  \n",
       "3          89         932  569 \"\\t\"$52         504  547 \"\\t11.81%  \n",
       "4         857         839  756 \"\\t\"$49         253  028 \"\\t10.88%  "
      ]
     },
     "execution_count": 57,
     "metadata": {},
     "output_type": "execute_result"
    }
   ],
   "source": [
    "df3.head()"
   ]
  },
  {
   "cell_type": "code",
   "execution_count": 38,
   "id": "f2882029",
   "metadata": {},
   "outputs": [
    {
     "data": {
      "text/html": [
       "<div>\n",
       "<style scoped>\n",
       "    .dataframe tbody tr th:only-of-type {\n",
       "        vertical-align: middle;\n",
       "    }\n",
       "\n",
       "    .dataframe tbody tr th {\n",
       "        vertical-align: top;\n",
       "    }\n",
       "\n",
       "    .dataframe thead th {\n",
       "        text-align: right;\n",
       "    }\n",
       "</style>\n",
       "<table border=\"1\" class=\"dataframe\">\n",
       "  <thead>\n",
       "    <tr style=\"text-align: right;\">\n",
       "      <th></th>\n",
       "      <th>a</th>\n",
       "      <th>b</th>\n",
       "      <th>c</th>\n",
       "      <th>d</th>\n",
       "      <th>e</th>\n",
       "      <th>f</th>\n",
       "    </tr>\n",
       "  </thead>\n",
       "  <tbody>\n",
       "    <tr>\n",
       "      <th>0</th>\n",
       "      <td>1\\tWalt Disney\\t588\\t\"$40</td>\n",
       "      <td>472</td>\n",
       "      <td>424</td>\n",
       "      <td>278 \"\\t\"$68</td>\n",
       "      <td>830</td>\n",
       "      <td>654 \"\\t17.02%</td>\n",
       "    </tr>\n",
       "    <tr>\n",
       "      <th>1</th>\n",
       "      <td>2\\tWarner Bros.\\t824\\t\"$36</td>\n",
       "      <td>269</td>\n",
       "      <td>425</td>\n",
       "      <td>479 \"\\t\"$44</td>\n",
       "      <td>16</td>\n",
       "      <td>293 \"\\t15.25%</td>\n",
       "    </tr>\n",
       "    <tr>\n",
       "      <th>2</th>\n",
       "      <td>3\\tSony Pictures\\t747\\t\"$29</td>\n",
       "      <td>113</td>\n",
       "      <td>2</td>\n",
       "      <td>302 \"\\t\"$38</td>\n",
       "      <td>973</td>\n",
       "      <td>229 \"\\t12.24%</td>\n",
       "    </tr>\n",
       "    <tr>\n",
       "      <th>3</th>\n",
       "      <td>4\\tUniversal\\t535\\t\"$28</td>\n",
       "      <td>89</td>\n",
       "      <td>932</td>\n",
       "      <td>569 \"\\t\"$52</td>\n",
       "      <td>504</td>\n",
       "      <td>547 \"\\t11.81%</td>\n",
       "    </tr>\n",
       "    <tr>\n",
       "      <th>4</th>\n",
       "      <td>5\\t20th Century Fox\\t525\\t\"$25</td>\n",
       "      <td>857</td>\n",
       "      <td>839</td>\n",
       "      <td>756 \"\\t\"$49</td>\n",
       "      <td>253</td>\n",
       "      <td>028 \"\\t10.88%</td>\n",
       "    </tr>\n",
       "    <tr>\n",
       "      <th>5</th>\n",
       "      <td>6\\tParamount Pictures\\t493\\t\"$24</td>\n",
       "      <td>361</td>\n",
       "      <td>425</td>\n",
       "      <td>304 \"\\t\"$49</td>\n",
       "      <td>414</td>\n",
       "      <td>656 \"\\t10.25%</td>\n",
       "    </tr>\n",
       "    <tr>\n",
       "      <th>6</th>\n",
       "      <td>7\\tLionsgate\\t426\\t\"$9</td>\n",
       "      <td>631</td>\n",
       "      <td>837</td>\n",
       "      <td>781 \"\\t\"$22</td>\n",
       "      <td>609</td>\n",
       "      <td>948 \"\\t4.05%</td>\n",
       "    </tr>\n",
       "    <tr>\n",
       "      <th>7</th>\n",
       "      <td>8\\tNew Line\\t209\\t\"$6</td>\n",
       "      <td>195</td>\n",
       "      <td>268</td>\n",
       "      <td>024 \"\\t\"$29</td>\n",
       "      <td>642</td>\n",
       "      <td>431 \"\\t2.61%</td>\n",
       "    </tr>\n",
       "    <tr>\n",
       "      <th>8</th>\n",
       "      <td>9\\tDreamworks SKG\\t77\\t\"$4</td>\n",
       "      <td>278</td>\n",
       "      <td>649</td>\n",
       "      <td>271 \"\\t\"$55</td>\n",
       "      <td>566</td>\n",
       "      <td>874 \"\\t1.80%</td>\n",
       "    </tr>\n",
       "    <tr>\n",
       "      <th>9</th>\n",
       "      <td>10\\tMiramax\\t385\\t\"$3</td>\n",
       "      <td>836</td>\n",
       "      <td>19</td>\n",
       "      <td>208 \"\\t\"$9</td>\n",
       "      <td>963</td>\n",
       "      <td>686 \"\\t1.61%</td>\n",
       "    </tr>\n",
       "  </tbody>\n",
       "</table>\n",
       "</div>"
      ],
      "text/plain": [
       "                                  a    b    c            d    e              f\n",
       "0         1\\tWalt Disney\\t588\\t\"$40  472  424  278 \"\\t\"$68  830  654 \"\\t17.02%\n",
       "1        2\\tWarner Bros.\\t824\\t\"$36  269  425  479 \"\\t\"$44   16  293 \"\\t15.25%\n",
       "2       3\\tSony Pictures\\t747\\t\"$29  113    2  302 \"\\t\"$38  973  229 \"\\t12.24%\n",
       "3           4\\tUniversal\\t535\\t\"$28   89  932  569 \"\\t\"$52  504  547 \"\\t11.81%\n",
       "4    5\\t20th Century Fox\\t525\\t\"$25  857  839  756 \"\\t\"$49  253  028 \"\\t10.88%\n",
       "5  6\\tParamount Pictures\\t493\\t\"$24  361  425  304 \"\\t\"$49  414  656 \"\\t10.25%\n",
       "6            7\\tLionsgate\\t426\\t\"$9  631  837  781 \"\\t\"$22  609   948 \"\\t4.05%\n",
       "7             8\\tNew Line\\t209\\t\"$6  195  268  024 \"\\t\"$29  642   431 \"\\t2.61%\n",
       "8        9\\tDreamworks SKG\\t77\\t\"$4  278  649  271 \"\\t\"$55  566   874 \"\\t1.80%\n",
       "9             10\\tMiramax\\t385\\t\"$3  836   19   208 \"\\t\"$9  963   686 \"\\t1.61%"
      ]
     },
     "execution_count": 38,
     "metadata": {},
     "output_type": "execute_result"
    }
   ],
   "source": [
    "df3.set_axis([\"a\",\"b\",\"c\",\"d\",\"e\",\"f\"], axis=1)"
   ]
  },
  {
   "cell_type": "code",
   "execution_count": 39,
   "id": "011e07f9",
   "metadata": {},
   "outputs": [
    {
     "ename": "KeyError",
     "evalue": "\"['b' 'c' 'd' 'e'] not found in axis\"",
     "output_type": "error",
     "traceback": [
      "\u001b[1;31m---------------------------------------------------------------------------\u001b[0m",
      "\u001b[1;31mKeyError\u001b[0m                                  Traceback (most recent call last)",
      "\u001b[1;32m~\\AppData\\Local\\Temp/ipykernel_14212/3691738269.py\u001b[0m in \u001b[0;36m<module>\u001b[1;34m\u001b[0m\n\u001b[1;32m----> 1\u001b[1;33m \u001b[0mdf3\u001b[0m\u001b[1;33m.\u001b[0m\u001b[0mdrop\u001b[0m\u001b[1;33m(\u001b[0m\u001b[0mlabels\u001b[0m\u001b[1;33m=\u001b[0m\u001b[1;33m[\u001b[0m\u001b[1;34m\"b\"\u001b[0m\u001b[1;33m,\u001b[0m\u001b[1;34m\"c\"\u001b[0m\u001b[1;33m,\u001b[0m\u001b[1;34m\"d\"\u001b[0m\u001b[1;33m,\u001b[0m\u001b[1;34m\"e\"\u001b[0m\u001b[1;33m]\u001b[0m\u001b[1;33m,\u001b[0m \u001b[0maxis\u001b[0m\u001b[1;33m=\u001b[0m\u001b[1;36m1\u001b[0m\u001b[1;33m)\u001b[0m\u001b[1;33m\u001b[0m\u001b[1;33m\u001b[0m\u001b[0m\n\u001b[0m",
      "\u001b[1;32mE:\\anaconda\\lib\\site-packages\\pandas\\util\\_decorators.py\u001b[0m in \u001b[0;36mwrapper\u001b[1;34m(*args, **kwargs)\u001b[0m\n\u001b[0;32m    309\u001b[0m                     \u001b[0mstacklevel\u001b[0m\u001b[1;33m=\u001b[0m\u001b[0mstacklevel\u001b[0m\u001b[1;33m,\u001b[0m\u001b[1;33m\u001b[0m\u001b[1;33m\u001b[0m\u001b[0m\n\u001b[0;32m    310\u001b[0m                 )\n\u001b[1;32m--> 311\u001b[1;33m             \u001b[1;32mreturn\u001b[0m \u001b[0mfunc\u001b[0m\u001b[1;33m(\u001b[0m\u001b[1;33m*\u001b[0m\u001b[0margs\u001b[0m\u001b[1;33m,\u001b[0m \u001b[1;33m**\u001b[0m\u001b[0mkwargs\u001b[0m\u001b[1;33m)\u001b[0m\u001b[1;33m\u001b[0m\u001b[1;33m\u001b[0m\u001b[0m\n\u001b[0m\u001b[0;32m    312\u001b[0m \u001b[1;33m\u001b[0m\u001b[0m\n\u001b[0;32m    313\u001b[0m         \u001b[1;32mreturn\u001b[0m \u001b[0mwrapper\u001b[0m\u001b[1;33m\u001b[0m\u001b[1;33m\u001b[0m\u001b[0m\n",
      "\u001b[1;32mE:\\anaconda\\lib\\site-packages\\pandas\\core\\frame.py\u001b[0m in \u001b[0;36mdrop\u001b[1;34m(self, labels, axis, index, columns, level, inplace, errors)\u001b[0m\n\u001b[0;32m   4904\u001b[0m                 \u001b[0mweight\u001b[0m  \u001b[1;36m1.0\u001b[0m     \u001b[1;36m0.8\u001b[0m\u001b[1;33m\u001b[0m\u001b[1;33m\u001b[0m\u001b[0m\n\u001b[0;32m   4905\u001b[0m         \"\"\"\n\u001b[1;32m-> 4906\u001b[1;33m         return super().drop(\n\u001b[0m\u001b[0;32m   4907\u001b[0m             \u001b[0mlabels\u001b[0m\u001b[1;33m=\u001b[0m\u001b[0mlabels\u001b[0m\u001b[1;33m,\u001b[0m\u001b[1;33m\u001b[0m\u001b[1;33m\u001b[0m\u001b[0m\n\u001b[0;32m   4908\u001b[0m             \u001b[0maxis\u001b[0m\u001b[1;33m=\u001b[0m\u001b[0maxis\u001b[0m\u001b[1;33m,\u001b[0m\u001b[1;33m\u001b[0m\u001b[1;33m\u001b[0m\u001b[0m\n",
      "\u001b[1;32mE:\\anaconda\\lib\\site-packages\\pandas\\core\\generic.py\u001b[0m in \u001b[0;36mdrop\u001b[1;34m(self, labels, axis, index, columns, level, inplace, errors)\u001b[0m\n\u001b[0;32m   4148\u001b[0m         \u001b[1;32mfor\u001b[0m \u001b[0maxis\u001b[0m\u001b[1;33m,\u001b[0m \u001b[0mlabels\u001b[0m \u001b[1;32min\u001b[0m \u001b[0maxes\u001b[0m\u001b[1;33m.\u001b[0m\u001b[0mitems\u001b[0m\u001b[1;33m(\u001b[0m\u001b[1;33m)\u001b[0m\u001b[1;33m:\u001b[0m\u001b[1;33m\u001b[0m\u001b[1;33m\u001b[0m\u001b[0m\n\u001b[0;32m   4149\u001b[0m             \u001b[1;32mif\u001b[0m \u001b[0mlabels\u001b[0m \u001b[1;32mis\u001b[0m \u001b[1;32mnot\u001b[0m \u001b[1;32mNone\u001b[0m\u001b[1;33m:\u001b[0m\u001b[1;33m\u001b[0m\u001b[1;33m\u001b[0m\u001b[0m\n\u001b[1;32m-> 4150\u001b[1;33m                 \u001b[0mobj\u001b[0m \u001b[1;33m=\u001b[0m \u001b[0mobj\u001b[0m\u001b[1;33m.\u001b[0m\u001b[0m_drop_axis\u001b[0m\u001b[1;33m(\u001b[0m\u001b[0mlabels\u001b[0m\u001b[1;33m,\u001b[0m \u001b[0maxis\u001b[0m\u001b[1;33m,\u001b[0m \u001b[0mlevel\u001b[0m\u001b[1;33m=\u001b[0m\u001b[0mlevel\u001b[0m\u001b[1;33m,\u001b[0m \u001b[0merrors\u001b[0m\u001b[1;33m=\u001b[0m\u001b[0merrors\u001b[0m\u001b[1;33m)\u001b[0m\u001b[1;33m\u001b[0m\u001b[1;33m\u001b[0m\u001b[0m\n\u001b[0m\u001b[0;32m   4151\u001b[0m \u001b[1;33m\u001b[0m\u001b[0m\n\u001b[0;32m   4152\u001b[0m         \u001b[1;32mif\u001b[0m \u001b[0minplace\u001b[0m\u001b[1;33m:\u001b[0m\u001b[1;33m\u001b[0m\u001b[1;33m\u001b[0m\u001b[0m\n",
      "\u001b[1;32mE:\\anaconda\\lib\\site-packages\\pandas\\core\\generic.py\u001b[0m in \u001b[0;36m_drop_axis\u001b[1;34m(self, labels, axis, level, errors)\u001b[0m\n\u001b[0;32m   4183\u001b[0m                 \u001b[0mnew_axis\u001b[0m \u001b[1;33m=\u001b[0m \u001b[0maxis\u001b[0m\u001b[1;33m.\u001b[0m\u001b[0mdrop\u001b[0m\u001b[1;33m(\u001b[0m\u001b[0mlabels\u001b[0m\u001b[1;33m,\u001b[0m \u001b[0mlevel\u001b[0m\u001b[1;33m=\u001b[0m\u001b[0mlevel\u001b[0m\u001b[1;33m,\u001b[0m \u001b[0merrors\u001b[0m\u001b[1;33m=\u001b[0m\u001b[0merrors\u001b[0m\u001b[1;33m)\u001b[0m\u001b[1;33m\u001b[0m\u001b[1;33m\u001b[0m\u001b[0m\n\u001b[0;32m   4184\u001b[0m             \u001b[1;32melse\u001b[0m\u001b[1;33m:\u001b[0m\u001b[1;33m\u001b[0m\u001b[1;33m\u001b[0m\u001b[0m\n\u001b[1;32m-> 4185\u001b[1;33m                 \u001b[0mnew_axis\u001b[0m \u001b[1;33m=\u001b[0m \u001b[0maxis\u001b[0m\u001b[1;33m.\u001b[0m\u001b[0mdrop\u001b[0m\u001b[1;33m(\u001b[0m\u001b[0mlabels\u001b[0m\u001b[1;33m,\u001b[0m \u001b[0merrors\u001b[0m\u001b[1;33m=\u001b[0m\u001b[0merrors\u001b[0m\u001b[1;33m)\u001b[0m\u001b[1;33m\u001b[0m\u001b[1;33m\u001b[0m\u001b[0m\n\u001b[0m\u001b[0;32m   4186\u001b[0m             \u001b[0mresult\u001b[0m \u001b[1;33m=\u001b[0m \u001b[0mself\u001b[0m\u001b[1;33m.\u001b[0m\u001b[0mreindex\u001b[0m\u001b[1;33m(\u001b[0m\u001b[1;33m**\u001b[0m\u001b[1;33m{\u001b[0m\u001b[0maxis_name\u001b[0m\u001b[1;33m:\u001b[0m \u001b[0mnew_axis\u001b[0m\u001b[1;33m}\u001b[0m\u001b[1;33m)\u001b[0m\u001b[1;33m\u001b[0m\u001b[1;33m\u001b[0m\u001b[0m\n\u001b[0;32m   4187\u001b[0m \u001b[1;33m\u001b[0m\u001b[0m\n",
      "\u001b[1;32mE:\\anaconda\\lib\\site-packages\\pandas\\core\\indexes\\base.py\u001b[0m in \u001b[0;36mdrop\u001b[1;34m(self, labels, errors)\u001b[0m\n\u001b[0;32m   6015\u001b[0m         \u001b[1;32mif\u001b[0m \u001b[0mmask\u001b[0m\u001b[1;33m.\u001b[0m\u001b[0many\u001b[0m\u001b[1;33m(\u001b[0m\u001b[1;33m)\u001b[0m\u001b[1;33m:\u001b[0m\u001b[1;33m\u001b[0m\u001b[1;33m\u001b[0m\u001b[0m\n\u001b[0;32m   6016\u001b[0m             \u001b[1;32mif\u001b[0m \u001b[0merrors\u001b[0m \u001b[1;33m!=\u001b[0m \u001b[1;34m\"ignore\"\u001b[0m\u001b[1;33m:\u001b[0m\u001b[1;33m\u001b[0m\u001b[1;33m\u001b[0m\u001b[0m\n\u001b[1;32m-> 6017\u001b[1;33m                 \u001b[1;32mraise\u001b[0m \u001b[0mKeyError\u001b[0m\u001b[1;33m(\u001b[0m\u001b[1;34mf\"{labels[mask]} not found in axis\"\u001b[0m\u001b[1;33m)\u001b[0m\u001b[1;33m\u001b[0m\u001b[1;33m\u001b[0m\u001b[0m\n\u001b[0m\u001b[0;32m   6018\u001b[0m             \u001b[0mindexer\u001b[0m \u001b[1;33m=\u001b[0m \u001b[0mindexer\u001b[0m\u001b[1;33m[\u001b[0m\u001b[1;33m~\u001b[0m\u001b[0mmask\u001b[0m\u001b[1;33m]\u001b[0m\u001b[1;33m\u001b[0m\u001b[1;33m\u001b[0m\u001b[0m\n\u001b[0;32m   6019\u001b[0m         \u001b[1;32mreturn\u001b[0m \u001b[0mself\u001b[0m\u001b[1;33m.\u001b[0m\u001b[0mdelete\u001b[0m\u001b[1;33m(\u001b[0m\u001b[0mindexer\u001b[0m\u001b[1;33m)\u001b[0m\u001b[1;33m\u001b[0m\u001b[1;33m\u001b[0m\u001b[0m\n",
      "\u001b[1;31mKeyError\u001b[0m: \"['b' 'c' 'd' 'e'] not found in axis\""
     ]
    }
   ],
   "source": [
    "df3.drop(labels=[\"b\",\"c\",\"d\",\"e\"], axis=1)"
   ]
  },
  {
   "cell_type": "code",
   "execution_count": 58,
   "id": "3841aca5",
   "metadata": {},
   "outputs": [],
   "source": [
    "df4=df3.set_axis([\"a\",\"b\",\"c\",\"d\",\"e\",\"f\"], axis=1)"
   ]
  },
  {
   "cell_type": "code",
   "execution_count": 59,
   "id": "39a11236",
   "metadata": {},
   "outputs": [],
   "source": [
    "df5=df4.drop(labels=[\"b\",\"c\",\"d\",\"e\"], axis=1)"
   ]
  },
  {
   "cell_type": "code",
   "execution_count": 60,
   "id": "43f6500a",
   "metadata": {},
   "outputs": [
    {
     "data": {
      "text/html": [
       "<div>\n",
       "<style scoped>\n",
       "    .dataframe tbody tr th:only-of-type {\n",
       "        vertical-align: middle;\n",
       "    }\n",
       "\n",
       "    .dataframe tbody tr th {\n",
       "        vertical-align: top;\n",
       "    }\n",
       "\n",
       "    .dataframe thead th {\n",
       "        text-align: right;\n",
       "    }\n",
       "</style>\n",
       "<table border=\"1\" class=\"dataframe\">\n",
       "  <thead>\n",
       "    <tr style=\"text-align: right;\">\n",
       "      <th></th>\n",
       "      <th>a</th>\n",
       "      <th>f</th>\n",
       "    </tr>\n",
       "  </thead>\n",
       "  <tbody>\n",
       "    <tr>\n",
       "      <th>0</th>\n",
       "      <td>1\\tWalt Disney\\t588\\t\"$40</td>\n",
       "      <td>654 \"\\t17.02%</td>\n",
       "    </tr>\n",
       "    <tr>\n",
       "      <th>1</th>\n",
       "      <td>2\\tWarner Bros.\\t824\\t\"$36</td>\n",
       "      <td>293 \"\\t15.25%</td>\n",
       "    </tr>\n",
       "    <tr>\n",
       "      <th>2</th>\n",
       "      <td>3\\tSony Pictures\\t747\\t\"$29</td>\n",
       "      <td>229 \"\\t12.24%</td>\n",
       "    </tr>\n",
       "    <tr>\n",
       "      <th>3</th>\n",
       "      <td>4\\tUniversal\\t535\\t\"$28</td>\n",
       "      <td>547 \"\\t11.81%</td>\n",
       "    </tr>\n",
       "    <tr>\n",
       "      <th>4</th>\n",
       "      <td>5\\t20th Century Fox\\t525\\t\"$25</td>\n",
       "      <td>028 \"\\t10.88%</td>\n",
       "    </tr>\n",
       "  </tbody>\n",
       "</table>\n",
       "</div>"
      ],
      "text/plain": [
       "                                a              f\n",
       "0       1\\tWalt Disney\\t588\\t\"$40  654 \"\\t17.02%\n",
       "1      2\\tWarner Bros.\\t824\\t\"$36  293 \"\\t15.25%\n",
       "2     3\\tSony Pictures\\t747\\t\"$29  229 \"\\t12.24%\n",
       "3         4\\tUniversal\\t535\\t\"$28  547 \"\\t11.81%\n",
       "4  5\\t20th Century Fox\\t525\\t\"$25  028 \"\\t10.88%"
      ]
     },
     "execution_count": 60,
     "metadata": {},
     "output_type": "execute_result"
    }
   ],
   "source": [
    "df5.head()"
   ]
  },
  {
   "cell_type": "code",
   "execution_count": 73,
   "id": "141ed95b",
   "metadata": {},
   "outputs": [
    {
     "ename": "SyntaxError",
     "evalue": "invalid syntax (Temp/ipykernel_14212/795888024.py, line 1)",
     "output_type": "error",
     "traceback": [
      "\u001b[1;36m  File \u001b[1;32m\"C:\\Users\\SHAHRIAR\\AppData\\Local\\Temp/ipykernel_14212/795888024.py\"\u001b[1;36m, line \u001b[1;32m1\u001b[0m\n\u001b[1;33m    df5[\"f]\"=df5[\"f\"].apply(lambda x: x.replace(\"%\", \"\"))\u001b[0m\n\u001b[1;37m            ^\u001b[0m\n\u001b[1;31mSyntaxError\u001b[0m\u001b[1;31m:\u001b[0m invalid syntax\n"
     ]
    }
   ],
   "source": [
    "df5[\"f]\"=df5[\"f\"].apply(lambda x: x.replace(\"%\", \"\"))"
   ]
  },
  {
   "cell_type": "code",
   "execution_count": 74,
   "id": "ff3a7ed9",
   "metadata": {},
   "outputs": [],
   "source": [
    "df5['f'] = df5['f'].apply(lambda x: x.replace(\"%\", \"\"))"
   ]
  },
  {
   "cell_type": "code",
   "execution_count": 75,
   "id": "34fc7720",
   "metadata": {},
   "outputs": [
    {
     "data": {
      "text/plain": [
       "(10, 3)"
      ]
     },
     "execution_count": 75,
     "metadata": {},
     "output_type": "execute_result"
    }
   ],
   "source": [
    "df5.shape"
   ]
  },
  {
   "cell_type": "code",
   "execution_count": 76,
   "id": "87fe753e",
   "metadata": {},
   "outputs": [
    {
     "data": {
      "text/plain": [
       "array(['654 \"\\t17.02', '293 \"\\t15.25', '229 \"\\t12.24', '547 \"\\t11.81',\n",
       "       '028 \"\\t10.88', '656 \"\\t10.25', '948 \"\\t4.05', '431 \"\\t2.61',\n",
       "       '874 \"\\t1.80', '686 \"\\t1.61'], dtype=object)"
      ]
     },
     "execution_count": 76,
     "metadata": {},
     "output_type": "execute_result"
    }
   ],
   "source": [
    "df5[\"f\"].unique()"
   ]
  },
  {
   "cell_type": "code",
   "execution_count": 77,
   "id": "8231e7be",
   "metadata": {},
   "outputs": [],
   "source": [
    "df5['f'] = df5['f'].apply(lambda x: x.replace(x[:-5], \"\"))"
   ]
  },
  {
   "cell_type": "code",
   "execution_count": 78,
   "id": "02a130f2",
   "metadata": {},
   "outputs": [
    {
     "data": {
      "text/plain": [
       "array(['17.02', '15.25', '12.24', '11.81', '10.88', '10.25', '\\t4.05',\n",
       "       '\\t2.61', '\\t1.80', '\\t1.61'], dtype=object)"
      ]
     },
     "execution_count": 78,
     "metadata": {},
     "output_type": "execute_result"
    }
   ],
   "source": [
    "df5[\"f\"].unique()"
   ]
  },
  {
   "cell_type": "code",
   "execution_count": 79,
   "id": "7b5fc9dc",
   "metadata": {},
   "outputs": [],
   "source": [
    "df5['f'] = df5['f'].apply(lambda x: float(x))"
   ]
  },
  {
   "cell_type": "code",
   "execution_count": 80,
   "id": "be0b0abb",
   "metadata": {},
   "outputs": [
    {
     "data": {
      "text/plain": [
       "array([17.02, 15.25, 12.24, 11.81, 10.88, 10.25,  4.05,  2.61,  1.8 ,\n",
       "        1.61])"
      ]
     },
     "execution_count": 80,
     "metadata": {},
     "output_type": "execute_result"
    }
   ],
   "source": [
    "df5[\"f\"].unique()"
   ]
  },
  {
   "cell_type": "code",
   "execution_count": 82,
   "id": "ccf5d491",
   "metadata": {},
   "outputs": [],
   "source": [
    "df5[\"Rank\"]=df5[\"a\"].apply(lambda x: x[0])"
   ]
  },
  {
   "cell_type": "code",
   "execution_count": 83,
   "id": "8c67b9aa",
   "metadata": {},
   "outputs": [
    {
     "data": {
      "text/plain": [
       "array(['1', '2', '3', '4', '5', '6', '7', '8', '9'], dtype=object)"
      ]
     },
     "execution_count": 83,
     "metadata": {},
     "output_type": "execute_result"
    }
   ],
   "source": [
    "df5[\"Rank\"].unique()"
   ]
  },
  {
   "cell_type": "code",
   "execution_count": 84,
   "id": "e79c3f5d",
   "metadata": {},
   "outputs": [],
   "source": [
    "df5[\"Rank\"]=df5[\"Rank\"].apply(lambda x: int(x))"
   ]
  },
  {
   "cell_type": "code",
   "execution_count": 88,
   "id": "08318596",
   "metadata": {},
   "outputs": [
    {
     "data": {
      "text/html": [
       "<div>\n",
       "<style scoped>\n",
       "    .dataframe tbody tr th:only-of-type {\n",
       "        vertical-align: middle;\n",
       "    }\n",
       "\n",
       "    .dataframe tbody tr th {\n",
       "        vertical-align: top;\n",
       "    }\n",
       "\n",
       "    .dataframe thead th {\n",
       "        text-align: right;\n",
       "    }\n",
       "</style>\n",
       "<table border=\"1\" class=\"dataframe\">\n",
       "  <thead>\n",
       "    <tr style=\"text-align: right;\">\n",
       "      <th></th>\n",
       "      <th>a</th>\n",
       "      <th>f</th>\n",
       "      <th>Rank</th>\n",
       "    </tr>\n",
       "  </thead>\n",
       "  <tbody>\n",
       "    <tr>\n",
       "      <th>0</th>\n",
       "      <td>1\\tWalt Disney\\t588\\t\"$40</td>\n",
       "      <td>17.02</td>\n",
       "      <td>1</td>\n",
       "    </tr>\n",
       "    <tr>\n",
       "      <th>1</th>\n",
       "      <td>2\\tWarner Bros.\\t824\\t\"$36</td>\n",
       "      <td>15.25</td>\n",
       "      <td>2</td>\n",
       "    </tr>\n",
       "    <tr>\n",
       "      <th>2</th>\n",
       "      <td>3\\tSony Pictures\\t747\\t\"$29</td>\n",
       "      <td>12.24</td>\n",
       "      <td>3</td>\n",
       "    </tr>\n",
       "    <tr>\n",
       "      <th>3</th>\n",
       "      <td>4\\tUniversal\\t535\\t\"$28</td>\n",
       "      <td>11.81</td>\n",
       "      <td>4</td>\n",
       "    </tr>\n",
       "    <tr>\n",
       "      <th>4</th>\n",
       "      <td>5\\t20th Century Fox\\t525\\t\"$25</td>\n",
       "      <td>10.88</td>\n",
       "      <td>5</td>\n",
       "    </tr>\n",
       "    <tr>\n",
       "      <th>5</th>\n",
       "      <td>6\\tParamount Pictures\\t493\\t\"$24</td>\n",
       "      <td>10.25</td>\n",
       "      <td>6</td>\n",
       "    </tr>\n",
       "    <tr>\n",
       "      <th>6</th>\n",
       "      <td>7\\tLionsgate\\t426\\t\"$9</td>\n",
       "      <td>4.05</td>\n",
       "      <td>7</td>\n",
       "    </tr>\n",
       "    <tr>\n",
       "      <th>7</th>\n",
       "      <td>8\\tNew Line\\t209\\t\"$6</td>\n",
       "      <td>2.61</td>\n",
       "      <td>8</td>\n",
       "    </tr>\n",
       "    <tr>\n",
       "      <th>8</th>\n",
       "      <td>9\\tDreamworks SKG\\t77\\t\"$4</td>\n",
       "      <td>1.80</td>\n",
       "      <td>9</td>\n",
       "    </tr>\n",
       "  </tbody>\n",
       "</table>\n",
       "</div>"
      ],
      "text/plain": [
       "                                  a      f  Rank\n",
       "0         1\\tWalt Disney\\t588\\t\"$40  17.02     1\n",
       "1        2\\tWarner Bros.\\t824\\t\"$36  15.25     2\n",
       "2       3\\tSony Pictures\\t747\\t\"$29  12.24     3\n",
       "3           4\\tUniversal\\t535\\t\"$28  11.81     4\n",
       "4    5\\t20th Century Fox\\t525\\t\"$25  10.88     5\n",
       "5  6\\tParamount Pictures\\t493\\t\"$24  10.25     6\n",
       "6            7\\tLionsgate\\t426\\t\"$9   4.05     7\n",
       "7             8\\tNew Line\\t209\\t\"$6   2.61     8\n",
       "8        9\\tDreamworks SKG\\t77\\t\"$4   1.80     9"
      ]
     },
     "execution_count": 88,
     "metadata": {},
     "output_type": "execute_result"
    }
   ],
   "source": [
    "df5.head(9)"
   ]
  },
  {
   "cell_type": "code",
   "execution_count": null,
   "id": "0a6cf43c",
   "metadata": {},
   "outputs": [],
   "source": []
  },
  {
   "cell_type": "markdown",
   "id": "5fd637b3",
   "metadata": {},
   "source": [
    "## How to use regex fuction here for separating the elements from column a"
   ]
  },
  {
   "cell_type": "code",
   "execution_count": null,
   "id": "fd1eb5ee",
   "metadata": {},
   "outputs": [],
   "source": []
  },
  {
   "cell_type": "code",
   "execution_count": null,
   "id": "e7943b14",
   "metadata": {},
   "outputs": [],
   "source": []
  },
  {
   "cell_type": "code",
   "execution_count": null,
   "id": "bc02af64",
   "metadata": {},
   "outputs": [],
   "source": []
  }
 ],
 "metadata": {
  "kernelspec": {
   "display_name": "Python 3 (ipykernel)",
   "language": "python",
   "name": "python3"
  },
  "language_info": {
   "codemirror_mode": {
    "name": "ipython",
    "version": 3
   },
   "file_extension": ".py",
   "mimetype": "text/x-python",
   "name": "python",
   "nbconvert_exporter": "python",
   "pygments_lexer": "ipython3",
   "version": "3.9.7"
  }
 },
 "nbformat": 4,
 "nbformat_minor": 5
}
