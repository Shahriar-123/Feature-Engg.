{
 "cells": [
  {
   "cell_type": "code",
   "execution_count": 59,
   "id": "38687027",
   "metadata": {},
   "outputs": [],
   "source": [
    "import pandas as pd\n",
    "import numpy as np"
   ]
  },
  {
   "cell_type": "code",
   "execution_count": 60,
   "id": "7a0c91b4",
   "metadata": {},
   "outputs": [],
   "source": [
    "df = pd.read_csv(\"googleplaystore/googleplaystore.csv\")"
   ]
  },
  {
   "cell_type": "code",
   "execution_count": 61,
   "id": "62e325e5",
   "metadata": {},
   "outputs": [
    {
     "data": {
      "text/html": [
       "<div>\n",
       "<style scoped>\n",
       "    .dataframe tbody tr th:only-of-type {\n",
       "        vertical-align: middle;\n",
       "    }\n",
       "\n",
       "    .dataframe tbody tr th {\n",
       "        vertical-align: top;\n",
       "    }\n",
       "\n",
       "    .dataframe thead th {\n",
       "        text-align: right;\n",
       "    }\n",
       "</style>\n",
       "<table border=\"1\" class=\"dataframe\">\n",
       "  <thead>\n",
       "    <tr style=\"text-align: right;\">\n",
       "      <th></th>\n",
       "      <th>App</th>\n",
       "      <th>Category</th>\n",
       "      <th>Rating</th>\n",
       "      <th>Reviews</th>\n",
       "      <th>Size</th>\n",
       "      <th>Installs</th>\n",
       "      <th>Type</th>\n",
       "      <th>Price</th>\n",
       "      <th>Content Rating</th>\n",
       "      <th>Genres</th>\n",
       "      <th>Last Updated</th>\n",
       "      <th>Current Ver</th>\n",
       "      <th>Android Ver</th>\n",
       "    </tr>\n",
       "  </thead>\n",
       "  <tbody>\n",
       "    <tr>\n",
       "      <th>0</th>\n",
       "      <td>Photo Editor &amp; Candy Camera &amp; Grid &amp; ScrapBook</td>\n",
       "      <td>ART_AND_DESIGN</td>\n",
       "      <td>4.1</td>\n",
       "      <td>159</td>\n",
       "      <td>19M</td>\n",
       "      <td>10,000+</td>\n",
       "      <td>Free</td>\n",
       "      <td>0</td>\n",
       "      <td>Everyone</td>\n",
       "      <td>Art &amp; Design</td>\n",
       "      <td>January 7, 2018</td>\n",
       "      <td>1.0.0</td>\n",
       "      <td>4.0.3 and up</td>\n",
       "    </tr>\n",
       "    <tr>\n",
       "      <th>1</th>\n",
       "      <td>Coloring book moana</td>\n",
       "      <td>ART_AND_DESIGN</td>\n",
       "      <td>3.9</td>\n",
       "      <td>967</td>\n",
       "      <td>14M</td>\n",
       "      <td>500,000+</td>\n",
       "      <td>Free</td>\n",
       "      <td>0</td>\n",
       "      <td>Everyone</td>\n",
       "      <td>Art &amp; Design;Pretend Play</td>\n",
       "      <td>January 15, 2018</td>\n",
       "      <td>2.0.0</td>\n",
       "      <td>4.0.3 and up</td>\n",
       "    </tr>\n",
       "    <tr>\n",
       "      <th>2</th>\n",
       "      <td>U Launcher Lite – FREE Live Cool Themes, Hide ...</td>\n",
       "      <td>ART_AND_DESIGN</td>\n",
       "      <td>4.7</td>\n",
       "      <td>87510</td>\n",
       "      <td>8.7M</td>\n",
       "      <td>5,000,000+</td>\n",
       "      <td>Free</td>\n",
       "      <td>0</td>\n",
       "      <td>Everyone</td>\n",
       "      <td>Art &amp; Design</td>\n",
       "      <td>August 1, 2018</td>\n",
       "      <td>1.2.4</td>\n",
       "      <td>4.0.3 and up</td>\n",
       "    </tr>\n",
       "    <tr>\n",
       "      <th>3</th>\n",
       "      <td>Sketch - Draw &amp; Paint</td>\n",
       "      <td>ART_AND_DESIGN</td>\n",
       "      <td>4.5</td>\n",
       "      <td>215644</td>\n",
       "      <td>25M</td>\n",
       "      <td>50,000,000+</td>\n",
       "      <td>Free</td>\n",
       "      <td>0</td>\n",
       "      <td>Teen</td>\n",
       "      <td>Art &amp; Design</td>\n",
       "      <td>June 8, 2018</td>\n",
       "      <td>Varies with device</td>\n",
       "      <td>4.2 and up</td>\n",
       "    </tr>\n",
       "    <tr>\n",
       "      <th>4</th>\n",
       "      <td>Pixel Draw - Number Art Coloring Book</td>\n",
       "      <td>ART_AND_DESIGN</td>\n",
       "      <td>4.3</td>\n",
       "      <td>967</td>\n",
       "      <td>2.8M</td>\n",
       "      <td>100,000+</td>\n",
       "      <td>Free</td>\n",
       "      <td>0</td>\n",
       "      <td>Everyone</td>\n",
       "      <td>Art &amp; Design;Creativity</td>\n",
       "      <td>June 20, 2018</td>\n",
       "      <td>1.1</td>\n",
       "      <td>4.4 and up</td>\n",
       "    </tr>\n",
       "  </tbody>\n",
       "</table>\n",
       "</div>"
      ],
      "text/plain": [
       "                                                 App        Category  Rating  \\\n",
       "0     Photo Editor & Candy Camera & Grid & ScrapBook  ART_AND_DESIGN     4.1   \n",
       "1                                Coloring book moana  ART_AND_DESIGN     3.9   \n",
       "2  U Launcher Lite – FREE Live Cool Themes, Hide ...  ART_AND_DESIGN     4.7   \n",
       "3                              Sketch - Draw & Paint  ART_AND_DESIGN     4.5   \n",
       "4              Pixel Draw - Number Art Coloring Book  ART_AND_DESIGN     4.3   \n",
       "\n",
       "  Reviews  Size     Installs  Type Price Content Rating  \\\n",
       "0     159   19M      10,000+  Free     0       Everyone   \n",
       "1     967   14M     500,000+  Free     0       Everyone   \n",
       "2   87510  8.7M   5,000,000+  Free     0       Everyone   \n",
       "3  215644   25M  50,000,000+  Free     0           Teen   \n",
       "4     967  2.8M     100,000+  Free     0       Everyone   \n",
       "\n",
       "                      Genres      Last Updated         Current Ver  \\\n",
       "0               Art & Design   January 7, 2018               1.0.0   \n",
       "1  Art & Design;Pretend Play  January 15, 2018               2.0.0   \n",
       "2               Art & Design    August 1, 2018               1.2.4   \n",
       "3               Art & Design      June 8, 2018  Varies with device   \n",
       "4    Art & Design;Creativity     June 20, 2018                 1.1   \n",
       "\n",
       "    Android Ver  \n",
       "0  4.0.3 and up  \n",
       "1  4.0.3 and up  \n",
       "2  4.0.3 and up  \n",
       "3    4.2 and up  \n",
       "4    4.4 and up  "
      ]
     },
     "execution_count": 61,
     "metadata": {},
     "output_type": "execute_result"
    }
   ],
   "source": [
    "df.head()"
   ]
  },
  {
   "cell_type": "code",
   "execution_count": 62,
   "id": "315f802a",
   "metadata": {},
   "outputs": [
    {
     "data": {
      "text/plain": [
       "(10841, 13)"
      ]
     },
     "execution_count": 62,
     "metadata": {},
     "output_type": "execute_result"
    }
   ],
   "source": [
    "df.shape"
   ]
  },
  {
   "cell_type": "code",
   "execution_count": 63,
   "id": "64310a1b",
   "metadata": {},
   "outputs": [
    {
     "data": {
      "text/plain": [
       "483"
      ]
     },
     "execution_count": 63,
     "metadata": {},
     "output_type": "execute_result"
    }
   ],
   "source": [
    "df.duplicated().sum()"
   ]
  },
  {
   "cell_type": "code",
   "execution_count": 64,
   "id": "abb6291b",
   "metadata": {},
   "outputs": [],
   "source": [
    "df.drop_duplicates(inplace=True)"
   ]
  },
  {
   "cell_type": "code",
   "execution_count": 65,
   "id": "82b3149e",
   "metadata": {},
   "outputs": [
    {
     "data": {
      "text/plain": [
       "0"
      ]
     },
     "execution_count": 65,
     "metadata": {},
     "output_type": "execute_result"
    }
   ],
   "source": [
    "df.duplicated().sum()"
   ]
  },
  {
   "cell_type": "code",
   "execution_count": 66,
   "id": "1a4d51eb",
   "metadata": {},
   "outputs": [
    {
     "data": {
      "text/plain": [
       "App                  0\n",
       "Category             0\n",
       "Rating            1465\n",
       "Reviews              0\n",
       "Size                 0\n",
       "Installs             0\n",
       "Type                 1\n",
       "Price                0\n",
       "Content Rating       1\n",
       "Genres               0\n",
       "Last Updated         0\n",
       "Current Ver          8\n",
       "Android Ver          3\n",
       "dtype: int64"
      ]
     },
     "execution_count": 66,
     "metadata": {},
     "output_type": "execute_result"
    }
   ],
   "source": [
    "df.isna().sum()"
   ]
  },
  {
   "cell_type": "code",
   "execution_count": 67,
   "id": "c38a9587",
   "metadata": {},
   "outputs": [],
   "source": [
    "df.drop('App', axis=1, inplace=True)"
   ]
  },
  {
   "cell_type": "code",
   "execution_count": 68,
   "id": "52f721e3",
   "metadata": {},
   "outputs": [
    {
     "data": {
      "text/html": [
       "<div>\n",
       "<style scoped>\n",
       "    .dataframe tbody tr th:only-of-type {\n",
       "        vertical-align: middle;\n",
       "    }\n",
       "\n",
       "    .dataframe tbody tr th {\n",
       "        vertical-align: top;\n",
       "    }\n",
       "\n",
       "    .dataframe thead th {\n",
       "        text-align: right;\n",
       "    }\n",
       "</style>\n",
       "<table border=\"1\" class=\"dataframe\">\n",
       "  <thead>\n",
       "    <tr style=\"text-align: right;\">\n",
       "      <th></th>\n",
       "      <th>Category</th>\n",
       "      <th>Rating</th>\n",
       "      <th>Reviews</th>\n",
       "      <th>Size</th>\n",
       "      <th>Installs</th>\n",
       "      <th>Type</th>\n",
       "      <th>Price</th>\n",
       "      <th>Content Rating</th>\n",
       "      <th>Genres</th>\n",
       "      <th>Last Updated</th>\n",
       "      <th>Current Ver</th>\n",
       "      <th>Android Ver</th>\n",
       "    </tr>\n",
       "  </thead>\n",
       "  <tbody>\n",
       "    <tr>\n",
       "      <th>0</th>\n",
       "      <td>ART_AND_DESIGN</td>\n",
       "      <td>4.1</td>\n",
       "      <td>159</td>\n",
       "      <td>19M</td>\n",
       "      <td>10,000+</td>\n",
       "      <td>Free</td>\n",
       "      <td>0</td>\n",
       "      <td>Everyone</td>\n",
       "      <td>Art &amp; Design</td>\n",
       "      <td>January 7, 2018</td>\n",
       "      <td>1.0.0</td>\n",
       "      <td>4.0.3 and up</td>\n",
       "    </tr>\n",
       "    <tr>\n",
       "      <th>1</th>\n",
       "      <td>ART_AND_DESIGN</td>\n",
       "      <td>3.9</td>\n",
       "      <td>967</td>\n",
       "      <td>14M</td>\n",
       "      <td>500,000+</td>\n",
       "      <td>Free</td>\n",
       "      <td>0</td>\n",
       "      <td>Everyone</td>\n",
       "      <td>Art &amp; Design;Pretend Play</td>\n",
       "      <td>January 15, 2018</td>\n",
       "      <td>2.0.0</td>\n",
       "      <td>4.0.3 and up</td>\n",
       "    </tr>\n",
       "    <tr>\n",
       "      <th>2</th>\n",
       "      <td>ART_AND_DESIGN</td>\n",
       "      <td>4.7</td>\n",
       "      <td>87510</td>\n",
       "      <td>8.7M</td>\n",
       "      <td>5,000,000+</td>\n",
       "      <td>Free</td>\n",
       "      <td>0</td>\n",
       "      <td>Everyone</td>\n",
       "      <td>Art &amp; Design</td>\n",
       "      <td>August 1, 2018</td>\n",
       "      <td>1.2.4</td>\n",
       "      <td>4.0.3 and up</td>\n",
       "    </tr>\n",
       "    <tr>\n",
       "      <th>3</th>\n",
       "      <td>ART_AND_DESIGN</td>\n",
       "      <td>4.5</td>\n",
       "      <td>215644</td>\n",
       "      <td>25M</td>\n",
       "      <td>50,000,000+</td>\n",
       "      <td>Free</td>\n",
       "      <td>0</td>\n",
       "      <td>Teen</td>\n",
       "      <td>Art &amp; Design</td>\n",
       "      <td>June 8, 2018</td>\n",
       "      <td>Varies with device</td>\n",
       "      <td>4.2 and up</td>\n",
       "    </tr>\n",
       "    <tr>\n",
       "      <th>4</th>\n",
       "      <td>ART_AND_DESIGN</td>\n",
       "      <td>4.3</td>\n",
       "      <td>967</td>\n",
       "      <td>2.8M</td>\n",
       "      <td>100,000+</td>\n",
       "      <td>Free</td>\n",
       "      <td>0</td>\n",
       "      <td>Everyone</td>\n",
       "      <td>Art &amp; Design;Creativity</td>\n",
       "      <td>June 20, 2018</td>\n",
       "      <td>1.1</td>\n",
       "      <td>4.4 and up</td>\n",
       "    </tr>\n",
       "  </tbody>\n",
       "</table>\n",
       "</div>"
      ],
      "text/plain": [
       "         Category  Rating Reviews  Size     Installs  Type Price  \\\n",
       "0  ART_AND_DESIGN     4.1     159   19M      10,000+  Free     0   \n",
       "1  ART_AND_DESIGN     3.9     967   14M     500,000+  Free     0   \n",
       "2  ART_AND_DESIGN     4.7   87510  8.7M   5,000,000+  Free     0   \n",
       "3  ART_AND_DESIGN     4.5  215644   25M  50,000,000+  Free     0   \n",
       "4  ART_AND_DESIGN     4.3     967  2.8M     100,000+  Free     0   \n",
       "\n",
       "  Content Rating                     Genres      Last Updated  \\\n",
       "0       Everyone               Art & Design   January 7, 2018   \n",
       "1       Everyone  Art & Design;Pretend Play  January 15, 2018   \n",
       "2       Everyone               Art & Design    August 1, 2018   \n",
       "3           Teen               Art & Design      June 8, 2018   \n",
       "4       Everyone    Art & Design;Creativity     June 20, 2018   \n",
       "\n",
       "          Current Ver   Android Ver  \n",
       "0               1.0.0  4.0.3 and up  \n",
       "1               2.0.0  4.0.3 and up  \n",
       "2               1.2.4  4.0.3 and up  \n",
       "3  Varies with device    4.2 and up  \n",
       "4                 1.1    4.4 and up  "
      ]
     },
     "execution_count": 68,
     "metadata": {},
     "output_type": "execute_result"
    }
   ],
   "source": [
    "df.head()"
   ]
  },
  {
   "cell_type": "code",
   "execution_count": 69,
   "id": "06de6bc1",
   "metadata": {},
   "outputs": [
    {
     "data": {
      "text/plain": [
       "array(['ART_AND_DESIGN', 'AUTO_AND_VEHICLES', 'BEAUTY',\n",
       "       'BOOKS_AND_REFERENCE', 'BUSINESS', 'COMICS', 'COMMUNICATION',\n",
       "       'DATING', 'EDUCATION', 'ENTERTAINMENT', 'EVENTS', 'FINANCE',\n",
       "       'FOOD_AND_DRINK', 'HEALTH_AND_FITNESS', 'HOUSE_AND_HOME',\n",
       "       'LIBRARIES_AND_DEMO', 'LIFESTYLE', 'GAME', 'FAMILY', 'MEDICAL',\n",
       "       'SOCIAL', 'SHOPPING', 'PHOTOGRAPHY', 'SPORTS', 'TRAVEL_AND_LOCAL',\n",
       "       'TOOLS', 'PERSONALIZATION', 'PRODUCTIVITY', 'PARENTING', 'WEATHER',\n",
       "       'VIDEO_PLAYERS', 'NEWS_AND_MAGAZINES', 'MAPS_AND_NAVIGATION',\n",
       "       '1.9'], dtype=object)"
      ]
     },
     "execution_count": 69,
     "metadata": {},
     "output_type": "execute_result"
    }
   ],
   "source": [
    "df['Category'].unique()"
   ]
  },
  {
   "cell_type": "code",
   "execution_count": 70,
   "id": "d5308295",
   "metadata": {},
   "outputs": [
    {
     "data": {
      "text/html": [
       "<div>\n",
       "<style scoped>\n",
       "    .dataframe tbody tr th:only-of-type {\n",
       "        vertical-align: middle;\n",
       "    }\n",
       "\n",
       "    .dataframe tbody tr th {\n",
       "        vertical-align: top;\n",
       "    }\n",
       "\n",
       "    .dataframe thead th {\n",
       "        text-align: right;\n",
       "    }\n",
       "</style>\n",
       "<table border=\"1\" class=\"dataframe\">\n",
       "  <thead>\n",
       "    <tr style=\"text-align: right;\">\n",
       "      <th></th>\n",
       "      <th>Category</th>\n",
       "      <th>Rating</th>\n",
       "      <th>Reviews</th>\n",
       "      <th>Size</th>\n",
       "      <th>Installs</th>\n",
       "      <th>Type</th>\n",
       "      <th>Price</th>\n",
       "      <th>Content Rating</th>\n",
       "      <th>Genres</th>\n",
       "      <th>Last Updated</th>\n",
       "      <th>Current Ver</th>\n",
       "      <th>Android Ver</th>\n",
       "    </tr>\n",
       "  </thead>\n",
       "  <tbody>\n",
       "    <tr>\n",
       "      <th>10472</th>\n",
       "      <td>1.9</td>\n",
       "      <td>19.0</td>\n",
       "      <td>3.0M</td>\n",
       "      <td>1,000+</td>\n",
       "      <td>Free</td>\n",
       "      <td>0</td>\n",
       "      <td>Everyone</td>\n",
       "      <td>NaN</td>\n",
       "      <td>February 11, 2018</td>\n",
       "      <td>1.0.19</td>\n",
       "      <td>4.0 and up</td>\n",
       "      <td>NaN</td>\n",
       "    </tr>\n",
       "  </tbody>\n",
       "</table>\n",
       "</div>"
      ],
      "text/plain": [
       "      Category  Rating Reviews    Size Installs Type     Price Content Rating  \\\n",
       "10472      1.9    19.0    3.0M  1,000+     Free    0  Everyone            NaN   \n",
       "\n",
       "                  Genres Last Updated Current Ver Android Ver  \n",
       "10472  February 11, 2018       1.0.19  4.0 and up         NaN  "
      ]
     },
     "execution_count": 70,
     "metadata": {},
     "output_type": "execute_result"
    }
   ],
   "source": [
    "df[df['Category'] == \"1.9\"]"
   ]
  },
  {
   "cell_type": "code",
   "execution_count": 71,
   "id": "d6c6e370",
   "metadata": {},
   "outputs": [],
   "source": [
    "df.drop(10472, axis=0, inplace=True)"
   ]
  },
  {
   "cell_type": "code",
   "execution_count": 72,
   "id": "cec434d6",
   "metadata": {},
   "outputs": [
    {
     "data": {
      "text/html": [
       "<div>\n",
       "<style scoped>\n",
       "    .dataframe tbody tr th:only-of-type {\n",
       "        vertical-align: middle;\n",
       "    }\n",
       "\n",
       "    .dataframe tbody tr th {\n",
       "        vertical-align: top;\n",
       "    }\n",
       "\n",
       "    .dataframe thead th {\n",
       "        text-align: right;\n",
       "    }\n",
       "</style>\n",
       "<table border=\"1\" class=\"dataframe\">\n",
       "  <thead>\n",
       "    <tr style=\"text-align: right;\">\n",
       "      <th></th>\n",
       "      <th>Category</th>\n",
       "      <th>Rating</th>\n",
       "      <th>Reviews</th>\n",
       "      <th>Size</th>\n",
       "      <th>Installs</th>\n",
       "      <th>Type</th>\n",
       "      <th>Price</th>\n",
       "      <th>Content Rating</th>\n",
       "      <th>Genres</th>\n",
       "      <th>Last Updated</th>\n",
       "      <th>Current Ver</th>\n",
       "      <th>Android Ver</th>\n",
       "    </tr>\n",
       "  </thead>\n",
       "  <tbody>\n",
       "    <tr>\n",
       "      <th>10470</th>\n",
       "      <td>COMMUNICATION</td>\n",
       "      <td>3.4</td>\n",
       "      <td>49</td>\n",
       "      <td>4.0M</td>\n",
       "      <td>10,000+</td>\n",
       "      <td>Free</td>\n",
       "      <td>0</td>\n",
       "      <td>Everyone</td>\n",
       "      <td>Communication</td>\n",
       "      <td>February 10, 2017</td>\n",
       "      <td>0.1</td>\n",
       "      <td>2.3 and up</td>\n",
       "    </tr>\n",
       "    <tr>\n",
       "      <th>10471</th>\n",
       "      <td>PERSONALIZATION</td>\n",
       "      <td>3.5</td>\n",
       "      <td>1042</td>\n",
       "      <td>404k</td>\n",
       "      <td>100,000+</td>\n",
       "      <td>Free</td>\n",
       "      <td>0</td>\n",
       "      <td>Everyone</td>\n",
       "      <td>Personalization</td>\n",
       "      <td>August 5, 2014</td>\n",
       "      <td>3.0.0</td>\n",
       "      <td>4.0.3 and up</td>\n",
       "    </tr>\n",
       "    <tr>\n",
       "      <th>10473</th>\n",
       "      <td>TOOLS</td>\n",
       "      <td>4.2</td>\n",
       "      <td>134203</td>\n",
       "      <td>4.1M</td>\n",
       "      <td>10,000,000+</td>\n",
       "      <td>Free</td>\n",
       "      <td>0</td>\n",
       "      <td>Everyone</td>\n",
       "      <td>Tools</td>\n",
       "      <td>August 7, 2018</td>\n",
       "      <td>6.06.14</td>\n",
       "      <td>4.4 and up</td>\n",
       "    </tr>\n",
       "    <tr>\n",
       "      <th>10474</th>\n",
       "      <td>COMMUNICATION</td>\n",
       "      <td>3.4</td>\n",
       "      <td>37</td>\n",
       "      <td>14M</td>\n",
       "      <td>1,000+</td>\n",
       "      <td>Free</td>\n",
       "      <td>0</td>\n",
       "      <td>Everyone</td>\n",
       "      <td>Communication</td>\n",
       "      <td>November 21, 2014</td>\n",
       "      <td>2.2.1.5</td>\n",
       "      <td>2.2 and up</td>\n",
       "    </tr>\n",
       "    <tr>\n",
       "      <th>10475</th>\n",
       "      <td>TOOLS</td>\n",
       "      <td>3.9</td>\n",
       "      <td>132</td>\n",
       "      <td>2.6M</td>\n",
       "      <td>50,000+</td>\n",
       "      <td>Free</td>\n",
       "      <td>0</td>\n",
       "      <td>Everyone</td>\n",
       "      <td>Tools</td>\n",
       "      <td>May 17, 2017</td>\n",
       "      <td>0.0.9</td>\n",
       "      <td>2.3 and up</td>\n",
       "    </tr>\n",
       "  </tbody>\n",
       "</table>\n",
       "</div>"
      ],
      "text/plain": [
       "              Category  Rating Reviews  Size     Installs  Type Price  \\\n",
       "10470    COMMUNICATION     3.4      49  4.0M      10,000+  Free     0   \n",
       "10471  PERSONALIZATION     3.5    1042  404k     100,000+  Free     0   \n",
       "10473            TOOLS     4.2  134203  4.1M  10,000,000+  Free     0   \n",
       "10474    COMMUNICATION     3.4      37   14M       1,000+  Free     0   \n",
       "10475            TOOLS     3.9     132  2.6M      50,000+  Free     0   \n",
       "\n",
       "      Content Rating           Genres       Last Updated Current Ver  \\\n",
       "10470       Everyone    Communication  February 10, 2017         0.1   \n",
       "10471       Everyone  Personalization     August 5, 2014       3.0.0   \n",
       "10473       Everyone            Tools     August 7, 2018     6.06.14   \n",
       "10474       Everyone    Communication  November 21, 2014     2.2.1.5   \n",
       "10475       Everyone            Tools       May 17, 2017       0.0.9   \n",
       "\n",
       "        Android Ver  \n",
       "10470    2.3 and up  \n",
       "10471  4.0.3 and up  \n",
       "10473    4.4 and up  \n",
       "10474    2.2 and up  \n",
       "10475    2.3 and up  "
      ]
     },
     "execution_count": 72,
     "metadata": {},
     "output_type": "execute_result"
    }
   ],
   "source": [
    "df.loc[10470:10475]"
   ]
  },
  {
   "cell_type": "code",
   "execution_count": 73,
   "id": "f6c0620e",
   "metadata": {},
   "outputs": [
    {
     "data": {
      "text/plain": [
       "['ART_AND_DESIGN',\n",
       " 'AUTO_AND_VEHICLES',\n",
       " 'BEAUTY',\n",
       " 'BOOKS_AND_REFERENCE',\n",
       " 'BUSINESS',\n",
       " 'COMICS',\n",
       " 'COMMUNICATION',\n",
       " 'DATING',\n",
       " 'EDUCATION',\n",
       " 'ENTERTAINMENT',\n",
       " 'EVENTS',\n",
       " 'FAMILY',\n",
       " 'FINANCE',\n",
       " 'FOOD_AND_DRINK',\n",
       " 'GAME',\n",
       " 'HEALTH_AND_FITNESS',\n",
       " 'HOUSE_AND_HOME',\n",
       " 'LIBRARIES_AND_DEMO',\n",
       " 'LIFESTYLE',\n",
       " 'MAPS_AND_NAVIGATION',\n",
       " 'MEDICAL',\n",
       " 'NEWS_AND_MAGAZINES',\n",
       " 'PARENTING',\n",
       " 'PERSONALIZATION',\n",
       " 'PHOTOGRAPHY',\n",
       " 'PRODUCTIVITY',\n",
       " 'SHOPPING',\n",
       " 'SOCIAL',\n",
       " 'SPORTS',\n",
       " 'TOOLS',\n",
       " 'TRAVEL_AND_LOCAL',\n",
       " 'VIDEO_PLAYERS',\n",
       " 'WEATHER']"
      ]
     },
     "execution_count": 73,
     "metadata": {},
     "output_type": "execute_result"
    }
   ],
   "source": [
    "sorted(df['Category'].unique())"
   ]
  },
  {
   "cell_type": "code",
   "execution_count": 74,
   "id": "0aa96738",
   "metadata": {},
   "outputs": [
    {
     "data": {
      "text/plain": [
       "33"
      ]
     },
     "execution_count": 74,
     "metadata": {},
     "output_type": "execute_result"
    }
   ],
   "source": [
    "len(df['Category'].unique())"
   ]
  },
  {
   "cell_type": "code",
   "execution_count": 75,
   "id": "affc58de",
   "metadata": {},
   "outputs": [],
   "source": [
    "# encoding -> one hot encoding, label encoding"
   ]
  },
  {
   "cell_type": "code",
   "execution_count": 76,
   "id": "a177deeb",
   "metadata": {},
   "outputs": [],
   "source": [
    "from sklearn.preprocessing import LabelEncoder"
   ]
  },
  {
   "cell_type": "code",
   "execution_count": 77,
   "id": "0e4e2df1",
   "metadata": {},
   "outputs": [],
   "source": [
    "l_encode = LabelEncoder()"
   ]
  },
  {
   "cell_type": "code",
   "execution_count": 78,
   "id": "c840c333",
   "metadata": {},
   "outputs": [],
   "source": [
    "df['Category'] = l_encode.fit_transform(df['Category'])"
   ]
  },
  {
   "cell_type": "code",
   "execution_count": 79,
   "id": "5b6e959e",
   "metadata": {},
   "outputs": [
    {
     "data": {
      "text/html": [
       "<div>\n",
       "<style scoped>\n",
       "    .dataframe tbody tr th:only-of-type {\n",
       "        vertical-align: middle;\n",
       "    }\n",
       "\n",
       "    .dataframe tbody tr th {\n",
       "        vertical-align: top;\n",
       "    }\n",
       "\n",
       "    .dataframe thead th {\n",
       "        text-align: right;\n",
       "    }\n",
       "</style>\n",
       "<table border=\"1\" class=\"dataframe\">\n",
       "  <thead>\n",
       "    <tr style=\"text-align: right;\">\n",
       "      <th></th>\n",
       "      <th>Category</th>\n",
       "      <th>Rating</th>\n",
       "      <th>Reviews</th>\n",
       "      <th>Size</th>\n",
       "      <th>Installs</th>\n",
       "      <th>Type</th>\n",
       "      <th>Price</th>\n",
       "      <th>Content Rating</th>\n",
       "      <th>Genres</th>\n",
       "      <th>Last Updated</th>\n",
       "      <th>Current Ver</th>\n",
       "      <th>Android Ver</th>\n",
       "    </tr>\n",
       "  </thead>\n",
       "  <tbody>\n",
       "    <tr>\n",
       "      <th>0</th>\n",
       "      <td>0</td>\n",
       "      <td>4.1</td>\n",
       "      <td>159</td>\n",
       "      <td>19M</td>\n",
       "      <td>10,000+</td>\n",
       "      <td>Free</td>\n",
       "      <td>0</td>\n",
       "      <td>Everyone</td>\n",
       "      <td>Art &amp; Design</td>\n",
       "      <td>January 7, 2018</td>\n",
       "      <td>1.0.0</td>\n",
       "      <td>4.0.3 and up</td>\n",
       "    </tr>\n",
       "    <tr>\n",
       "      <th>1</th>\n",
       "      <td>0</td>\n",
       "      <td>3.9</td>\n",
       "      <td>967</td>\n",
       "      <td>14M</td>\n",
       "      <td>500,000+</td>\n",
       "      <td>Free</td>\n",
       "      <td>0</td>\n",
       "      <td>Everyone</td>\n",
       "      <td>Art &amp; Design;Pretend Play</td>\n",
       "      <td>January 15, 2018</td>\n",
       "      <td>2.0.0</td>\n",
       "      <td>4.0.3 and up</td>\n",
       "    </tr>\n",
       "    <tr>\n",
       "      <th>2</th>\n",
       "      <td>0</td>\n",
       "      <td>4.7</td>\n",
       "      <td>87510</td>\n",
       "      <td>8.7M</td>\n",
       "      <td>5,000,000+</td>\n",
       "      <td>Free</td>\n",
       "      <td>0</td>\n",
       "      <td>Everyone</td>\n",
       "      <td>Art &amp; Design</td>\n",
       "      <td>August 1, 2018</td>\n",
       "      <td>1.2.4</td>\n",
       "      <td>4.0.3 and up</td>\n",
       "    </tr>\n",
       "    <tr>\n",
       "      <th>3</th>\n",
       "      <td>0</td>\n",
       "      <td>4.5</td>\n",
       "      <td>215644</td>\n",
       "      <td>25M</td>\n",
       "      <td>50,000,000+</td>\n",
       "      <td>Free</td>\n",
       "      <td>0</td>\n",
       "      <td>Teen</td>\n",
       "      <td>Art &amp; Design</td>\n",
       "      <td>June 8, 2018</td>\n",
       "      <td>Varies with device</td>\n",
       "      <td>4.2 and up</td>\n",
       "    </tr>\n",
       "    <tr>\n",
       "      <th>4</th>\n",
       "      <td>0</td>\n",
       "      <td>4.3</td>\n",
       "      <td>967</td>\n",
       "      <td>2.8M</td>\n",
       "      <td>100,000+</td>\n",
       "      <td>Free</td>\n",
       "      <td>0</td>\n",
       "      <td>Everyone</td>\n",
       "      <td>Art &amp; Design;Creativity</td>\n",
       "      <td>June 20, 2018</td>\n",
       "      <td>1.1</td>\n",
       "      <td>4.4 and up</td>\n",
       "    </tr>\n",
       "  </tbody>\n",
       "</table>\n",
       "</div>"
      ],
      "text/plain": [
       "   Category  Rating Reviews  Size     Installs  Type Price Content Rating  \\\n",
       "0         0     4.1     159   19M      10,000+  Free     0       Everyone   \n",
       "1         0     3.9     967   14M     500,000+  Free     0       Everyone   \n",
       "2         0     4.7   87510  8.7M   5,000,000+  Free     0       Everyone   \n",
       "3         0     4.5  215644   25M  50,000,000+  Free     0           Teen   \n",
       "4         0     4.3     967  2.8M     100,000+  Free     0       Everyone   \n",
       "\n",
       "                      Genres      Last Updated         Current Ver  \\\n",
       "0               Art & Design   January 7, 2018               1.0.0   \n",
       "1  Art & Design;Pretend Play  January 15, 2018               2.0.0   \n",
       "2               Art & Design    August 1, 2018               1.2.4   \n",
       "3               Art & Design      June 8, 2018  Varies with device   \n",
       "4    Art & Design;Creativity     June 20, 2018                 1.1   \n",
       "\n",
       "    Android Ver  \n",
       "0  4.0.3 and up  \n",
       "1  4.0.3 and up  \n",
       "2  4.0.3 and up  \n",
       "3    4.2 and up  \n",
       "4    4.4 and up  "
      ]
     },
     "execution_count": 79,
     "metadata": {},
     "output_type": "execute_result"
    }
   ],
   "source": [
    "df.head()"
   ]
  },
  {
   "cell_type": "code",
   "execution_count": 80,
   "id": "4d132280",
   "metadata": {},
   "outputs": [
    {
     "data": {
      "text/plain": [
       "array([ 0,  1,  2,  3,  4,  5,  6,  7,  8,  9, 10, 12, 13, 15, 16, 17, 18,\n",
       "       14, 11, 20, 27, 26, 24, 28, 30, 29, 23, 25, 22, 32, 31, 21, 19])"
      ]
     },
     "execution_count": 80,
     "metadata": {},
     "output_type": "execute_result"
    }
   ],
   "source": [
    "df['Category'].unique()"
   ]
  },
  {
   "cell_type": "code",
   "execution_count": 81,
   "id": "176dd463",
   "metadata": {},
   "outputs": [
    {
     "data": {
      "text/plain": [
       "Category            int32\n",
       "Rating            float64\n",
       "Reviews            object\n",
       "Size               object\n",
       "Installs           object\n",
       "Type               object\n",
       "Price              object\n",
       "Content Rating     object\n",
       "Genres             object\n",
       "Last Updated       object\n",
       "Current Ver        object\n",
       "Android Ver        object\n",
       "dtype: object"
      ]
     },
     "execution_count": 81,
     "metadata": {},
     "output_type": "execute_result"
    }
   ],
   "source": [
    "df.dtypes"
   ]
  },
  {
   "cell_type": "code",
   "execution_count": 82,
   "id": "861cf949",
   "metadata": {},
   "outputs": [
    {
     "data": {
      "text/plain": [
       "4.187876743139908"
      ]
     },
     "execution_count": 82,
     "metadata": {},
     "output_type": "execute_result"
    }
   ],
   "source": [
    "rating_mean_val = df['Rating'].mean()\n",
    "rating_mean_val"
   ]
  },
  {
   "cell_type": "code",
   "execution_count": 83,
   "id": "2386dce6",
   "metadata": {},
   "outputs": [],
   "source": [
    "df['Rating'] = df['Rating'].fillna(rating_mean_val)"
   ]
  },
  {
   "cell_type": "code",
   "execution_count": 84,
   "id": "1d605049",
   "metadata": {},
   "outputs": [
    {
     "data": {
      "text/plain": [
       "0"
      ]
     },
     "execution_count": 84,
     "metadata": {},
     "output_type": "execute_result"
    }
   ],
   "source": [
    "df['Rating'].isna().sum()"
   ]
  },
  {
   "cell_type": "code",
   "execution_count": 85,
   "id": "cb70689d",
   "metadata": {},
   "outputs": [
    {
     "data": {
      "text/plain": [
       "4.1878767431400306"
      ]
     },
     "execution_count": 85,
     "metadata": {},
     "output_type": "execute_result"
    }
   ],
   "source": [
    "df['Rating'].mean()"
   ]
  },
  {
   "cell_type": "code",
   "execution_count": 86,
   "id": "b9d3c1b4",
   "metadata": {},
   "outputs": [
    {
     "data": {
      "text/plain": [
       "Category          0\n",
       "Rating            0\n",
       "Reviews           0\n",
       "Size              0\n",
       "Installs          0\n",
       "Type              1\n",
       "Price             0\n",
       "Content Rating    0\n",
       "Genres            0\n",
       "Last Updated      0\n",
       "Current Ver       8\n",
       "Android Ver       2\n",
       "dtype: int64"
      ]
     },
     "execution_count": 86,
     "metadata": {},
     "output_type": "execute_result"
    }
   ],
   "source": [
    "df.isna().sum()"
   ]
  },
  {
   "cell_type": "code",
   "execution_count": 87,
   "id": "33bb18a9",
   "metadata": {},
   "outputs": [],
   "source": [
    "df.dropna(inplace=True)"
   ]
  },
  {
   "cell_type": "code",
   "execution_count": 88,
   "id": "06865162",
   "metadata": {},
   "outputs": [
    {
     "data": {
      "text/plain": [
       "Category          0\n",
       "Rating            0\n",
       "Reviews           0\n",
       "Size              0\n",
       "Installs          0\n",
       "Type              0\n",
       "Price             0\n",
       "Content Rating    0\n",
       "Genres            0\n",
       "Last Updated      0\n",
       "Current Ver       0\n",
       "Android Ver       0\n",
       "dtype: int64"
      ]
     },
     "execution_count": 88,
     "metadata": {},
     "output_type": "execute_result"
    }
   ],
   "source": [
    "df.isna().sum()"
   ]
  },
  {
   "cell_type": "code",
   "execution_count": 89,
   "id": "62558bc3",
   "metadata": {},
   "outputs": [
    {
     "data": {
      "text/plain": [
       "5999"
      ]
     },
     "execution_count": 89,
     "metadata": {},
     "output_type": "execute_result"
    }
   ],
   "source": [
    "len(df['Reviews'].unique())"
   ]
  },
  {
   "cell_type": "code",
   "execution_count": 90,
   "id": "5326c39f",
   "metadata": {},
   "outputs": [],
   "source": [
    "df['Reviews'] = df['Reviews'].apply(lambda x: int(x))"
   ]
  },
  {
   "cell_type": "code",
   "execution_count": 91,
   "id": "277fe664",
   "metadata": {},
   "outputs": [
    {
     "data": {
      "text/plain": [
       "dtype('int64')"
      ]
     },
     "execution_count": 91,
     "metadata": {},
     "output_type": "execute_result"
    }
   ],
   "source": [
    "df['Reviews'].dtype"
   ]
  },
  {
   "cell_type": "code",
   "execution_count": 92,
   "id": "b539b4c7",
   "metadata": {},
   "outputs": [
    {
     "data": {
      "text/plain": [
       "0       159\n",
       "1       967\n",
       "2     87510\n",
       "3    215644\n",
       "4       967\n",
       "Name: Reviews, dtype: int64"
      ]
     },
     "execution_count": 92,
     "metadata": {},
     "output_type": "execute_result"
    }
   ],
   "source": [
    "df['Reviews'].head()"
   ]
  },
  {
   "cell_type": "code",
   "execution_count": 93,
   "id": "09922c3c",
   "metadata": {},
   "outputs": [
    {
     "data": {
      "text/plain": [
       "(10346, 12)"
      ]
     },
     "execution_count": 93,
     "metadata": {},
     "output_type": "execute_result"
    }
   ],
   "source": [
    "df.shape"
   ]
  },
  {
   "cell_type": "code",
   "execution_count": 94,
   "id": "d82aa643",
   "metadata": {},
   "outputs": [],
   "source": [
    "m_count = df['Size'].apply(lambda x: x[-1])"
   ]
  },
  {
   "cell_type": "code",
   "execution_count": 95,
   "id": "a9e52395",
   "metadata": {},
   "outputs": [
    {
     "data": {
      "text/plain": [
       "array(['M', 'e', 'k'], dtype=object)"
      ]
     },
     "execution_count": 95,
     "metadata": {},
     "output_type": "execute_result"
    }
   ],
   "source": [
    "pd.unique(m_count)"
   ]
  },
  {
   "cell_type": "code",
   "execution_count": 96,
   "id": "a028c35c",
   "metadata": {},
   "outputs": [
    {
     "data": {
      "text/plain": [
       "10346"
      ]
     },
     "execution_count": 96,
     "metadata": {},
     "output_type": "execute_result"
    }
   ],
   "source": [
    "len(m_count)"
   ]
  },
  {
   "cell_type": "code",
   "execution_count": 97,
   "id": "7b5ebe6a",
   "metadata": {
    "scrolled": true
   },
   "outputs": [
    {
     "data": {
      "text/plain": [
       "array(['19M', '14M', '8.7M', '25M', '2.8M', '5.6M', '29M', '33M', '3.1M',\n",
       "       '28M', '12M', '20M', '21M', '37M', '5.5M', '17M', '39M', '31M',\n",
       "       '4.2M', '7.0M', '23M', '6.0M', '6.1M', '4.6M', '9.2M', '5.2M',\n",
       "       '11M', '24M', 'Varies with device', '9.4M', '15M', '10M', '1.2M',\n",
       "       '26M', '8.0M', '7.9M', '56M', '57M', '35M', '54M', '201k', '3.6M',\n",
       "       '5.7M', '8.6M', '2.4M', '27M', '2.7M', '2.5M', '16M', '3.4M',\n",
       "       '8.9M', '3.9M', '2.9M', '38M', '32M', '5.4M', '18M', '1.1M',\n",
       "       '2.2M', '4.5M', '9.8M', '52M', '9.0M', '6.7M', '30M', '2.6M',\n",
       "       '7.1M', '3.7M', '22M', '7.4M', '6.4M', '3.2M', '8.2M', '9.9M',\n",
       "       '4.9M', '9.5M', '5.0M', '5.9M', '13M', '73M', '6.8M', '3.5M',\n",
       "       '4.0M', '2.3M', '7.2M', '2.1M', '42M', '7.3M', '9.1M', '55M',\n",
       "       '23k', '6.5M', '1.5M', '7.5M', '51M', '41M', '48M', '8.5M', '46M',\n",
       "       '8.3M', '4.3M', '4.7M', '3.3M', '40M', '7.8M', '8.8M', '6.6M',\n",
       "       '5.1M', '61M', '66M', '79k', '8.4M', '118k', '44M', '695k', '1.6M',\n",
       "       '6.2M', '18k', '53M', '1.4M', '3.0M', '5.8M', '3.8M', '9.6M',\n",
       "       '45M', '63M', '49M', '77M', '4.4M', '4.8M', '70M', '6.9M', '9.3M',\n",
       "       '10.0M', '8.1M', '36M', '84M', '97M', '2.0M', '1.9M', '1.8M',\n",
       "       '5.3M', '47M', '556k', '526k', '76M', '7.6M', '59M', '9.7M', '78M',\n",
       "       '72M', '43M', '7.7M', '6.3M', '334k', '34M', '93M', '65M', '79M',\n",
       "       '100M', '58M', '50M', '68M', '64M', '67M', '60M', '94M', '232k',\n",
       "       '99M', '624k', '95M', '8.5k', '41k', '292k', '80M', '1.7M', '74M',\n",
       "       '62M', '69M', '75M', '98M', '85M', '82M', '96M', '87M', '71M',\n",
       "       '86M', '91M', '81M', '92M', '83M', '88M', '704k', '862k', '899k',\n",
       "       '378k', '266k', '375k', '1.3M', '975k', '980k', '4.1M', '89M',\n",
       "       '696k', '544k', '525k', '920k', '779k', '853k', '720k', '713k',\n",
       "       '772k', '318k', '58k', '241k', '196k', '857k', '51k', '953k',\n",
       "       '865k', '251k', '930k', '540k', '313k', '746k', '203k', '26k',\n",
       "       '314k', '239k', '371k', '220k', '730k', '756k', '91k', '293k',\n",
       "       '17k', '74k', '14k', '317k', '78k', '924k', '902k', '818k', '81k',\n",
       "       '939k', '169k', '45k', '475k', '965k', '90M', '545k', '61k',\n",
       "       '283k', '655k', '714k', '93k', '872k', '121k', '322k', '1.0M',\n",
       "       '976k', '172k', '238k', '549k', '206k', '954k', '444k', '717k',\n",
       "       '210k', '609k', '308k', '705k', '306k', '904k', '473k', '175k',\n",
       "       '350k', '383k', '454k', '421k', '70k', '812k', '442k', '842k',\n",
       "       '417k', '412k', '459k', '478k', '335k', '782k', '721k', '430k',\n",
       "       '429k', '192k', '200k', '460k', '728k', '496k', '816k', '414k',\n",
       "       '506k', '887k', '613k', '243k', '569k', '778k', '683k', '592k',\n",
       "       '319k', '186k', '840k', '647k', '191k', '373k', '437k', '598k',\n",
       "       '716k', '585k', '982k', '219k', '55k', '948k', '323k', '691k',\n",
       "       '511k', '951k', '963k', '25k', '554k', '351k', '27k', '82k',\n",
       "       '208k', '913k', '514k', '551k', '29k', '103k', '898k', '743k',\n",
       "       '116k', '153k', '209k', '353k', '499k', '173k', '597k', '809k',\n",
       "       '122k', '411k', '400k', '801k', '787k', '50k', '643k', '986k',\n",
       "       '97k', '516k', '837k', '780k', '961k', '269k', '20k', '498k',\n",
       "       '600k', '749k', '642k', '881k', '72k', '656k', '601k', '221k',\n",
       "       '228k', '108k', '940k', '176k', '33k', '663k', '34k', '942k',\n",
       "       '259k', '164k', '458k', '245k', '629k', '28k', '288k', '775k',\n",
       "       '785k', '636k', '916k', '994k', '309k', '485k', '914k', '903k',\n",
       "       '608k', '500k', '54k', '562k', '847k', '957k', '688k', '811k',\n",
       "       '270k', '48k', '329k', '523k', '921k', '874k', '981k', '784k',\n",
       "       '280k', '24k', '518k', '754k', '892k', '154k', '860k', '364k',\n",
       "       '387k', '626k', '161k', '879k', '39k', '970k', '170k', '141k',\n",
       "       '160k', '144k', '143k', '190k', '376k', '193k', '246k', '73k',\n",
       "       '992k', '253k', '420k', '404k', '470k', '226k', '240k', '89k',\n",
       "       '234k', '257k', '861k', '467k', '157k', '44k', '676k', '67k',\n",
       "       '552k', '885k', '1020k', '582k', '619k'], dtype=object)"
      ]
     },
     "execution_count": 97,
     "metadata": {},
     "output_type": "execute_result"
    }
   ],
   "source": [
    "df['Size'].unique()"
   ]
  },
  {
   "cell_type": "code",
   "execution_count": 98,
   "id": "e814fc79",
   "metadata": {},
   "outputs": [],
   "source": [
    "df['Size'] = df['Size'].apply(lambda x: x.replace(x[-1], \"\") if x[-1]==\"M\" else x)"
   ]
  },
  {
   "cell_type": "code",
   "execution_count": 99,
   "id": "588dabcc",
   "metadata": {},
   "outputs": [],
   "source": [
    "df['Size'] = df['Size'].apply(lambda x: x.replace(x[-1], \"\") if x[-1]==\"k\" else x)"
   ]
  },
  {
   "cell_type": "code",
   "execution_count": 100,
   "id": "46d376d6",
   "metadata": {},
   "outputs": [
    {
     "data": {
      "text/plain": [
       "1525"
      ]
     },
     "execution_count": 100,
     "metadata": {},
     "output_type": "execute_result"
    }
   ],
   "source": [
    "df['Size'][df['Size']== \"Varies with device\"].count()"
   ]
  },
  {
   "cell_type": "code",
   "execution_count": 101,
   "id": "4c9a85e2",
   "metadata": {},
   "outputs": [],
   "source": [
    "df['Size'] = df['Size'].apply(lambda x: x.replace(\"Varies with device\", \"0.0\") if x==\"Varies with device\" else x)"
   ]
  },
  {
   "cell_type": "code",
   "execution_count": 102,
   "id": "4da48af3",
   "metadata": {},
   "outputs": [
    {
     "data": {
      "text/plain": [
       "0"
      ]
     },
     "execution_count": 102,
     "metadata": {},
     "output_type": "execute_result"
    }
   ],
   "source": [
    "df['Size'][df['Size']== \"Varies with device\"].count()"
   ]
  },
  {
   "cell_type": "code",
   "execution_count": 103,
   "id": "d4a440cc",
   "metadata": {},
   "outputs": [],
   "source": [
    "\n",
    "df['Size'] = df['Size'].apply(lambda x: float(x))"
   ]
  },
  {
   "cell_type": "code",
   "execution_count": 104,
   "id": "04508429",
   "metadata": {},
   "outputs": [
    {
     "data": {
      "text/plain": [
       "dtype('float64')"
      ]
     },
     "execution_count": 104,
     "metadata": {},
     "output_type": "execute_result"
    }
   ],
   "source": [
    "df['Size'].dtype"
   ]
  },
  {
   "cell_type": "code",
   "execution_count": 105,
   "id": "26da8204",
   "metadata": {},
   "outputs": [],
   "source": [
    "size_mean = df['Size'].mean()"
   ]
  },
  {
   "cell_type": "code",
   "execution_count": 106,
   "id": "334a7956",
   "metadata": {},
   "outputs": [
    {
     "data": {
      "text/plain": [
       "1525"
      ]
     },
     "execution_count": 106,
     "metadata": {},
     "output_type": "execute_result"
    }
   ],
   "source": [
    "df['Size'][df['Size'] == 0.0].count()"
   ]
  },
  {
   "cell_type": "code",
   "execution_count": 107,
   "id": "293b46c8",
   "metadata": {},
   "outputs": [],
   "source": [
    "df['Size'] = df['Size'].apply(lambda x: x+size_mean if x == 0.0 else x)"
   ]
  },
  {
   "cell_type": "code",
   "execution_count": 108,
   "id": "fcff8392",
   "metadata": {},
   "outputs": [
    {
     "data": {
      "text/plain": [
       "0"
      ]
     },
     "execution_count": 108,
     "metadata": {},
     "output_type": "execute_result"
    }
   ],
   "source": [
    "df['Size'][df['Size'] == 0.0].count()"
   ]
  },
  {
   "cell_type": "code",
   "execution_count": 109,
   "id": "d5f80e78",
   "metadata": {},
   "outputs": [
    {
     "data": {
      "text/plain": [
       "Index(['Category', 'Rating', 'Reviews', 'Size', 'Installs', 'Type', 'Price',\n",
       "       'Content Rating', 'Genres', 'Last Updated', 'Current Ver',\n",
       "       'Android Ver'],\n",
       "      dtype='object')"
      ]
     },
     "execution_count": 109,
     "metadata": {},
     "output_type": "execute_result"
    }
   ],
   "source": [
    "df.columns"
   ]
  },
  {
   "cell_type": "markdown",
   "id": "de329987",
   "metadata": {},
   "source": [
    "# # \"Installs\""
   ]
  },
  {
   "cell_type": "code",
   "execution_count": 110,
   "id": "9213241e",
   "metadata": {},
   "outputs": [
    {
     "data": {
      "text/plain": [
       "array(['10,000+', '500,000+', '5,000,000+', '50,000,000+', '100,000+',\n",
       "       '50,000+', '1,000,000+', '10,000,000+', '5,000+', '100,000,000+',\n",
       "       '1,000,000,000+', '1,000+', '500,000,000+', '50+', '100+', '500+',\n",
       "       '10+', '1+', '5+', '0+'], dtype=object)"
      ]
     },
     "execution_count": 110,
     "metadata": {},
     "output_type": "execute_result"
    }
   ],
   "source": [
    "df[\"Installs\"].unique()"
   ]
  },
  {
   "cell_type": "code",
   "execution_count": 111,
   "id": "fb57e20d",
   "metadata": {},
   "outputs": [
    {
     "data": {
      "text/plain": [
       "array(['10,000+', '500,000+', '5,000,000+', '50,000,000+', '100,000+',\n",
       "       '50,000+', '1,000,000+', '10,000,000+', '5,000+', '100,000,000+',\n",
       "       '1,000,000,000+', '1,000+', '500,000,000+', '50+', '100+', '500+',\n",
       "       '10+', '1+', '5+', '0+'], dtype=object)"
      ]
     },
     "execution_count": 111,
     "metadata": {},
     "output_type": "execute_result"
    }
   ],
   "source": [
    "df[\"Installs\"].unique()"
   ]
  },
  {
   "cell_type": "code",
   "execution_count": 112,
   "id": "098648f9",
   "metadata": {},
   "outputs": [
    {
     "ename": "ValueError",
     "evalue": "invalid literal for int() with base 10: '10,000+'",
     "output_type": "error",
     "traceback": [
      "\u001b[1;31m---------------------------------------------------------------------------\u001b[0m",
      "\u001b[1;31mValueError\u001b[0m                                Traceback (most recent call last)",
      "\u001b[1;32m~\\AppData\\Local\\Temp/ipykernel_13004/3057027698.py\u001b[0m in \u001b[0;36m<module>\u001b[1;34m\u001b[0m\n\u001b[1;32m----> 1\u001b[1;33m \u001b[0mdf\u001b[0m\u001b[1;33m[\u001b[0m\u001b[1;34m'Installs'\u001b[0m\u001b[1;33m]\u001b[0m \u001b[1;33m=\u001b[0m \u001b[0mdf\u001b[0m\u001b[1;33m[\u001b[0m\u001b[1;34m'Installs'\u001b[0m\u001b[1;33m]\u001b[0m\u001b[1;33m.\u001b[0m\u001b[0mapply\u001b[0m\u001b[1;33m(\u001b[0m\u001b[1;32mlambda\u001b[0m \u001b[0mx\u001b[0m\u001b[1;33m:\u001b[0m \u001b[0mint\u001b[0m\u001b[1;33m(\u001b[0m\u001b[0mx\u001b[0m\u001b[1;33m)\u001b[0m\u001b[1;33m)\u001b[0m\u001b[1;33m\u001b[0m\u001b[1;33m\u001b[0m\u001b[0m\n\u001b[0m",
      "\u001b[1;32mE:\\anaconda\\lib\\site-packages\\pandas\\core\\series.py\u001b[0m in \u001b[0;36mapply\u001b[1;34m(self, func, convert_dtype, args, **kwargs)\u001b[0m\n\u001b[0;32m   4355\u001b[0m         \u001b[0mdtype\u001b[0m\u001b[1;33m:\u001b[0m \u001b[0mfloat64\u001b[0m\u001b[1;33m\u001b[0m\u001b[1;33m\u001b[0m\u001b[0m\n\u001b[0;32m   4356\u001b[0m         \"\"\"\n\u001b[1;32m-> 4357\u001b[1;33m         \u001b[1;32mreturn\u001b[0m \u001b[0mSeriesApply\u001b[0m\u001b[1;33m(\u001b[0m\u001b[0mself\u001b[0m\u001b[1;33m,\u001b[0m \u001b[0mfunc\u001b[0m\u001b[1;33m,\u001b[0m \u001b[0mconvert_dtype\u001b[0m\u001b[1;33m,\u001b[0m \u001b[0margs\u001b[0m\u001b[1;33m,\u001b[0m \u001b[0mkwargs\u001b[0m\u001b[1;33m)\u001b[0m\u001b[1;33m.\u001b[0m\u001b[0mapply\u001b[0m\u001b[1;33m(\u001b[0m\u001b[1;33m)\u001b[0m\u001b[1;33m\u001b[0m\u001b[1;33m\u001b[0m\u001b[0m\n\u001b[0m\u001b[0;32m   4358\u001b[0m \u001b[1;33m\u001b[0m\u001b[0m\n\u001b[0;32m   4359\u001b[0m     def _reduce(\n",
      "\u001b[1;32mE:\\anaconda\\lib\\site-packages\\pandas\\core\\apply.py\u001b[0m in \u001b[0;36mapply\u001b[1;34m(self)\u001b[0m\n\u001b[0;32m   1041\u001b[0m             \u001b[1;32mreturn\u001b[0m \u001b[0mself\u001b[0m\u001b[1;33m.\u001b[0m\u001b[0mapply_str\u001b[0m\u001b[1;33m(\u001b[0m\u001b[1;33m)\u001b[0m\u001b[1;33m\u001b[0m\u001b[1;33m\u001b[0m\u001b[0m\n\u001b[0;32m   1042\u001b[0m \u001b[1;33m\u001b[0m\u001b[0m\n\u001b[1;32m-> 1043\u001b[1;33m         \u001b[1;32mreturn\u001b[0m \u001b[0mself\u001b[0m\u001b[1;33m.\u001b[0m\u001b[0mapply_standard\u001b[0m\u001b[1;33m(\u001b[0m\u001b[1;33m)\u001b[0m\u001b[1;33m\u001b[0m\u001b[1;33m\u001b[0m\u001b[0m\n\u001b[0m\u001b[0;32m   1044\u001b[0m \u001b[1;33m\u001b[0m\u001b[0m\n\u001b[0;32m   1045\u001b[0m     \u001b[1;32mdef\u001b[0m \u001b[0magg\u001b[0m\u001b[1;33m(\u001b[0m\u001b[0mself\u001b[0m\u001b[1;33m)\u001b[0m\u001b[1;33m:\u001b[0m\u001b[1;33m\u001b[0m\u001b[1;33m\u001b[0m\u001b[0m\n",
      "\u001b[1;32mE:\\anaconda\\lib\\site-packages\\pandas\\core\\apply.py\u001b[0m in \u001b[0;36mapply_standard\u001b[1;34m(self)\u001b[0m\n\u001b[0;32m   1096\u001b[0m                 \u001b[1;31m# List[Union[Callable[..., Any], str]]]]]\"; expected\u001b[0m\u001b[1;33m\u001b[0m\u001b[1;33m\u001b[0m\u001b[0m\n\u001b[0;32m   1097\u001b[0m                 \u001b[1;31m# \"Callable[[Any], Any]\"\u001b[0m\u001b[1;33m\u001b[0m\u001b[1;33m\u001b[0m\u001b[0m\n\u001b[1;32m-> 1098\u001b[1;33m                 mapped = lib.map_infer(\n\u001b[0m\u001b[0;32m   1099\u001b[0m                     \u001b[0mvalues\u001b[0m\u001b[1;33m,\u001b[0m\u001b[1;33m\u001b[0m\u001b[1;33m\u001b[0m\u001b[0m\n\u001b[0;32m   1100\u001b[0m                     \u001b[0mf\u001b[0m\u001b[1;33m,\u001b[0m  \u001b[1;31m# type: ignore[arg-type]\u001b[0m\u001b[1;33m\u001b[0m\u001b[1;33m\u001b[0m\u001b[0m\n",
      "\u001b[1;32mE:\\anaconda\\lib\\site-packages\\pandas\\_libs\\lib.pyx\u001b[0m in \u001b[0;36mpandas._libs.lib.map_infer\u001b[1;34m()\u001b[0m\n",
      "\u001b[1;32m~\\AppData\\Local\\Temp/ipykernel_13004/3057027698.py\u001b[0m in \u001b[0;36m<lambda>\u001b[1;34m(x)\u001b[0m\n\u001b[1;32m----> 1\u001b[1;33m \u001b[0mdf\u001b[0m\u001b[1;33m[\u001b[0m\u001b[1;34m'Installs'\u001b[0m\u001b[1;33m]\u001b[0m \u001b[1;33m=\u001b[0m \u001b[0mdf\u001b[0m\u001b[1;33m[\u001b[0m\u001b[1;34m'Installs'\u001b[0m\u001b[1;33m]\u001b[0m\u001b[1;33m.\u001b[0m\u001b[0mapply\u001b[0m\u001b[1;33m(\u001b[0m\u001b[1;32mlambda\u001b[0m \u001b[0mx\u001b[0m\u001b[1;33m:\u001b[0m \u001b[0mint\u001b[0m\u001b[1;33m(\u001b[0m\u001b[0mx\u001b[0m\u001b[1;33m)\u001b[0m\u001b[1;33m)\u001b[0m\u001b[1;33m\u001b[0m\u001b[1;33m\u001b[0m\u001b[0m\n\u001b[0m",
      "\u001b[1;31mValueError\u001b[0m: invalid literal for int() with base 10: '10,000+'"
     ]
    }
   ],
   "source": [
    "df['Installs'] = df['Installs'].apply(lambda x: int(x))"
   ]
  },
  {
   "cell_type": "code",
   "execution_count": 163,
   "id": "6d007f1b",
   "metadata": {},
   "outputs": [
    {
     "data": {
      "text/plain": [
       "Category          0\n",
       "Rating            0\n",
       "Reviews           0\n",
       "Size              0\n",
       "Installs          0\n",
       "Type              0\n",
       "Price             0\n",
       "Content Rating    0\n",
       "Genres            0\n",
       "Last Updated      0\n",
       "Current Ver       0\n",
       "Android Ver       0\n",
       "dtype: int64"
      ]
     },
     "execution_count": 163,
     "metadata": {},
     "output_type": "execute_result"
    }
   ],
   "source": [
    "df.isna().sum()"
   ]
  },
  {
   "cell_type": "code",
   "execution_count": 165,
   "id": "83f52e10",
   "metadata": {},
   "outputs": [],
   "source": [
    "df['Installs'] = df['Installs'].apply(lambda x: x.replace(\",\", \"\"))"
   ]
  },
  {
   "cell_type": "code",
   "execution_count": 166,
   "id": "81450f4d",
   "metadata": {},
   "outputs": [
    {
     "data": {
      "text/plain": [
       "array(['10000+', '500000+', '5000000+', '50000000+', '100000+', '50000+',\n",
       "       '1000000+', '10000000+', '5000+', '100000000+', '1000+',\n",
       "       '500000000+', '50+', '100+', '500+', '10+', '1+', '5+',\n",
       "       '1000000000+', '0+'], dtype=object)"
      ]
     },
     "execution_count": 166,
     "metadata": {},
     "output_type": "execute_result"
    }
   ],
   "source": [
    "df[\"Installs\"].unique()"
   ]
  },
  {
   "cell_type": "code",
   "execution_count": 171,
   "id": "767f7420",
   "metadata": {},
   "outputs": [],
   "source": [
    "df['Installs'] = df['Installs'].apply(lambda x: x.replace(\"+\",\"\"))"
   ]
  },
  {
   "cell_type": "code",
   "execution_count": 172,
   "id": "86136954",
   "metadata": {},
   "outputs": [],
   "source": [
    "df['Installs'] = df['Installs'].apply(lambda x: x.replace([-1], \"\") if x[-1] ==\"+\" else x)"
   ]
  },
  {
   "cell_type": "code",
   "execution_count": 173,
   "id": "0701d80a",
   "metadata": {},
   "outputs": [],
   "source": [
    "df['Installs'] = df['Installs'].apply(lambda x: x.replace(\"+\", \"\"))"
   ]
  },
  {
   "cell_type": "code",
   "execution_count": 174,
   "id": "6c7bfeec",
   "metadata": {},
   "outputs": [
    {
     "data": {
      "text/plain": [
       "array(['10000', '500000', '5000000', '50000000', '100000', '50000',\n",
       "       '1000000', '10000000', '5000', '100000000', '1000', '500000000',\n",
       "       '50', '100', '500', '10', '1', '5', '1000000000', '0'],\n",
       "      dtype=object)"
      ]
     },
     "execution_count": 174,
     "metadata": {},
     "output_type": "execute_result"
    }
   ],
   "source": [
    "df['Installs'].unique()"
   ]
  },
  {
   "cell_type": "code",
   "execution_count": 175,
   "id": "e1a231b0",
   "metadata": {},
   "outputs": [
    {
     "ename": "TypeError",
     "evalue": "unique() takes 1 positional argument but 2 were given",
     "output_type": "error",
     "traceback": [
      "\u001b[1;31m---------------------------------------------------------------------------\u001b[0m",
      "\u001b[1;31mTypeError\u001b[0m                                 Traceback (most recent call last)",
      "\u001b[1;32m~\\AppData\\Local\\Temp/ipykernel_13004/2804276166.py\u001b[0m in \u001b[0;36m<module>\u001b[1;34m\u001b[0m\n\u001b[1;32m----> 1\u001b[1;33m \u001b[0mdf\u001b[0m\u001b[1;33m[\u001b[0m\u001b[1;34m'Installs'\u001b[0m\u001b[1;33m]\u001b[0m\u001b[1;33m.\u001b[0m\u001b[0munique\u001b[0m\u001b[1;33m(\u001b[0m\u001b[1;34m\"Free\"\u001b[0m\u001b[1;33m)\u001b[0m\u001b[1;33m\u001b[0m\u001b[1;33m\u001b[0m\u001b[0m\n\u001b[0m",
      "\u001b[1;31mTypeError\u001b[0m: unique() takes 1 positional argument but 2 were given"
     ]
    }
   ],
   "source": [
    "df['Installs'].unique(\"Free\")"
   ]
  },
  {
   "cell_type": "code",
   "execution_count": 176,
   "id": "16d97a73",
   "metadata": {},
   "outputs": [
    {
     "data": {
      "text/plain": [
       "0"
      ]
     },
     "execution_count": 176,
     "metadata": {},
     "output_type": "execute_result"
    }
   ],
   "source": [
    "df['Installs'][df['Installs']== \"Free\"].count()"
   ]
  },
  {
   "cell_type": "code",
   "execution_count": 179,
   "id": "871925ac",
   "metadata": {},
   "outputs": [
    {
     "data": {
      "text/plain": [
       "Int64Index([], dtype='int64')"
      ]
     },
     "execution_count": 179,
     "metadata": {},
     "output_type": "execute_result"
    }
   ],
   "source": [
    "df['Installs'][df['Installs']== \"Free\"].index"
   ]
  },
  {
   "cell_type": "code",
   "execution_count": 181,
   "id": "b5fe3a1a",
   "metadata": {},
   "outputs": [
    {
     "data": {
      "text/html": [
       "<div>\n",
       "<style scoped>\n",
       "    .dataframe tbody tr th:only-of-type {\n",
       "        vertical-align: middle;\n",
       "    }\n",
       "\n",
       "    .dataframe tbody tr th {\n",
       "        vertical-align: top;\n",
       "    }\n",
       "\n",
       "    .dataframe thead th {\n",
       "        text-align: right;\n",
       "    }\n",
       "</style>\n",
       "<table border=\"1\" class=\"dataframe\">\n",
       "  <thead>\n",
       "    <tr style=\"text-align: right;\">\n",
       "      <th></th>\n",
       "      <th>Category</th>\n",
       "      <th>Rating</th>\n",
       "      <th>Reviews</th>\n",
       "      <th>Size</th>\n",
       "      <th>Installs</th>\n",
       "      <th>Type</th>\n",
       "      <th>Price</th>\n",
       "      <th>Content Rating</th>\n",
       "      <th>Genres</th>\n",
       "      <th>Last Updated</th>\n",
       "      <th>Current Ver</th>\n",
       "      <th>Android Ver</th>\n",
       "    </tr>\n",
       "  </thead>\n",
       "  <tbody>\n",
       "  </tbody>\n",
       "</table>\n",
       "</div>"
      ],
      "text/plain": [
       "Empty DataFrame\n",
       "Columns: [Category, Rating, Reviews, Size, Installs, Type, Price, Content Rating, Genres, Last Updated, Current Ver, Android Ver]\n",
       "Index: []"
      ]
     },
     "execution_count": 181,
     "metadata": {},
     "output_type": "execute_result"
    }
   ],
   "source": [
    "df[df['Installs'] == \"Free\"]"
   ]
  },
  {
   "cell_type": "code",
   "execution_count": 182,
   "id": "ec9f10fc",
   "metadata": {},
   "outputs": [
    {
     "ename": "KeyError",
     "evalue": "'[10472] not found in axis'",
     "output_type": "error",
     "traceback": [
      "\u001b[1;31m---------------------------------------------------------------------------\u001b[0m",
      "\u001b[1;31mKeyError\u001b[0m                                  Traceback (most recent call last)",
      "\u001b[1;32m~\\AppData\\Local\\Temp/ipykernel_13004/3913642504.py\u001b[0m in \u001b[0;36m<module>\u001b[1;34m\u001b[0m\n\u001b[1;32m----> 1\u001b[1;33m \u001b[0mdf\u001b[0m\u001b[1;33m.\u001b[0m\u001b[0mdrop\u001b[0m\u001b[1;33m(\u001b[0m\u001b[1;36m10472\u001b[0m\u001b[1;33m,\u001b[0m \u001b[0maxis\u001b[0m\u001b[1;33m=\u001b[0m\u001b[1;36m0\u001b[0m\u001b[1;33m,\u001b[0m \u001b[0minplace\u001b[0m\u001b[1;33m=\u001b[0m\u001b[1;32mTrue\u001b[0m\u001b[1;33m)\u001b[0m\u001b[1;33m\u001b[0m\u001b[1;33m\u001b[0m\u001b[0m\n\u001b[0m",
      "\u001b[1;32mE:\\anaconda\\lib\\site-packages\\pandas\\util\\_decorators.py\u001b[0m in \u001b[0;36mwrapper\u001b[1;34m(*args, **kwargs)\u001b[0m\n\u001b[0;32m    309\u001b[0m                     \u001b[0mstacklevel\u001b[0m\u001b[1;33m=\u001b[0m\u001b[0mstacklevel\u001b[0m\u001b[1;33m,\u001b[0m\u001b[1;33m\u001b[0m\u001b[1;33m\u001b[0m\u001b[0m\n\u001b[0;32m    310\u001b[0m                 )\n\u001b[1;32m--> 311\u001b[1;33m             \u001b[1;32mreturn\u001b[0m \u001b[0mfunc\u001b[0m\u001b[1;33m(\u001b[0m\u001b[1;33m*\u001b[0m\u001b[0margs\u001b[0m\u001b[1;33m,\u001b[0m \u001b[1;33m**\u001b[0m\u001b[0mkwargs\u001b[0m\u001b[1;33m)\u001b[0m\u001b[1;33m\u001b[0m\u001b[1;33m\u001b[0m\u001b[0m\n\u001b[0m\u001b[0;32m    312\u001b[0m \u001b[1;33m\u001b[0m\u001b[0m\n\u001b[0;32m    313\u001b[0m         \u001b[1;32mreturn\u001b[0m \u001b[0mwrapper\u001b[0m\u001b[1;33m\u001b[0m\u001b[1;33m\u001b[0m\u001b[0m\n",
      "\u001b[1;32mE:\\anaconda\\lib\\site-packages\\pandas\\core\\frame.py\u001b[0m in \u001b[0;36mdrop\u001b[1;34m(self, labels, axis, index, columns, level, inplace, errors)\u001b[0m\n\u001b[0;32m   4904\u001b[0m                 \u001b[0mweight\u001b[0m  \u001b[1;36m1.0\u001b[0m     \u001b[1;36m0.8\u001b[0m\u001b[1;33m\u001b[0m\u001b[1;33m\u001b[0m\u001b[0m\n\u001b[0;32m   4905\u001b[0m         \"\"\"\n\u001b[1;32m-> 4906\u001b[1;33m         return super().drop(\n\u001b[0m\u001b[0;32m   4907\u001b[0m             \u001b[0mlabels\u001b[0m\u001b[1;33m=\u001b[0m\u001b[0mlabels\u001b[0m\u001b[1;33m,\u001b[0m\u001b[1;33m\u001b[0m\u001b[1;33m\u001b[0m\u001b[0m\n\u001b[0;32m   4908\u001b[0m             \u001b[0maxis\u001b[0m\u001b[1;33m=\u001b[0m\u001b[0maxis\u001b[0m\u001b[1;33m,\u001b[0m\u001b[1;33m\u001b[0m\u001b[1;33m\u001b[0m\u001b[0m\n",
      "\u001b[1;32mE:\\anaconda\\lib\\site-packages\\pandas\\core\\generic.py\u001b[0m in \u001b[0;36mdrop\u001b[1;34m(self, labels, axis, index, columns, level, inplace, errors)\u001b[0m\n\u001b[0;32m   4148\u001b[0m         \u001b[1;32mfor\u001b[0m \u001b[0maxis\u001b[0m\u001b[1;33m,\u001b[0m \u001b[0mlabels\u001b[0m \u001b[1;32min\u001b[0m \u001b[0maxes\u001b[0m\u001b[1;33m.\u001b[0m\u001b[0mitems\u001b[0m\u001b[1;33m(\u001b[0m\u001b[1;33m)\u001b[0m\u001b[1;33m:\u001b[0m\u001b[1;33m\u001b[0m\u001b[1;33m\u001b[0m\u001b[0m\n\u001b[0;32m   4149\u001b[0m             \u001b[1;32mif\u001b[0m \u001b[0mlabels\u001b[0m \u001b[1;32mis\u001b[0m \u001b[1;32mnot\u001b[0m \u001b[1;32mNone\u001b[0m\u001b[1;33m:\u001b[0m\u001b[1;33m\u001b[0m\u001b[1;33m\u001b[0m\u001b[0m\n\u001b[1;32m-> 4150\u001b[1;33m                 \u001b[0mobj\u001b[0m \u001b[1;33m=\u001b[0m \u001b[0mobj\u001b[0m\u001b[1;33m.\u001b[0m\u001b[0m_drop_axis\u001b[0m\u001b[1;33m(\u001b[0m\u001b[0mlabels\u001b[0m\u001b[1;33m,\u001b[0m \u001b[0maxis\u001b[0m\u001b[1;33m,\u001b[0m \u001b[0mlevel\u001b[0m\u001b[1;33m=\u001b[0m\u001b[0mlevel\u001b[0m\u001b[1;33m,\u001b[0m \u001b[0merrors\u001b[0m\u001b[1;33m=\u001b[0m\u001b[0merrors\u001b[0m\u001b[1;33m)\u001b[0m\u001b[1;33m\u001b[0m\u001b[1;33m\u001b[0m\u001b[0m\n\u001b[0m\u001b[0;32m   4151\u001b[0m \u001b[1;33m\u001b[0m\u001b[0m\n\u001b[0;32m   4152\u001b[0m         \u001b[1;32mif\u001b[0m \u001b[0minplace\u001b[0m\u001b[1;33m:\u001b[0m\u001b[1;33m\u001b[0m\u001b[1;33m\u001b[0m\u001b[0m\n",
      "\u001b[1;32mE:\\anaconda\\lib\\site-packages\\pandas\\core\\generic.py\u001b[0m in \u001b[0;36m_drop_axis\u001b[1;34m(self, labels, axis, level, errors)\u001b[0m\n\u001b[0;32m   4183\u001b[0m                 \u001b[0mnew_axis\u001b[0m \u001b[1;33m=\u001b[0m \u001b[0maxis\u001b[0m\u001b[1;33m.\u001b[0m\u001b[0mdrop\u001b[0m\u001b[1;33m(\u001b[0m\u001b[0mlabels\u001b[0m\u001b[1;33m,\u001b[0m \u001b[0mlevel\u001b[0m\u001b[1;33m=\u001b[0m\u001b[0mlevel\u001b[0m\u001b[1;33m,\u001b[0m \u001b[0merrors\u001b[0m\u001b[1;33m=\u001b[0m\u001b[0merrors\u001b[0m\u001b[1;33m)\u001b[0m\u001b[1;33m\u001b[0m\u001b[1;33m\u001b[0m\u001b[0m\n\u001b[0;32m   4184\u001b[0m             \u001b[1;32melse\u001b[0m\u001b[1;33m:\u001b[0m\u001b[1;33m\u001b[0m\u001b[1;33m\u001b[0m\u001b[0m\n\u001b[1;32m-> 4185\u001b[1;33m                 \u001b[0mnew_axis\u001b[0m \u001b[1;33m=\u001b[0m \u001b[0maxis\u001b[0m\u001b[1;33m.\u001b[0m\u001b[0mdrop\u001b[0m\u001b[1;33m(\u001b[0m\u001b[0mlabels\u001b[0m\u001b[1;33m,\u001b[0m \u001b[0merrors\u001b[0m\u001b[1;33m=\u001b[0m\u001b[0merrors\u001b[0m\u001b[1;33m)\u001b[0m\u001b[1;33m\u001b[0m\u001b[1;33m\u001b[0m\u001b[0m\n\u001b[0m\u001b[0;32m   4186\u001b[0m             \u001b[0mresult\u001b[0m \u001b[1;33m=\u001b[0m \u001b[0mself\u001b[0m\u001b[1;33m.\u001b[0m\u001b[0mreindex\u001b[0m\u001b[1;33m(\u001b[0m\u001b[1;33m**\u001b[0m\u001b[1;33m{\u001b[0m\u001b[0maxis_name\u001b[0m\u001b[1;33m:\u001b[0m \u001b[0mnew_axis\u001b[0m\u001b[1;33m}\u001b[0m\u001b[1;33m)\u001b[0m\u001b[1;33m\u001b[0m\u001b[1;33m\u001b[0m\u001b[0m\n\u001b[0;32m   4187\u001b[0m \u001b[1;33m\u001b[0m\u001b[0m\n",
      "\u001b[1;32mE:\\anaconda\\lib\\site-packages\\pandas\\core\\indexes\\base.py\u001b[0m in \u001b[0;36mdrop\u001b[1;34m(self, labels, errors)\u001b[0m\n\u001b[0;32m   6015\u001b[0m         \u001b[1;32mif\u001b[0m \u001b[0mmask\u001b[0m\u001b[1;33m.\u001b[0m\u001b[0many\u001b[0m\u001b[1;33m(\u001b[0m\u001b[1;33m)\u001b[0m\u001b[1;33m:\u001b[0m\u001b[1;33m\u001b[0m\u001b[1;33m\u001b[0m\u001b[0m\n\u001b[0;32m   6016\u001b[0m             \u001b[1;32mif\u001b[0m \u001b[0merrors\u001b[0m \u001b[1;33m!=\u001b[0m \u001b[1;34m\"ignore\"\u001b[0m\u001b[1;33m:\u001b[0m\u001b[1;33m\u001b[0m\u001b[1;33m\u001b[0m\u001b[0m\n\u001b[1;32m-> 6017\u001b[1;33m                 \u001b[1;32mraise\u001b[0m \u001b[0mKeyError\u001b[0m\u001b[1;33m(\u001b[0m\u001b[1;34mf\"{labels[mask]} not found in axis\"\u001b[0m\u001b[1;33m)\u001b[0m\u001b[1;33m\u001b[0m\u001b[1;33m\u001b[0m\u001b[0m\n\u001b[0m\u001b[0;32m   6018\u001b[0m             \u001b[0mindexer\u001b[0m \u001b[1;33m=\u001b[0m \u001b[0mindexer\u001b[0m\u001b[1;33m[\u001b[0m\u001b[1;33m~\u001b[0m\u001b[0mmask\u001b[0m\u001b[1;33m]\u001b[0m\u001b[1;33m\u001b[0m\u001b[1;33m\u001b[0m\u001b[0m\n\u001b[0;32m   6019\u001b[0m         \u001b[1;32mreturn\u001b[0m \u001b[0mself\u001b[0m\u001b[1;33m.\u001b[0m\u001b[0mdelete\u001b[0m\u001b[1;33m(\u001b[0m\u001b[0mindexer\u001b[0m\u001b[1;33m)\u001b[0m\u001b[1;33m\u001b[0m\u001b[1;33m\u001b[0m\u001b[0m\n",
      "\u001b[1;31mKeyError\u001b[0m: '[10472] not found in axis'"
     ]
    }
   ],
   "source": [
    "df.drop(10472, axis=0, inplace=True)"
   ]
  },
  {
   "cell_type": "code",
   "execution_count": 183,
   "id": "83dd06fa",
   "metadata": {},
   "outputs": [
    {
     "data": {
      "text/plain": [
       "array(['10000', '500000', '5000000', '50000000', '100000', '50000',\n",
       "       '1000000', '10000000', '5000', '100000000', '1000', '500000000',\n",
       "       '50', '100', '500', '10', '1', '5', '1000000000', '0'],\n",
       "      dtype=object)"
      ]
     },
     "execution_count": 183,
     "metadata": {},
     "output_type": "execute_result"
    }
   ],
   "source": [
    "df['Installs'].unique()"
   ]
  },
  {
   "cell_type": "code",
   "execution_count": 188,
   "id": "5c694ce0",
   "metadata": {},
   "outputs": [],
   "source": [
    "df['Installs']=df['Installs'].apply(lambda x: int(x))"
   ]
  },
  {
   "cell_type": "code",
   "execution_count": 189,
   "id": "db8c1ade",
   "metadata": {},
   "outputs": [
    {
     "data": {
      "text/plain": [
       "array([     10000,     500000,    5000000,   50000000,     100000,\n",
       "            50000,    1000000,   10000000,       5000,  100000000,\n",
       "             1000,  500000000,         50,        100,        500,\n",
       "               10,          1,          5, 1000000000,          0],\n",
       "      dtype=int64)"
      ]
     },
     "execution_count": 189,
     "metadata": {},
     "output_type": "execute_result"
    }
   ],
   "source": [
    "df[\"Installs\"].unique()"
   ]
  },
  {
   "cell_type": "markdown",
   "id": "650a71c0",
   "metadata": {},
   "source": [
    "## Type"
   ]
  },
  {
   "cell_type": "code",
   "execution_count": 190,
   "id": "2d5812a8",
   "metadata": {},
   "outputs": [
    {
     "data": {
      "text/plain": [
       "Index(['Category', 'Rating', 'Reviews', 'Size', 'Installs', 'Type', 'Price',\n",
       "       'Content Rating', 'Genres', 'Last Updated', 'Current Ver',\n",
       "       'Android Ver'],\n",
       "      dtype='object')"
      ]
     },
     "execution_count": 190,
     "metadata": {},
     "output_type": "execute_result"
    }
   ],
   "source": [
    "df.columns"
   ]
  },
  {
   "cell_type": "code",
   "execution_count": 191,
   "id": "f32c98a6",
   "metadata": {},
   "outputs": [
    {
     "data": {
      "text/plain": [
       "<bound method NDFrame.head of 0        Free\n",
       "1        Free\n",
       "2        Free\n",
       "3        Free\n",
       "4        Free\n",
       "         ... \n",
       "10834    Free\n",
       "10835    Free\n",
       "10836    Free\n",
       "10837    Free\n",
       "10838    Free\n",
       "Name: Type, Length: 9126, dtype: object>"
      ]
     },
     "execution_count": 191,
     "metadata": {},
     "output_type": "execute_result"
    }
   ],
   "source": [
    "df[\"Type\"].head"
   ]
  },
  {
   "cell_type": "code",
   "execution_count": null,
   "id": "d8951a06",
   "metadata": {},
   "outputs": [],
   "source": [
    "df[\"Type\"].unique()"
   ]
  },
  {
   "cell_type": "code",
   "execution_count": 192,
   "id": "322bdee0",
   "metadata": {},
   "outputs": [
    {
     "data": {
      "text/plain": [
       "0"
      ]
     },
     "execution_count": 192,
     "metadata": {},
     "output_type": "execute_result"
    }
   ],
   "source": [
    "df[\"Type\"].isna().sum()"
   ]
  },
  {
   "cell_type": "code",
   "execution_count": 193,
   "id": "d0e328a8",
   "metadata": {},
   "outputs": [
    {
     "data": {
      "text/plain": [
       "0"
      ]
     },
     "execution_count": 193,
     "metadata": {},
     "output_type": "execute_result"
    }
   ],
   "source": [
    "df[\"Type\"][df[\"Type\"]== \"nan\"].count()"
   ]
  },
  {
   "cell_type": "code",
   "execution_count": 197,
   "id": "7f020a55",
   "metadata": {},
   "outputs": [
    {
     "data": {
      "text/plain": [
       "Int64Index([], dtype='int64')"
      ]
     },
     "execution_count": 197,
     "metadata": {},
     "output_type": "execute_result"
    }
   ],
   "source": [
    "df[df['Type'] == 'na'].index"
   ]
  },
  {
   "cell_type": "code",
   "execution_count": 198,
   "id": "91eb3aa8",
   "metadata": {},
   "outputs": [
    {
     "ename": "SyntaxError",
     "evalue": "invalid syntax (Temp/ipykernel_13004/2532201235.py, line 1)",
     "output_type": "error",
     "traceback": [
      "\u001b[1;36m  File \u001b[1;32m\"C:\\Users\\SHAHRIAR\\AppData\\Local\\Temp/ipykernel_13004/2532201235.py\"\u001b[1;36m, line \u001b[1;32m1\u001b[0m\n\u001b[1;33m    df[\"Type]\"= df[\"Type]\".dropna(axis=0, inplace=True)\u001b[0m\n\u001b[1;37m              ^\u001b[0m\n\u001b[1;31mSyntaxError\u001b[0m\u001b[1;31m:\u001b[0m invalid syntax\n"
     ]
    }
   ],
   "source": [
    "df[\"Type]\"= df[\"Type]\".dropna(axis=0, inplace=True)"
   ]
  },
  {
   "cell_type": "code",
   "execution_count": 200,
   "id": "3ca938f4",
   "metadata": {},
   "outputs": [
    {
     "data": {
      "text/plain": [
       "Category          0\n",
       "Rating            0\n",
       "Reviews           0\n",
       "Size              0\n",
       "Installs          0\n",
       "Type              0\n",
       "Price             0\n",
       "Content Rating    0\n",
       "Genres            0\n",
       "Last Updated      0\n",
       "Current Ver       0\n",
       "Android Ver       0\n",
       "dtype: int64"
      ]
     },
     "execution_count": 200,
     "metadata": {},
     "output_type": "execute_result"
    }
   ],
   "source": [
    "df[df['Type'] == \"\"].count()"
   ]
  },
  {
   "cell_type": "code",
   "execution_count": null,
   "id": "44bb5890",
   "metadata": {},
   "outputs": [],
   "source": [
    "df.shape"
   ]
  },
  {
   "cell_type": "code",
   "execution_count": null,
   "id": "67b3123f",
   "metadata": {},
   "outputs": [],
   "source": [
    "df[\"Type\"].unique()"
   ]
  },
  {
   "cell_type": "code",
   "execution_count": null,
   "id": "c0d71d6d",
   "metadata": {},
   "outputs": [],
   "source": [
    "df.isna().sum()"
   ]
  },
  {
   "cell_type": "code",
   "execution_count": null,
   "id": "5a35592c",
   "metadata": {},
   "outputs": [],
   "source": [
    "df[\"Type\"].isna().sum()"
   ]
  },
  {
   "cell_type": "code",
   "execution_count": 201,
   "id": "d00591a9",
   "metadata": {},
   "outputs": [],
   "source": [
    "l_encode= LabelEncoder()"
   ]
  },
  {
   "cell_type": "code",
   "execution_count": 202,
   "id": "f56aaece",
   "metadata": {},
   "outputs": [],
   "source": [
    "df['Type'] = l_encode.fit_transform(df['Type'])"
   ]
  },
  {
   "cell_type": "code",
   "execution_count": 203,
   "id": "059a0595",
   "metadata": {},
   "outputs": [
    {
     "data": {
      "text/plain": [
       "array([0, 1])"
      ]
     },
     "execution_count": 203,
     "metadata": {},
     "output_type": "execute_result"
    }
   ],
   "source": [
    "df[\"Type\"].unique()"
   ]
  },
  {
   "cell_type": "markdown",
   "id": "d766eb2a",
   "metadata": {},
   "source": [
    "## Price"
   ]
  },
  {
   "cell_type": "code",
   "execution_count": 113,
   "id": "c616baf8",
   "metadata": {},
   "outputs": [
    {
     "ename": "AttributeError",
     "evalue": "'DataFrame' object has no attribute 'unique'",
     "output_type": "error",
     "traceback": [
      "\u001b[1;31m---------------------------------------------------------------------------\u001b[0m",
      "\u001b[1;31mAttributeError\u001b[0m                            Traceback (most recent call last)",
      "\u001b[1;32m~\\AppData\\Local\\Temp/ipykernel_13004/1660334235.py\u001b[0m in \u001b[0;36m<module>\u001b[1;34m\u001b[0m\n\u001b[1;32m----> 1\u001b[1;33m \u001b[0mdf\u001b[0m\u001b[1;33m.\u001b[0m\u001b[0munique\u001b[0m\u001b[1;33m(\u001b[0m\u001b[1;33m)\u001b[0m\u001b[1;33m\u001b[0m\u001b[1;33m\u001b[0m\u001b[0m\n\u001b[0m",
      "\u001b[1;32mE:\\anaconda\\lib\\site-packages\\pandas\\core\\generic.py\u001b[0m in \u001b[0;36m__getattr__\u001b[1;34m(self, name)\u001b[0m\n\u001b[0;32m   5485\u001b[0m         ):\n\u001b[0;32m   5486\u001b[0m             \u001b[1;32mreturn\u001b[0m \u001b[0mself\u001b[0m\u001b[1;33m[\u001b[0m\u001b[0mname\u001b[0m\u001b[1;33m]\u001b[0m\u001b[1;33m\u001b[0m\u001b[1;33m\u001b[0m\u001b[0m\n\u001b[1;32m-> 5487\u001b[1;33m         \u001b[1;32mreturn\u001b[0m \u001b[0mobject\u001b[0m\u001b[1;33m.\u001b[0m\u001b[0m__getattribute__\u001b[0m\u001b[1;33m(\u001b[0m\u001b[0mself\u001b[0m\u001b[1;33m,\u001b[0m \u001b[0mname\u001b[0m\u001b[1;33m)\u001b[0m\u001b[1;33m\u001b[0m\u001b[1;33m\u001b[0m\u001b[0m\n\u001b[0m\u001b[0;32m   5488\u001b[0m \u001b[1;33m\u001b[0m\u001b[0m\n\u001b[0;32m   5489\u001b[0m     \u001b[1;32mdef\u001b[0m \u001b[0m__setattr__\u001b[0m\u001b[1;33m(\u001b[0m\u001b[0mself\u001b[0m\u001b[1;33m,\u001b[0m \u001b[0mname\u001b[0m\u001b[1;33m:\u001b[0m \u001b[0mstr\u001b[0m\u001b[1;33m,\u001b[0m \u001b[0mvalue\u001b[0m\u001b[1;33m)\u001b[0m \u001b[1;33m->\u001b[0m \u001b[1;32mNone\u001b[0m\u001b[1;33m:\u001b[0m\u001b[1;33m\u001b[0m\u001b[1;33m\u001b[0m\u001b[0m\n",
      "\u001b[1;31mAttributeError\u001b[0m: 'DataFrame' object has no attribute 'unique'"
     ]
    }
   ],
   "source": [
    "df.unique()"
   ]
  },
  {
   "cell_type": "code",
   "execution_count": 114,
   "id": "912e3821",
   "metadata": {},
   "outputs": [
    {
     "data": {
      "text/plain": [
       "array(['0', '$4.99', '$3.99', '$6.99', '$1.49', '$2.99', '$7.99', '$5.99',\n",
       "       '$3.49', '$1.99', '$9.99', '$7.49', '$0.99', '$9.00', '$5.49',\n",
       "       '$10.00', '$24.99', '$11.99', '$79.99', '$16.99', '$14.99',\n",
       "       '$1.00', '$29.99', '$12.99', '$2.49', '$10.99', '$1.50', '$19.99',\n",
       "       '$15.99', '$33.99', '$74.99', '$39.99', '$3.95', '$4.49', '$1.70',\n",
       "       '$8.99', '$2.00', '$3.88', '$25.99', '$399.99', '$17.99',\n",
       "       '$400.00', '$3.02', '$1.76', '$4.84', '$4.77', '$1.61', '$2.50',\n",
       "       '$1.59', '$6.49', '$1.29', '$5.00', '$13.99', '$299.99', '$379.99',\n",
       "       '$37.99', '$18.99', '$389.99', '$19.90', '$8.49', '$1.75',\n",
       "       '$14.00', '$4.85', '$46.99', '$109.99', '$154.99', '$3.08',\n",
       "       '$2.59', '$4.80', '$1.96', '$19.40', '$3.90', '$4.59', '$15.46',\n",
       "       '$3.04', '$4.29', '$2.60', '$3.28', '$4.60', '$28.99', '$2.95',\n",
       "       '$2.90', '$1.97', '$200.00', '$89.99', '$2.56', '$30.99', '$3.61',\n",
       "       '$394.99', '$1.26', '$1.20', '$1.04'], dtype=object)"
      ]
     },
     "execution_count": 114,
     "metadata": {},
     "output_type": "execute_result"
    }
   ],
   "source": [
    "df[\"Price\"].unique()"
   ]
  },
  {
   "cell_type": "code",
   "execution_count": 115,
   "id": "dc146d16",
   "metadata": {},
   "outputs": [
    {
     "data": {
      "text/plain": [
       "['$0.99',\n",
       " '$1.00',\n",
       " '$1.04',\n",
       " '$1.20',\n",
       " '$1.26',\n",
       " '$1.29',\n",
       " '$1.49',\n",
       " '$1.50',\n",
       " '$1.59',\n",
       " '$1.61',\n",
       " '$1.70',\n",
       " '$1.75',\n",
       " '$1.76',\n",
       " '$1.96',\n",
       " '$1.97',\n",
       " '$1.99',\n",
       " '$10.00',\n",
       " '$10.99',\n",
       " '$109.99',\n",
       " '$11.99',\n",
       " '$12.99',\n",
       " '$13.99',\n",
       " '$14.00',\n",
       " '$14.99',\n",
       " '$15.46',\n",
       " '$15.99',\n",
       " '$154.99',\n",
       " '$16.99',\n",
       " '$17.99',\n",
       " '$18.99',\n",
       " '$19.40',\n",
       " '$19.90',\n",
       " '$19.99',\n",
       " '$2.00',\n",
       " '$2.49',\n",
       " '$2.50',\n",
       " '$2.56',\n",
       " '$2.59',\n",
       " '$2.60',\n",
       " '$2.90',\n",
       " '$2.95',\n",
       " '$2.99',\n",
       " '$200.00',\n",
       " '$24.99',\n",
       " '$25.99',\n",
       " '$28.99',\n",
       " '$29.99',\n",
       " '$299.99',\n",
       " '$3.02',\n",
       " '$3.04',\n",
       " '$3.08',\n",
       " '$3.28',\n",
       " '$3.49',\n",
       " '$3.61',\n",
       " '$3.88',\n",
       " '$3.90',\n",
       " '$3.95',\n",
       " '$3.99',\n",
       " '$30.99',\n",
       " '$33.99',\n",
       " '$37.99',\n",
       " '$379.99',\n",
       " '$389.99',\n",
       " '$39.99',\n",
       " '$394.99',\n",
       " '$399.99',\n",
       " '$4.29',\n",
       " '$4.49',\n",
       " '$4.59',\n",
       " '$4.60',\n",
       " '$4.77',\n",
       " '$4.80',\n",
       " '$4.84',\n",
       " '$4.85',\n",
       " '$4.99',\n",
       " '$400.00',\n",
       " '$46.99',\n",
       " '$5.00',\n",
       " '$5.49',\n",
       " '$5.99',\n",
       " '$6.49',\n",
       " '$6.99',\n",
       " '$7.49',\n",
       " '$7.99',\n",
       " '$74.99',\n",
       " '$79.99',\n",
       " '$8.49',\n",
       " '$8.99',\n",
       " '$89.99',\n",
       " '$9.00',\n",
       " '$9.99',\n",
       " '0']"
      ]
     },
     "execution_count": 115,
     "metadata": {},
     "output_type": "execute_result"
    }
   ],
   "source": [
    "sorted(df[\"Price\"].unique())"
   ]
  },
  {
   "cell_type": "code",
   "execution_count": 116,
   "id": "d94009f1",
   "metadata": {},
   "outputs": [],
   "source": [
    "df['Price'] = df['Price'].apply(lambda x: x.replace(\"$\", \"\"))"
   ]
  },
  {
   "cell_type": "code",
   "execution_count": 117,
   "id": "65148f34",
   "metadata": {},
   "outputs": [
    {
     "data": {
      "text/plain": [
       "array(['0', '4.99', '3.99', '6.99', '1.49', '2.99', '7.99', '5.99',\n",
       "       '3.49', '1.99', '9.99', '7.49', '0.99', '9.00', '5.49', '10.00',\n",
       "       '24.99', '11.99', '79.99', '16.99', '14.99', '1.00', '29.99',\n",
       "       '12.99', '2.49', '10.99', '1.50', '19.99', '15.99', '33.99',\n",
       "       '74.99', '39.99', '3.95', '4.49', '1.70', '8.99', '2.00', '3.88',\n",
       "       '25.99', '399.99', '17.99', '400.00', '3.02', '1.76', '4.84',\n",
       "       '4.77', '1.61', '2.50', '1.59', '6.49', '1.29', '5.00', '13.99',\n",
       "       '299.99', '379.99', '37.99', '18.99', '389.99', '19.90', '8.49',\n",
       "       '1.75', '14.00', '4.85', '46.99', '109.99', '154.99', '3.08',\n",
       "       '2.59', '4.80', '1.96', '19.40', '3.90', '4.59', '15.46', '3.04',\n",
       "       '4.29', '2.60', '3.28', '4.60', '28.99', '2.95', '2.90', '1.97',\n",
       "       '200.00', '89.99', '2.56', '30.99', '3.61', '394.99', '1.26',\n",
       "       '1.20', '1.04'], dtype=object)"
      ]
     },
     "execution_count": 117,
     "metadata": {},
     "output_type": "execute_result"
    }
   ],
   "source": [
    "df['Price'].unique()"
   ]
  },
  {
   "cell_type": "code",
   "execution_count": 118,
   "id": "3ef6cc96",
   "metadata": {},
   "outputs": [],
   "source": [
    "df[\"Price\"]= df[\"Price\"].apply(lambda x: float(x))"
   ]
  },
  {
   "cell_type": "code",
   "execution_count": 119,
   "id": "e97425a5",
   "metadata": {},
   "outputs": [
    {
     "data": {
      "text/plain": [
       "dtype('float64')"
      ]
     },
     "execution_count": 119,
     "metadata": {},
     "output_type": "execute_result"
    }
   ],
   "source": [
    "df[\"Price\"].dtype"
   ]
  },
  {
   "cell_type": "markdown",
   "id": "63dc2970",
   "metadata": {},
   "source": [
    "# # Content Rating"
   ]
  },
  {
   "cell_type": "code",
   "execution_count": 120,
   "id": "909203c6",
   "metadata": {},
   "outputs": [
    {
     "data": {
      "text/plain": [
       "Index(['Category', 'Rating', 'Reviews', 'Size', 'Installs', 'Type', 'Price',\n",
       "       'Content Rating', 'Genres', 'Last Updated', 'Current Ver',\n",
       "       'Android Ver'],\n",
       "      dtype='object')"
      ]
     },
     "execution_count": 120,
     "metadata": {},
     "output_type": "execute_result"
    }
   ],
   "source": [
    "df.columns"
   ]
  },
  {
   "cell_type": "code",
   "execution_count": 121,
   "id": "c244902e",
   "metadata": {},
   "outputs": [
    {
     "data": {
      "text/plain": [
       "array(['Everyone', 'Teen', 'Everyone 10+', 'Mature 17+',\n",
       "       'Adults only 18+', 'Unrated'], dtype=object)"
      ]
     },
     "execution_count": 121,
     "metadata": {},
     "output_type": "execute_result"
    }
   ],
   "source": [
    "df[\"Content Rating\"].unique()"
   ]
  },
  {
   "cell_type": "code",
   "execution_count": 122,
   "id": "73ff1391",
   "metadata": {},
   "outputs": [
    {
     "data": {
      "text/plain": [
       "0"
      ]
     },
     "execution_count": 122,
     "metadata": {},
     "output_type": "execute_result"
    }
   ],
   "source": [
    "df[\"Content Rating\"].isna().sum()"
   ]
  },
  {
   "cell_type": "code",
   "execution_count": 123,
   "id": "f6ae6e50",
   "metadata": {},
   "outputs": [],
   "source": [
    "l_encode= LabelEncoder()"
   ]
  },
  {
   "cell_type": "code",
   "execution_count": 124,
   "id": "a691a919",
   "metadata": {},
   "outputs": [],
   "source": [
    "df[\"Content Rating\"]= l_encode.fit_transform(df[\"Content Rating\"])"
   ]
  },
  {
   "cell_type": "code",
   "execution_count": 125,
   "id": "57eaa776",
   "metadata": {},
   "outputs": [
    {
     "data": {
      "text/plain": [
       "array([1, 4, 2, 3, 0, 5])"
      ]
     },
     "execution_count": 125,
     "metadata": {},
     "output_type": "execute_result"
    }
   ],
   "source": [
    "df[\"Content Rating\"].unique()"
   ]
  },
  {
   "cell_type": "code",
   "execution_count": 126,
   "id": "70dab505",
   "metadata": {},
   "outputs": [
    {
     "data": {
      "text/plain": [
       "[0, 1, 2, 3, 4, 5]"
      ]
     },
     "execution_count": 126,
     "metadata": {},
     "output_type": "execute_result"
    }
   ],
   "source": [
    "sorted(df[\"Content Rating\"].unique())"
   ]
  },
  {
   "cell_type": "markdown",
   "id": "6dad02fe",
   "metadata": {},
   "source": [
    "## Genres"
   ]
  },
  {
   "cell_type": "code",
   "execution_count": 127,
   "id": "e472c8be",
   "metadata": {},
   "outputs": [
    {
     "data": {
      "text/plain": [
       "Index(['Category', 'Rating', 'Reviews', 'Size', 'Installs', 'Type', 'Price',\n",
       "       'Content Rating', 'Genres', 'Last Updated', 'Current Ver',\n",
       "       'Android Ver'],\n",
       "      dtype='object')"
      ]
     },
     "execution_count": 127,
     "metadata": {},
     "output_type": "execute_result"
    }
   ],
   "source": [
    "df.columns"
   ]
  },
  {
   "cell_type": "code",
   "execution_count": 128,
   "id": "1d11cf52",
   "metadata": {},
   "outputs": [
    {
     "data": {
      "text/plain": [
       "array(['Art & Design', 'Art & Design;Pretend Play',\n",
       "       'Art & Design;Creativity', 'Art & Design;Action & Adventure',\n",
       "       'Auto & Vehicles', 'Beauty', 'Books & Reference', 'Business',\n",
       "       'Comics', 'Comics;Creativity', 'Communication', 'Dating',\n",
       "       'Education;Education', 'Education', 'Education;Creativity',\n",
       "       'Education;Music & Video', 'Education;Action & Adventure',\n",
       "       'Education;Pretend Play', 'Education;Brain Games', 'Entertainment',\n",
       "       'Entertainment;Music & Video', 'Entertainment;Brain Games',\n",
       "       'Entertainment;Creativity', 'Events', 'Finance', 'Food & Drink',\n",
       "       'Health & Fitness', 'House & Home', 'Libraries & Demo',\n",
       "       'Lifestyle', 'Lifestyle;Pretend Play',\n",
       "       'Adventure;Action & Adventure', 'Arcade', 'Casual', 'Card',\n",
       "       'Casual;Pretend Play', 'Action', 'Strategy', 'Puzzle', 'Sports',\n",
       "       'Music', 'Word', 'Racing', 'Casual;Creativity',\n",
       "       'Casual;Action & Adventure', 'Simulation', 'Adventure', 'Board',\n",
       "       'Trivia', 'Role Playing', 'Simulation;Education',\n",
       "       'Action;Action & Adventure', 'Casual;Brain Games',\n",
       "       'Simulation;Action & Adventure', 'Educational;Creativity',\n",
       "       'Puzzle;Brain Games', 'Educational;Education', 'Card;Brain Games',\n",
       "       'Educational;Brain Games', 'Educational;Pretend Play',\n",
       "       'Entertainment;Education', 'Casual;Education',\n",
       "       'Music;Music & Video', 'Racing;Action & Adventure',\n",
       "       'Arcade;Pretend Play', 'Role Playing;Action & Adventure',\n",
       "       'Simulation;Pretend Play', 'Puzzle;Creativity',\n",
       "       'Sports;Action & Adventure', 'Educational;Action & Adventure',\n",
       "       'Arcade;Action & Adventure', 'Entertainment;Action & Adventure',\n",
       "       'Puzzle;Action & Adventure', 'Strategy;Action & Adventure',\n",
       "       'Music & Audio;Music & Video', 'Health & Fitness;Education',\n",
       "       'Adventure;Education', 'Board;Brain Games',\n",
       "       'Board;Action & Adventure', 'Board;Pretend Play',\n",
       "       'Casual;Music & Video', 'Role Playing;Pretend Play',\n",
       "       'Entertainment;Pretend Play', 'Video Players & Editors;Creativity',\n",
       "       'Card;Action & Adventure', 'Medical', 'Social', 'Shopping',\n",
       "       'Photography', 'Travel & Local',\n",
       "       'Travel & Local;Action & Adventure', 'Tools', 'Tools;Education',\n",
       "       'Personalization', 'Productivity', 'Parenting',\n",
       "       'Parenting;Music & Video', 'Parenting;Education',\n",
       "       'Parenting;Brain Games', 'Weather', 'Video Players & Editors',\n",
       "       'Video Players & Editors;Music & Video', 'News & Magazines',\n",
       "       'Maps & Navigation', 'Health & Fitness;Action & Adventure',\n",
       "       'Educational', 'Casino', 'Adventure;Brain Games',\n",
       "       'Trivia;Education', 'Lifestyle;Education',\n",
       "       'Books & Reference;Creativity', 'Books & Reference;Education',\n",
       "       'Puzzle;Education', 'Role Playing;Education',\n",
       "       'Role Playing;Brain Games', 'Strategy;Education',\n",
       "       'Racing;Pretend Play', 'Communication;Creativity',\n",
       "       'Strategy;Creativity'], dtype=object)"
      ]
     },
     "execution_count": 128,
     "metadata": {},
     "output_type": "execute_result"
    }
   ],
   "source": [
    "df[\"Genres\"].unique()"
   ]
  },
  {
   "cell_type": "code",
   "execution_count": 129,
   "id": "903f6c5f",
   "metadata": {},
   "outputs": [
    {
     "data": {
      "text/plain": [
       "['Action',\n",
       " 'Action;Action & Adventure',\n",
       " 'Adventure',\n",
       " 'Adventure;Action & Adventure',\n",
       " 'Adventure;Brain Games',\n",
       " 'Adventure;Education',\n",
       " 'Arcade',\n",
       " 'Arcade;Action & Adventure',\n",
       " 'Arcade;Pretend Play',\n",
       " 'Art & Design',\n",
       " 'Art & Design;Action & Adventure',\n",
       " 'Art & Design;Creativity',\n",
       " 'Art & Design;Pretend Play',\n",
       " 'Auto & Vehicles',\n",
       " 'Beauty',\n",
       " 'Board',\n",
       " 'Board;Action & Adventure',\n",
       " 'Board;Brain Games',\n",
       " 'Board;Pretend Play',\n",
       " 'Books & Reference',\n",
       " 'Books & Reference;Creativity',\n",
       " 'Books & Reference;Education',\n",
       " 'Business',\n",
       " 'Card',\n",
       " 'Card;Action & Adventure',\n",
       " 'Card;Brain Games',\n",
       " 'Casino',\n",
       " 'Casual',\n",
       " 'Casual;Action & Adventure',\n",
       " 'Casual;Brain Games',\n",
       " 'Casual;Creativity',\n",
       " 'Casual;Education',\n",
       " 'Casual;Music & Video',\n",
       " 'Casual;Pretend Play',\n",
       " 'Comics',\n",
       " 'Comics;Creativity',\n",
       " 'Communication',\n",
       " 'Communication;Creativity',\n",
       " 'Dating',\n",
       " 'Education',\n",
       " 'Education;Action & Adventure',\n",
       " 'Education;Brain Games',\n",
       " 'Education;Creativity',\n",
       " 'Education;Education',\n",
       " 'Education;Music & Video',\n",
       " 'Education;Pretend Play',\n",
       " 'Educational',\n",
       " 'Educational;Action & Adventure',\n",
       " 'Educational;Brain Games',\n",
       " 'Educational;Creativity',\n",
       " 'Educational;Education',\n",
       " 'Educational;Pretend Play',\n",
       " 'Entertainment',\n",
       " 'Entertainment;Action & Adventure',\n",
       " 'Entertainment;Brain Games',\n",
       " 'Entertainment;Creativity',\n",
       " 'Entertainment;Education',\n",
       " 'Entertainment;Music & Video',\n",
       " 'Entertainment;Pretend Play',\n",
       " 'Events',\n",
       " 'Finance',\n",
       " 'Food & Drink',\n",
       " 'Health & Fitness',\n",
       " 'Health & Fitness;Action & Adventure',\n",
       " 'Health & Fitness;Education',\n",
       " 'House & Home',\n",
       " 'Libraries & Demo',\n",
       " 'Lifestyle',\n",
       " 'Lifestyle;Education',\n",
       " 'Lifestyle;Pretend Play',\n",
       " 'Maps & Navigation',\n",
       " 'Medical',\n",
       " 'Music',\n",
       " 'Music & Audio;Music & Video',\n",
       " 'Music;Music & Video',\n",
       " 'News & Magazines',\n",
       " 'Parenting',\n",
       " 'Parenting;Brain Games',\n",
       " 'Parenting;Education',\n",
       " 'Parenting;Music & Video',\n",
       " 'Personalization',\n",
       " 'Photography',\n",
       " 'Productivity',\n",
       " 'Puzzle',\n",
       " 'Puzzle;Action & Adventure',\n",
       " 'Puzzle;Brain Games',\n",
       " 'Puzzle;Creativity',\n",
       " 'Puzzle;Education',\n",
       " 'Racing',\n",
       " 'Racing;Action & Adventure',\n",
       " 'Racing;Pretend Play',\n",
       " 'Role Playing',\n",
       " 'Role Playing;Action & Adventure',\n",
       " 'Role Playing;Brain Games',\n",
       " 'Role Playing;Education',\n",
       " 'Role Playing;Pretend Play',\n",
       " 'Shopping',\n",
       " 'Simulation',\n",
       " 'Simulation;Action & Adventure',\n",
       " 'Simulation;Education',\n",
       " 'Simulation;Pretend Play',\n",
       " 'Social',\n",
       " 'Sports',\n",
       " 'Sports;Action & Adventure',\n",
       " 'Strategy',\n",
       " 'Strategy;Action & Adventure',\n",
       " 'Strategy;Creativity',\n",
       " 'Strategy;Education',\n",
       " 'Tools',\n",
       " 'Tools;Education',\n",
       " 'Travel & Local',\n",
       " 'Travel & Local;Action & Adventure',\n",
       " 'Trivia',\n",
       " 'Trivia;Education',\n",
       " 'Video Players & Editors',\n",
       " 'Video Players & Editors;Creativity',\n",
       " 'Video Players & Editors;Music & Video',\n",
       " 'Weather',\n",
       " 'Word']"
      ]
     },
     "execution_count": 129,
     "metadata": {},
     "output_type": "execute_result"
    }
   ],
   "source": [
    "sorted(df[\"Genres\"].unique())"
   ]
  },
  {
   "cell_type": "code",
   "execution_count": 130,
   "id": "12d828dc",
   "metadata": {},
   "outputs": [
    {
     "data": {
      "text/plain": [
       "119"
      ]
     },
     "execution_count": 130,
     "metadata": {},
     "output_type": "execute_result"
    }
   ],
   "source": [
    "len(df[\"Genres\"].unique())"
   ]
  },
  {
   "cell_type": "code",
   "execution_count": 131,
   "id": "2673c1a7",
   "metadata": {},
   "outputs": [
    {
     "data": {
      "text/html": [
       "<div>\n",
       "<style scoped>\n",
       "    .dataframe tbody tr th:only-of-type {\n",
       "        vertical-align: middle;\n",
       "    }\n",
       "\n",
       "    .dataframe tbody tr th {\n",
       "        vertical-align: top;\n",
       "    }\n",
       "\n",
       "    .dataframe thead th {\n",
       "        text-align: right;\n",
       "    }\n",
       "</style>\n",
       "<table border=\"1\" class=\"dataframe\">\n",
       "  <thead>\n",
       "    <tr style=\"text-align: right;\">\n",
       "      <th></th>\n",
       "      <th>Category</th>\n",
       "      <th>Rating</th>\n",
       "      <th>Reviews</th>\n",
       "      <th>Size</th>\n",
       "      <th>Installs</th>\n",
       "      <th>Type</th>\n",
       "      <th>Price</th>\n",
       "      <th>Content Rating</th>\n",
       "      <th>Genres</th>\n",
       "      <th>Last Updated</th>\n",
       "      <th>Current Ver</th>\n",
       "      <th>Android Ver</th>\n",
       "    </tr>\n",
       "  </thead>\n",
       "  <tbody>\n",
       "    <tr>\n",
       "      <th>0</th>\n",
       "      <td>0</td>\n",
       "      <td>4.1</td>\n",
       "      <td>159</td>\n",
       "      <td>19.0</td>\n",
       "      <td>10,000+</td>\n",
       "      <td>Free</td>\n",
       "      <td>0.0</td>\n",
       "      <td>1</td>\n",
       "      <td>Art &amp; Design</td>\n",
       "      <td>January 7, 2018</td>\n",
       "      <td>1.0.0</td>\n",
       "      <td>4.0.3 and up</td>\n",
       "    </tr>\n",
       "    <tr>\n",
       "      <th>1</th>\n",
       "      <td>0</td>\n",
       "      <td>3.9</td>\n",
       "      <td>967</td>\n",
       "      <td>14.0</td>\n",
       "      <td>500,000+</td>\n",
       "      <td>Free</td>\n",
       "      <td>0.0</td>\n",
       "      <td>1</td>\n",
       "      <td>Art &amp; Design;Pretend Play</td>\n",
       "      <td>January 15, 2018</td>\n",
       "      <td>2.0.0</td>\n",
       "      <td>4.0.3 and up</td>\n",
       "    </tr>\n",
       "    <tr>\n",
       "      <th>2</th>\n",
       "      <td>0</td>\n",
       "      <td>4.7</td>\n",
       "      <td>87510</td>\n",
       "      <td>8.7</td>\n",
       "      <td>5,000,000+</td>\n",
       "      <td>Free</td>\n",
       "      <td>0.0</td>\n",
       "      <td>1</td>\n",
       "      <td>Art &amp; Design</td>\n",
       "      <td>August 1, 2018</td>\n",
       "      <td>1.2.4</td>\n",
       "      <td>4.0.3 and up</td>\n",
       "    </tr>\n",
       "    <tr>\n",
       "      <th>3</th>\n",
       "      <td>0</td>\n",
       "      <td>4.5</td>\n",
       "      <td>215644</td>\n",
       "      <td>25.0</td>\n",
       "      <td>50,000,000+</td>\n",
       "      <td>Free</td>\n",
       "      <td>0.0</td>\n",
       "      <td>4</td>\n",
       "      <td>Art &amp; Design</td>\n",
       "      <td>June 8, 2018</td>\n",
       "      <td>Varies with device</td>\n",
       "      <td>4.2 and up</td>\n",
       "    </tr>\n",
       "    <tr>\n",
       "      <th>4</th>\n",
       "      <td>0</td>\n",
       "      <td>4.3</td>\n",
       "      <td>967</td>\n",
       "      <td>2.8</td>\n",
       "      <td>100,000+</td>\n",
       "      <td>Free</td>\n",
       "      <td>0.0</td>\n",
       "      <td>1</td>\n",
       "      <td>Art &amp; Design;Creativity</td>\n",
       "      <td>June 20, 2018</td>\n",
       "      <td>1.1</td>\n",
       "      <td>4.4 and up</td>\n",
       "    </tr>\n",
       "  </tbody>\n",
       "</table>\n",
       "</div>"
      ],
      "text/plain": [
       "   Category  Rating  Reviews  Size     Installs  Type  Price  Content Rating  \\\n",
       "0         0     4.1      159  19.0      10,000+  Free    0.0               1   \n",
       "1         0     3.9      967  14.0     500,000+  Free    0.0               1   \n",
       "2         0     4.7    87510   8.7   5,000,000+  Free    0.0               1   \n",
       "3         0     4.5   215644  25.0  50,000,000+  Free    0.0               4   \n",
       "4         0     4.3      967   2.8     100,000+  Free    0.0               1   \n",
       "\n",
       "                      Genres      Last Updated         Current Ver  \\\n",
       "0               Art & Design   January 7, 2018               1.0.0   \n",
       "1  Art & Design;Pretend Play  January 15, 2018               2.0.0   \n",
       "2               Art & Design    August 1, 2018               1.2.4   \n",
       "3               Art & Design      June 8, 2018  Varies with device   \n",
       "4    Art & Design;Creativity     June 20, 2018                 1.1   \n",
       "\n",
       "    Android Ver  \n",
       "0  4.0.3 and up  \n",
       "1  4.0.3 and up  \n",
       "2  4.0.3 and up  \n",
       "3    4.2 and up  \n",
       "4    4.4 and up  "
      ]
     },
     "execution_count": 131,
     "metadata": {},
     "output_type": "execute_result"
    }
   ],
   "source": [
    "df.head()"
   ]
  },
  {
   "cell_type": "code",
   "execution_count": 132,
   "id": "46c4c7b9",
   "metadata": {},
   "outputs": [],
   "source": [
    "l_e_genres=LabelEncoder()"
   ]
  },
  {
   "cell_type": "code",
   "execution_count": 133,
   "id": "13a6e723",
   "metadata": {},
   "outputs": [],
   "source": [
    "df[\"Genres\"]=l_e_genres.fit_transform(df[\"Genres\"])"
   ]
  },
  {
   "cell_type": "code",
   "execution_count": 134,
   "id": "abd0e885",
   "metadata": {},
   "outputs": [
    {
     "data": {
      "text/plain": [
       "array([  9,  12,  11,  10,  13,  14,  19,  22,  34,  35,  36,  38,  43,\n",
       "        39,  42,  44,  40,  45,  41,  52,  57,  54,  55,  59,  60,  61,\n",
       "        62,  65,  66,  67,  69,   3,   6,  27,  23,  33,   0, 104,  83,\n",
       "       102,  72, 118,  88,  30,  28,  97,   2,  15, 112,  91,  99,   1,\n",
       "        29,  98,  49,  85,  50,  25,  48,  51,  56,  31,  74,  89,   8,\n",
       "        92, 100,  86, 103,  47,   7,  53,  84, 105,  73,  64,   5,  17,\n",
       "        16,  18,  32,  95,  58, 115,  24,  71, 101,  96,  81, 110, 111,\n",
       "       108, 109,  80,  82,  76,  79,  78,  77, 117, 114, 116,  75,  70,\n",
       "        63,  46,  26,   4, 113,  68,  20,  21,  87,  94,  93, 107,  90,\n",
       "        37, 106])"
      ]
     },
     "execution_count": 134,
     "metadata": {},
     "output_type": "execute_result"
    }
   ],
   "source": [
    "df[\"Genres\"].unique()"
   ]
  },
  {
   "cell_type": "markdown",
   "id": "784c2da0",
   "metadata": {},
   "source": [
    "## Last Updated"
   ]
  },
  {
   "cell_type": "code",
   "execution_count": 135,
   "id": "b98fb865",
   "metadata": {},
   "outputs": [
    {
     "data": {
      "text/plain": [
       "1376"
      ]
     },
     "execution_count": 135,
     "metadata": {},
     "output_type": "execute_result"
    }
   ],
   "source": [
    "len(df[\"Last Updated\"].unique())"
   ]
  },
  {
   "cell_type": "code",
   "execution_count": 136,
   "id": "21bf178a",
   "metadata": {},
   "outputs": [
    {
     "data": {
      "text/html": [
       "<div>\n",
       "<style scoped>\n",
       "    .dataframe tbody tr th:only-of-type {\n",
       "        vertical-align: middle;\n",
       "    }\n",
       "\n",
       "    .dataframe tbody tr th {\n",
       "        vertical-align: top;\n",
       "    }\n",
       "\n",
       "    .dataframe thead th {\n",
       "        text-align: right;\n",
       "    }\n",
       "</style>\n",
       "<table border=\"1\" class=\"dataframe\">\n",
       "  <thead>\n",
       "    <tr style=\"text-align: right;\">\n",
       "      <th></th>\n",
       "      <th>Category</th>\n",
       "      <th>Rating</th>\n",
       "      <th>Reviews</th>\n",
       "      <th>Size</th>\n",
       "      <th>Installs</th>\n",
       "      <th>Type</th>\n",
       "      <th>Price</th>\n",
       "      <th>Content Rating</th>\n",
       "      <th>Genres</th>\n",
       "      <th>Last Updated</th>\n",
       "      <th>Current Ver</th>\n",
       "      <th>Android Ver</th>\n",
       "    </tr>\n",
       "  </thead>\n",
       "  <tbody>\n",
       "    <tr>\n",
       "      <th>0</th>\n",
       "      <td>0</td>\n",
       "      <td>4.1</td>\n",
       "      <td>159</td>\n",
       "      <td>19.0</td>\n",
       "      <td>10,000+</td>\n",
       "      <td>Free</td>\n",
       "      <td>0.0</td>\n",
       "      <td>1</td>\n",
       "      <td>9</td>\n",
       "      <td>January 7, 2018</td>\n",
       "      <td>1.0.0</td>\n",
       "      <td>4.0.3 and up</td>\n",
       "    </tr>\n",
       "    <tr>\n",
       "      <th>1</th>\n",
       "      <td>0</td>\n",
       "      <td>3.9</td>\n",
       "      <td>967</td>\n",
       "      <td>14.0</td>\n",
       "      <td>500,000+</td>\n",
       "      <td>Free</td>\n",
       "      <td>0.0</td>\n",
       "      <td>1</td>\n",
       "      <td>12</td>\n",
       "      <td>January 15, 2018</td>\n",
       "      <td>2.0.0</td>\n",
       "      <td>4.0.3 and up</td>\n",
       "    </tr>\n",
       "    <tr>\n",
       "      <th>2</th>\n",
       "      <td>0</td>\n",
       "      <td>4.7</td>\n",
       "      <td>87510</td>\n",
       "      <td>8.7</td>\n",
       "      <td>5,000,000+</td>\n",
       "      <td>Free</td>\n",
       "      <td>0.0</td>\n",
       "      <td>1</td>\n",
       "      <td>9</td>\n",
       "      <td>August 1, 2018</td>\n",
       "      <td>1.2.4</td>\n",
       "      <td>4.0.3 and up</td>\n",
       "    </tr>\n",
       "    <tr>\n",
       "      <th>3</th>\n",
       "      <td>0</td>\n",
       "      <td>4.5</td>\n",
       "      <td>215644</td>\n",
       "      <td>25.0</td>\n",
       "      <td>50,000,000+</td>\n",
       "      <td>Free</td>\n",
       "      <td>0.0</td>\n",
       "      <td>4</td>\n",
       "      <td>9</td>\n",
       "      <td>June 8, 2018</td>\n",
       "      <td>Varies with device</td>\n",
       "      <td>4.2 and up</td>\n",
       "    </tr>\n",
       "    <tr>\n",
       "      <th>4</th>\n",
       "      <td>0</td>\n",
       "      <td>4.3</td>\n",
       "      <td>967</td>\n",
       "      <td>2.8</td>\n",
       "      <td>100,000+</td>\n",
       "      <td>Free</td>\n",
       "      <td>0.0</td>\n",
       "      <td>1</td>\n",
       "      <td>11</td>\n",
       "      <td>June 20, 2018</td>\n",
       "      <td>1.1</td>\n",
       "      <td>4.4 and up</td>\n",
       "    </tr>\n",
       "  </tbody>\n",
       "</table>\n",
       "</div>"
      ],
      "text/plain": [
       "   Category  Rating  Reviews  Size     Installs  Type  Price  Content Rating  \\\n",
       "0         0     4.1      159  19.0      10,000+  Free    0.0               1   \n",
       "1         0     3.9      967  14.0     500,000+  Free    0.0               1   \n",
       "2         0     4.7    87510   8.7   5,000,000+  Free    0.0               1   \n",
       "3         0     4.5   215644  25.0  50,000,000+  Free    0.0               4   \n",
       "4         0     4.3      967   2.8     100,000+  Free    0.0               1   \n",
       "\n",
       "   Genres      Last Updated         Current Ver   Android Ver  \n",
       "0       9   January 7, 2018               1.0.0  4.0.3 and up  \n",
       "1      12  January 15, 2018               2.0.0  4.0.3 and up  \n",
       "2       9    August 1, 2018               1.2.4  4.0.3 and up  \n",
       "3       9      June 8, 2018  Varies with device    4.2 and up  \n",
       "4      11     June 20, 2018                 1.1    4.4 and up  "
      ]
     },
     "execution_count": 136,
     "metadata": {},
     "output_type": "execute_result"
    }
   ],
   "source": [
    "df.head()"
   ]
  },
  {
   "cell_type": "code",
   "execution_count": 137,
   "id": "82d26cdd",
   "metadata": {},
   "outputs": [
    {
     "data": {
      "text/plain": [
       "array(['January 7, 2018', 'January 15, 2018', 'August 1, 2018', ...,\n",
       "       'January 20, 2014', 'February 16, 2014', 'March 23, 2014'],\n",
       "      dtype=object)"
      ]
     },
     "execution_count": 137,
     "metadata": {},
     "output_type": "execute_result"
    }
   ],
   "source": [
    "df[\"Last Updated\"].unique()"
   ]
  },
  {
   "cell_type": "code",
   "execution_count": 138,
   "id": "d3595001",
   "metadata": {},
   "outputs": [
    {
     "data": {
      "text/plain": [
       "array(['January 7, 2018', 'January 15, 2018', 'August 1, 2018', ...,\n",
       "       'January 20, 2014', 'February 16, 2014', 'March 23, 2014'],\n",
       "      dtype=object)"
      ]
     },
     "execution_count": 138,
     "metadata": {},
     "output_type": "execute_result"
    }
   ],
   "source": [
    "df[\"Last Updated\"].unique()"
   ]
  },
  {
   "cell_type": "code",
   "execution_count": 139,
   "id": "d16fce9d",
   "metadata": {},
   "outputs": [
    {
     "data": {
      "text/plain": [
       "array(['January 7, 2018', 'January 15, 2018', 'August 1, 2018', ...,\n",
       "       'January 20, 2014', 'February 16, 2014', 'March 23, 2014'],\n",
       "      dtype=object)"
      ]
     },
     "execution_count": 139,
     "metadata": {},
     "output_type": "execute_result"
    }
   ],
   "source": [
    "df[\"Last Updated\"].unique()\n"
   ]
  },
  {
   "cell_type": "code",
   "execution_count": 140,
   "id": "b6b2735d",
   "metadata": {},
   "outputs": [],
   "source": [
    "df[\"Last Updated\"]=df[\"Last Updated\"].apply(lambda x: x.replace(x[:-4], \"\"))"
   ]
  },
  {
   "cell_type": "code",
   "execution_count": 141,
   "id": "30f200dc",
   "metadata": {},
   "outputs": [
    {
     "data": {
      "text/plain": [
       "array(['2018', '2017', '2014', '2016', '2015', '2013', '2012', '2011',\n",
       "       '2010'], dtype=object)"
      ]
     },
     "execution_count": 141,
     "metadata": {},
     "output_type": "execute_result"
    }
   ],
   "source": [
    "df[\"Last Updated\"].unique()"
   ]
  },
  {
   "cell_type": "code",
   "execution_count": 142,
   "id": "f47ff36f",
   "metadata": {},
   "outputs": [],
   "source": [
    "df[\"Last Updated\"]=df[\"Last Updated\"].apply(lambda x: int(x))"
   ]
  },
  {
   "cell_type": "code",
   "execution_count": 143,
   "id": "945f100c",
   "metadata": {},
   "outputs": [
    {
     "data": {
      "text/plain": [
       "array([2018, 2017, 2014, 2016, 2015, 2013, 2012, 2011, 2010], dtype=int64)"
      ]
     },
     "execution_count": 143,
     "metadata": {},
     "output_type": "execute_result"
    }
   ],
   "source": [
    "df[\"Last Updated\"].unique()"
   ]
  },
  {
   "cell_type": "markdown",
   "id": "b777672e",
   "metadata": {},
   "source": [
    "## Current Ver"
   ]
  },
  {
   "cell_type": "code",
   "execution_count": 144,
   "id": "6ce92fba",
   "metadata": {},
   "outputs": [
    {
     "data": {
      "text/plain": [
       "['0.0.0.2',\n",
       " '0.0.1',\n",
       " '0.0.10',\n",
       " '0.0.2',\n",
       " '0.0.3',\n",
       " '0.0.4',\n",
       " '0.0.42',\n",
       " '0.0.44',\n",
       " '0.0.5',\n",
       " '0.0.52',\n",
       " '0.0.53',\n",
       " '0.0.6',\n",
       " '0.0.7',\n",
       " '0.0.73',\n",
       " '0.0.80',\n",
       " '0.0.9',\n",
       " '0.1',\n",
       " '0.1.0',\n",
       " '0.1.1',\n",
       " '0.1.10.0',\n",
       " '0.1.100944346',\n",
       " '0.1.11',\n",
       " '0.1.187945513',\n",
       " '0.1.2',\n",
       " '0.1.219',\n",
       " '0.1.22',\n",
       " '0.1.27',\n",
       " '0.1.5',\n",
       " '0.1.6',\n",
       " '0.1.7',\n",
       " '0.1.8',\n",
       " '0.1.8 beta',\n",
       " '0.1.801',\n",
       " '0.11',\n",
       " '0.111.3',\n",
       " '0.12',\n",
       " '0.12.334385',\n",
       " '0.15.2',\n",
       " '0.16',\n",
       " '0.19.13-SPECTRUM',\n",
       " '0.2',\n",
       " '0.2.1',\n",
       " '0.2.32',\n",
       " '0.2.7',\n",
       " '0.2.9.17',\n",
       " '0.20',\n",
       " '0.21.1',\n",
       " '0.22',\n",
       " '0.24',\n",
       " '0.29.74',\n",
       " '0.3',\n",
       " '0.3.1',\n",
       " '0.3.4',\n",
       " '0.3.7',\n",
       " '0.33',\n",
       " '0.35',\n",
       " '0.38.1',\n",
       " '0.4.0',\n",
       " '0.4.1',\n",
       " '0.4.4',\n",
       " '0.4.6',\n",
       " '0.46.0',\n",
       " '0.46.91',\n",
       " '0.5',\n",
       " '0.5.10011',\n",
       " '0.5.2 beta',\n",
       " '0.5.4',\n",
       " '0.5.8',\n",
       " '0.54.2.4',\n",
       " '0.59',\n",
       " '0.6',\n",
       " '0.6.0',\n",
       " '0.6.11',\n",
       " '0.6.2',\n",
       " '0.6.49',\n",
       " '0.6.88',\n",
       " '0.62',\n",
       " '0.7',\n",
       " '0.7.0',\n",
       " '0.7.1',\n",
       " '0.7.9',\n",
       " '0.74 11.12.2016',\n",
       " '0.8',\n",
       " '0.8.0',\n",
       " '0.8.129',\n",
       " '0.8.17',\n",
       " '0.8.2',\n",
       " '0.8.6',\n",
       " '0.81 beta',\n",
       " '0.858',\n",
       " '0.9.0',\n",
       " '0.9.1',\n",
       " '0.9.10.f96',\n",
       " '0.9.16',\n",
       " '0.9.2',\n",
       " '0.9.3',\n",
       " '0.9.34',\n",
       " '0.9.4',\n",
       " '0.9.5',\n",
       " '0.9.9.14',\n",
       " '0.90',\n",
       " '0.99',\n",
       " '01.01.66',\n",
       " '01e',\n",
       " '02.00.06',\n",
       " '02.02.0045',\n",
       " '04.00.40',\n",
       " '04.08.00',\n",
       " '06.11.00',\n",
       " '060816',\n",
       " '1',\n",
       " '1,01',\n",
       " '1.',\n",
       " '1.0',\n",
       " '1.0 Super Ear Hearing',\n",
       " '1.0-a22936.127',\n",
       " '1.0-build20170819',\n",
       " '1.0.',\n",
       " '1.0.0',\n",
       " '1.0.0.0',\n",
       " '1.0.0.1',\n",
       " '1.0.0.10',\n",
       " '1.0.0.17',\n",
       " '1.0.0.2',\n",
       " '1.0.0.21_180410',\n",
       " '1.0.0.22',\n",
       " '1.0.0.32',\n",
       " '1.0.0.4',\n",
       " '1.0.0.457',\n",
       " '1.0.0.5',\n",
       " '1.0.0.8',\n",
       " '1.0.0.9',\n",
       " '1.0.0.96',\n",
       " '1.0.01',\n",
       " '1.0.013',\n",
       " '1.0.02',\n",
       " '1.0.03',\n",
       " '1.0.05',\n",
       " '1.0.08.73',\n",
       " '1.0.1',\n",
       " '1.0.1 (1.5.1)',\n",
       " '1.0.1.00613',\n",
       " '1.0.1.049',\n",
       " '1.0.1.24',\n",
       " '1.0.1.8',\n",
       " '1.0.10',\n",
       " '1.0.10.5',\n",
       " '1.0.100rc1.withoutKeysync',\n",
       " '1.0.103',\n",
       " '1.0.109',\n",
       " '1.0.11',\n",
       " '1.0.12',\n",
       " '1.0.124',\n",
       " '1.0.13',\n",
       " '1.0.136',\n",
       " '1.0.14',\n",
       " '1.0.141215',\n",
       " '1.0.142',\n",
       " '1.0.144431',\n",
       " '1.0.15',\n",
       " '1.0.16',\n",
       " '1.0.167',\n",
       " '1.0.17',\n",
       " '1.0.17.0423',\n",
       " '1.0.17.2',\n",
       " '1.0.17.3905',\n",
       " '1.0.1702140017',\n",
       " '1.0.175',\n",
       " '1.0.18',\n",
       " '1.0.180202',\n",
       " '1.0.180206',\n",
       " '1.0.184',\n",
       " '1.0.19',\n",
       " '1.0.2',\n",
       " '1.0.2-alpha4',\n",
       " '1.0.2.0',\n",
       " '1.0.2.1',\n",
       " '1.0.2.9',\n",
       " '1.0.20',\n",
       " '1.0.204375696',\n",
       " '1.0.208',\n",
       " '1.0.209',\n",
       " '1.0.21',\n",
       " '1.0.23',\n",
       " '1.0.24',\n",
       " '1.0.26',\n",
       " '1.0.261',\n",
       " '1.0.27',\n",
       " '1.0.28',\n",
       " '1.0.3',\n",
       " '1.0.3-DzMobile',\n",
       " '1.0.3.1',\n",
       " '1.0.3.8',\n",
       " '1.0.3122',\n",
       " '1.0.32',\n",
       " '1.0.32.1',\n",
       " '1.0.3289',\n",
       " '1.0.3386',\n",
       " '1.0.34',\n",
       " '1.0.36',\n",
       " '1.0.38',\n",
       " '1.0.4',\n",
       " '1.0.4.3',\n",
       " '1.0.4.91',\n",
       " '1.0.46',\n",
       " '1.0.47',\n",
       " '1.0.499',\n",
       " '1.0.5',\n",
       " '1.0.5.170418-cardspl',\n",
       " '1.0.51.0.3',\n",
       " '1.0.52',\n",
       " '1.0.56',\n",
       " '1.0.59',\n",
       " '1.0.6',\n",
       " '1.0.6.4',\n",
       " '1.0.6.8',\n",
       " '1.0.606863',\n",
       " '1.0.606877',\n",
       " '1.0.612919',\n",
       " '1.0.612928',\n",
       " '1.0.612931',\n",
       " '1.0.612933',\n",
       " '1.0.63',\n",
       " '1.0.64',\n",
       " '1.0.6®',\n",
       " '1.0.7',\n",
       " '1.0.7.8',\n",
       " '1.0.70',\n",
       " '1.0.72',\n",
       " '1.0.8',\n",
       " '1.0.8.506',\n",
       " '1.0.81',\n",
       " '1.0.82',\n",
       " '1.0.89',\n",
       " '1.0.9',\n",
       " '1.0.9.10',\n",
       " '1.0.90',\n",
       " '1.0.95',\n",
       " '1.0.988',\n",
       " '1.0.98_ww',\n",
       " '1.0.B+.Exceed.Paid',\n",
       " '1.0.|',\n",
       " '1.00',\n",
       " '1.00.00',\n",
       " '1.00.02',\n",
       " '1.00.10',\n",
       " '1.00.15',\n",
       " '1.00.33',\n",
       " '1.002',\n",
       " '1.0060.b0060',\n",
       " '1.01',\n",
       " '1.01.00',\n",
       " '1.01.03',\n",
       " '1.02',\n",
       " '1.02.01',\n",
       " '1.02.2018.11',\n",
       " '1.02.53',\n",
       " '1.021.10',\n",
       " '1.022',\n",
       " '1.03',\n",
       " '1.03.06',\n",
       " '1.03.123.0713',\n",
       " '1.04',\n",
       " '1.0404',\n",
       " '1.042',\n",
       " '1.05',\n",
       " '1.05.20',\n",
       " '1.06',\n",
       " '1.07',\n",
       " '1.07.59',\n",
       " '1.078',\n",
       " '1.08',\n",
       " '1.084',\n",
       " '1.09',\n",
       " '1.091',\n",
       " '1.093',\n",
       " '1.0beta',\n",
       " '1.1',\n",
       " \"1.1 (j'sais pas)\",\n",
       " '1.1 Build 226',\n",
       " '1.1.0',\n",
       " '1.1.0.0',\n",
       " '1.1.0.0.1487',\n",
       " '1.1.0.0402',\n",
       " '1.1.0.3',\n",
       " '1.1.06',\n",
       " '1.1.07.6',\n",
       " '1.1.1',\n",
       " '1.1.1-play',\n",
       " '1.1.1.6',\n",
       " '1.1.10',\n",
       " '1.1.10a',\n",
       " '1.1.11',\n",
       " '1.1.11.11',\n",
       " '1.1.12',\n",
       " '1.1.13',\n",
       " '1.1.14',\n",
       " '1.1.15.12',\n",
       " '1.1.15205',\n",
       " '1.1.16',\n",
       " '1.1.2',\n",
       " '1.1.2.0',\n",
       " '1.1.2.1',\n",
       " '1.1.22',\n",
       " '1.1.23',\n",
       " '1.1.27.477-free',\n",
       " '1.1.3',\n",
       " '1.1.3.2',\n",
       " '1.1.39',\n",
       " '1.1.4',\n",
       " '1.1.4.1296',\n",
       " '1.1.4.38',\n",
       " '1.1.40',\n",
       " '1.1.43',\n",
       " '1.1.46',\n",
       " '1.1.47',\n",
       " '1.1.4g',\n",
       " '1.1.5',\n",
       " '1.1.5.0',\n",
       " '1.1.50',\n",
       " '1.1.51',\n",
       " '1.1.52',\n",
       " '1.1.58',\n",
       " '1.1.6',\n",
       " '1.1.6.1',\n",
       " '1.1.6.6',\n",
       " '1.1.6.7',\n",
       " '1.1.64',\n",
       " '1.1.7',\n",
       " '1.1.7.0',\n",
       " '1.1.7.4',\n",
       " '1.1.700',\n",
       " '1.1.8',\n",
       " '1.1.8.2',\n",
       " '1.1.9',\n",
       " '1.1.9.1',\n",
       " '1.1.9371',\n",
       " '1.1.97',\n",
       " '1.10',\n",
       " '1.10.0',\n",
       " '1.10.0.0',\n",
       " '1.10.0.205086730',\n",
       " '1.10.0.33_180403',\n",
       " '1.10.0.user.pro.release',\n",
       " '1.10.1',\n",
       " '1.10.12',\n",
       " '1.10.279.2',\n",
       " '1.10.3',\n",
       " '1.10.4',\n",
       " '1.10.5',\n",
       " '1.10.6',\n",
       " '1.107',\n",
       " '1.11',\n",
       " '1.11.0',\n",
       " '1.11.01',\n",
       " '1.11.1prod',\n",
       " '1.11.2',\n",
       " '1.11.39',\n",
       " '1.11.4',\n",
       " '1.11.6',\n",
       " '1.11.93',\n",
       " '1.118.4',\n",
       " '1.12',\n",
       " '1.12.0',\n",
       " '1.12.0.1654',\n",
       " '1.12.1',\n",
       " '1.12.2',\n",
       " '1.12.23',\n",
       " '1.12.5',\n",
       " '1.12.5.1',\n",
       " '1.122.250.1421',\n",
       " '1.126',\n",
       " '1.129.0.2',\n",
       " '1.13',\n",
       " '1.13.0',\n",
       " '1.13.108869',\n",
       " '1.13.12',\n",
       " '1.13.2.11',\n",
       " '1.13.299',\n",
       " '1.131',\n",
       " '1.131.2',\n",
       " '1.137.22',\n",
       " '1.14',\n",
       " '1.14.0',\n",
       " '1.14.00',\n",
       " '1.14.1',\n",
       " '1.14.3',\n",
       " '1.14b',\n",
       " '1.15',\n",
       " '1.15.0',\n",
       " '1.15.2',\n",
       " '1.15.3028.0',\n",
       " '1.15.5',\n",
       " '1.16',\n",
       " '1.16.0',\n",
       " '1.16.2',\n",
       " '1.16.21',\n",
       " '1.16.32',\n",
       " '1.16.33',\n",
       " '1.16.5',\n",
       " '1.16.9',\n",
       " '1.161.10002',\n",
       " '1.17',\n",
       " '1.17.0',\n",
       " '1.17.0.0',\n",
       " '1.17.1',\n",
       " '1.17.2',\n",
       " '1.17.4',\n",
       " '1.173.126',\n",
       " '1.18',\n",
       " '1.18.0',\n",
       " '1.18.1',\n",
       " '1.18.10',\n",
       " '1.18.2',\n",
       " '1.18.34',\n",
       " '1.18.35',\n",
       " '1.18.4',\n",
       " '1.18.8',\n",
       " '1.180271.184729',\n",
       " '1.180702',\n",
       " '1.19',\n",
       " '1.19.1',\n",
       " '1.19.56.434',\n",
       " '1.193',\n",
       " '1.2',\n",
       " '1.2-Release',\n",
       " '1.2.0',\n",
       " '1.2.0.200',\n",
       " '1.2.0.27',\n",
       " '1.2.0.8',\n",
       " '1.2.0.9',\n",
       " '1.2.1',\n",
       " '1.2.1.0',\n",
       " '1.2.1.1712080',\n",
       " '1.2.1.49',\n",
       " '1.2.10',\n",
       " '1.2.100',\n",
       " '1.2.1009.695',\n",
       " '1.2.11',\n",
       " '1.2.1107',\n",
       " '1.2.115',\n",
       " '1.2.12',\n",
       " '1.2.13',\n",
       " '1.2.14',\n",
       " '1.2.16',\n",
       " '1.2.187-83',\n",
       " '1.2.2',\n",
       " '1.2.2.0',\n",
       " '1.2.2.122',\n",
       " '1.2.2.2',\n",
       " '1.2.20180117',\n",
       " '1.2.21',\n",
       " '1.2.22',\n",
       " '1.2.287',\n",
       " '1.2.2_comAds',\n",
       " '1.2.3',\n",
       " '1.2.3-DEBUG',\n",
       " '1.2.3-play',\n",
       " '1.2.3.1',\n",
       " '1.2.3.2',\n",
       " '1.2.3.4.5',\n",
       " '1.2.31',\n",
       " '1.2.36',\n",
       " '1.2.392',\n",
       " '1.2.4',\n",
       " '1.2.4.69',\n",
       " '1.2.5',\n",
       " '1.2.5.4-11',\n",
       " '1.2.6',\n",
       " '1.2.6 (94)',\n",
       " '1.2.677',\n",
       " '1.2.7',\n",
       " '1.2.8',\n",
       " '1.2.84',\n",
       " '1.2.9',\n",
       " '1.2.97.3042',\n",
       " '1.2.A.Exceed.Paid',\n",
       " '1.20',\n",
       " '1.20.1',\n",
       " '1.20.2',\n",
       " '1.20.22',\n",
       " '1.20.3',\n",
       " '1.200',\n",
       " '1.2016',\n",
       " '1.20180531.3',\n",
       " '1.21',\n",
       " '1.21.0',\n",
       " '1.21.1',\n",
       " '1.21.2',\n",
       " '1.22',\n",
       " '1.22.0',\n",
       " '1.22.1',\n",
       " '1.221',\n",
       " '1.23',\n",
       " '1.23.0',\n",
       " '1.23.1.2',\n",
       " '1.23.3.0',\n",
       " '1.23.3.75024',\n",
       " '1.230',\n",
       " '1.24',\n",
       " '1.24.09',\n",
       " '1.24.1',\n",
       " '1.24.3181',\n",
       " '1.24.5',\n",
       " '1.246',\n",
       " '1.25',\n",
       " '1.25.0',\n",
       " '1.25.396',\n",
       " '1.25.4',\n",
       " '1.250.078',\n",
       " '1.251.54',\n",
       " '1.26',\n",
       " '1.26.001',\n",
       " '1.26.03',\n",
       " '1.26.2',\n",
       " '1.27',\n",
       " '1.2703.273',\n",
       " '1.278.0037',\n",
       " '1.279.13.93',\n",
       " '1.279.13.98',\n",
       " '1.28',\n",
       " '1.28.0.5402',\n",
       " '1.28.01',\n",
       " '1.28.1',\n",
       " '1.283.0037',\n",
       " '1.284.1.126',\n",
       " '1.284.1.83',\n",
       " '1.286',\n",
       " '1.28ggl',\n",
       " '1.29',\n",
       " '1.29.15',\n",
       " '1.2_3',\n",
       " '1.3',\n",
       " '1.3 acremotecontrol',\n",
       " '1.3.0',\n",
       " '1.3.0.6',\n",
       " '1.3.1',\n",
       " '1.3.1-lite',\n",
       " '1.3.11',\n",
       " '1.3.12',\n",
       " '1.3.13',\n",
       " '1.3.14',\n",
       " '1.3.140606',\n",
       " '1.3.15',\n",
       " '1.3.185',\n",
       " '1.3.2',\n",
       " '1.3.2.9',\n",
       " '1.3.20',\n",
       " '1.3.205',\n",
       " '1.3.21',\n",
       " '1.3.22',\n",
       " '1.3.3',\n",
       " '1.3.3.1',\n",
       " '1.3.3.9',\n",
       " '1.3.34',\n",
       " '1.3.35',\n",
       " '1.3.35.0',\n",
       " '1.3.4',\n",
       " '1.3.5',\n",
       " '1.3.51',\n",
       " '1.3.6',\n",
       " '1.3.6.4',\n",
       " '1.3.7',\n",
       " '1.3.8',\n",
       " '1.3.81',\n",
       " '1.3.9',\n",
       " '1.3.9b',\n",
       " '1.3.A.2.9',\n",
       " '1.308.us',\n",
       " '1.31',\n",
       " '1.31.0',\n",
       " '1.31.0-15160.950adac99',\n",
       " '1.31.3',\n",
       " '1.31.4',\n",
       " '1.31.62.109',\n",
       " '1.32',\n",
       " '1.32.1',\n",
       " '1.33',\n",
       " '1.34.1',\n",
       " '1.35',\n",
       " '1.35.1',\n",
       " '1.35.2',\n",
       " '1.35.23',\n",
       " '1.36',\n",
       " '1.36.82',\n",
       " '1.37',\n",
       " '1.37.2',\n",
       " '1.375',\n",
       " '1.38',\n",
       " '1.38.0',\n",
       " '1.38.1',\n",
       " '1.39',\n",
       " '1.3_4',\n",
       " '1.4',\n",
       " '1.4.0',\n",
       " '1.4.0-2',\n",
       " '1.4.0.1',\n",
       " '1.4.0.2',\n",
       " '1.4.08.2',\n",
       " '1.4.0_180703',\n",
       " '1.4.1',\n",
       " '1.4.1(0629A)',\n",
       " '1.4.1.0',\n",
       " '1.4.10',\n",
       " '1.4.1033',\n",
       " '1.4.11',\n",
       " '1.4.12',\n",
       " '1.4.13',\n",
       " '1.4.15-free',\n",
       " '1.4.2',\n",
       " '1.4.2.1',\n",
       " '1.4.3',\n",
       " '1.4.3.104',\n",
       " '1.4.36',\n",
       " '1.4.4',\n",
       " '1.4.5',\n",
       " '1.4.5.2',\n",
       " '1.4.51',\n",
       " '1.4.6',\n",
       " '1.4.7',\n",
       " '1.4.77',\n",
       " '1.4.8',\n",
       " '1.4.83',\n",
       " '1.4.9',\n",
       " '1.4.large',\n",
       " '1.40',\n",
       " '1.40.170809',\n",
       " '1.401',\n",
       " '1.41',\n",
       " '1.42',\n",
       " '1.42.180409',\n",
       " '1.42.2',\n",
       " '1.43',\n",
       " '1.43.3',\n",
       " '1.44',\n",
       " '1.441',\n",
       " '1.46',\n",
       " '1.47',\n",
       " '1.48',\n",
       " '1.48.0',\n",
       " '1.49',\n",
       " '1.49.1',\n",
       " '1.5',\n",
       " '1.5-beta',\n",
       " '1.5-play',\n",
       " '1.5.0',\n",
       " '1.5.062',\n",
       " '1.5.1',\n",
       " '1.5.1-GP',\n",
       " '1.5.1.182070924',\n",
       " '1.5.10',\n",
       " '1.5.10.NA',\n",
       " '1.5.12',\n",
       " '1.5.13',\n",
       " '1.5.13-3598',\n",
       " '1.5.14',\n",
       " '1.5.140718',\n",
       " '1.5.18',\n",
       " '1.5.2',\n",
       " '1.5.2.1',\n",
       " '1.5.2.21',\n",
       " '1.5.2.4-23',\n",
       " '1.5.3',\n",
       " '1.5.3.1807',\n",
       " '1.5.3.20',\n",
       " '1.5.3.8',\n",
       " '1.5.341',\n",
       " '1.5.4',\n",
       " '1.5.4.0',\n",
       " '1.5.447',\n",
       " '1.5.49',\n",
       " '1.5.5',\n",
       " '1.5.6',\n",
       " '1.5.8',\n",
       " '1.5.9',\n",
       " '1.5.9.9',\n",
       " '1.50',\n",
       " '1.51',\n",
       " '1.52',\n",
       " '1.53',\n",
       " '1.54',\n",
       " '1.55',\n",
       " '1.55.4',\n",
       " '1.56',\n",
       " '1.57',\n",
       " '1.574',\n",
       " '1.58',\n",
       " '1.59',\n",
       " '1.5_6',\n",
       " '1.6',\n",
       " '1.6(3)-demo',\n",
       " '1.6.0',\n",
       " '1.6.0.0',\n",
       " '1.6.07',\n",
       " '1.6.1',\n",
       " '1.6.1.2',\n",
       " '1.6.11',\n",
       " '1.6.1326',\n",
       " '1.6.17',\n",
       " '1.6.2',\n",
       " '1.6.22',\n",
       " '1.6.3',\n",
       " '1.6.3.1',\n",
       " '1.6.3028.0',\n",
       " '1.6.4',\n",
       " '1.6.5',\n",
       " '1.6.6',\n",
       " '1.6.7',\n",
       " '1.6.7.1',\n",
       " '1.6.8',\n",
       " '1.60',\n",
       " '1.60.0.31354-release',\n",
       " '1.62',\n",
       " '1.639',\n",
       " '1.64',\n",
       " '1.64.0.21247',\n",
       " '1.640',\n",
       " '1.67',\n",
       " '1.6d',\n",
       " '1.7',\n",
       " '1.7.0',\n",
       " '1.7.0.00115',\n",
       " '1.7.04',\n",
       " '1.7.0m',\n",
       " '1.7.1',\n",
       " '1.7.1 (946)',\n",
       " '1.7.1.3',\n",
       " '1.7.101',\n",
       " '1.7.10713 (281)',\n",
       " '1.7.11',\n",
       " '1.7.110758',\n",
       " '1.7.14',\n",
       " '1.7.16',\n",
       " '1.7.2',\n",
       " '1.7.2.10',\n",
       " '1.7.22',\n",
       " '1.7.28',\n",
       " '1.7.2992',\n",
       " '1.7.3',\n",
       " '1.7.3b',\n",
       " '1.7.4',\n",
       " '1.7.40',\n",
       " '1.7.5',\n",
       " '1.7.6',\n",
       " '1.7.7',\n",
       " '1.7.8',\n",
       " '1.7.9',\n",
       " '1.70',\n",
       " '1.72',\n",
       " '1.73',\n",
       " '1.73.0',\n",
       " '1.74',\n",
       " '1.75',\n",
       " '1.751',\n",
       " '1.76',\n",
       " '1.77',\n",
       " '1.78',\n",
       " '1.79',\n",
       " '1.8',\n",
       " '1.8 (2014-10-10 11:10:51 +0400)',\n",
       " '1.8 P',\n",
       " '1.8.0',\n",
       " '1.8.0.170824_9',\n",
       " '1.8.0.24_180511',\n",
       " '1.8.0.4',\n",
       " '1.8.0.900',\n",
       " '1.8.0502',\n",
       " '1.8.0716',\n",
       " '1.8.1',\n",
       " '1.8.1 (41)',\n",
       " '1.8.11',\n",
       " '1.8.12',\n",
       " '1.8.19106',\n",
       " '1.8.19179',\n",
       " '1.8.2',\n",
       " '1.8.2.7',\n",
       " '1.8.20',\n",
       " '1.8.203182757.armeabi-v7a.release',\n",
       " '1.8.225278',\n",
       " '1.8.3',\n",
       " '1.8.3111',\n",
       " '1.8.3181',\n",
       " '1.8.4',\n",
       " '1.8.4.5',\n",
       " '1.8.4.7',\n",
       " '1.8.5',\n",
       " '1.8.6',\n",
       " '1.8.7',\n",
       " '1.8.7.0',\n",
       " '1.8.8',\n",
       " '1.8.8.0',\n",
       " '1.8.9',\n",
       " '1.8.91',\n",
       " '1.80.03',\n",
       " '1.82',\n",
       " '1.830.0.564-(e405bb2)',\n",
       " '1.85',\n",
       " '1.9',\n",
       " '1.9.0',\n",
       " '1.9.0.0',\n",
       " '1.9.0.110162364',\n",
       " '1.9.1',\n",
       " '1.9.1.013',\n",
       " '1.9.1.147.0-google',\n",
       " '1.9.1.180419172630.4a15962',\n",
       " '1.9.10',\n",
       " '1.9.117',\n",
       " '1.9.19',\n",
       " '1.9.2',\n",
       " '1.9.2.180419172639.dbf3246',\n",
       " '1.9.22',\n",
       " '1.9.3',\n",
       " '1.9.3097721',\n",
       " '1.9.38',\n",
       " '1.9.3901',\n",
       " '1.9.4.74',\n",
       " '1.9.5',\n",
       " '1.9.58',\n",
       " '1.9.6.6',\n",
       " '1.9.7',\n",
       " '1.9.7.07',\n",
       " '1.9.734',\n",
       " '1.9.8',\n",
       " '1.9.8.0',\n",
       " '1.9.9.5',\n",
       " '1.9.9.9.3',\n",
       " '1.90.0',\n",
       " '1.91',\n",
       " '1.911.1944.4606',\n",
       " '1.911805270',\n",
       " '1.92',\n",
       " '1.93',\n",
       " '1.932',\n",
       " '1.935',\n",
       " '1.94',\n",
       " '1.94.9',\n",
       " '1.95',\n",
       " '1.96',\n",
       " '1.98',\n",
       " '1.998',\n",
       " '10',\n",
       " '10.0',\n",
       " '10.0.0',\n",
       " '10.0.10',\n",
       " '10.0.2',\n",
       " '10.0.3086',\n",
       " '10.0.3148',\n",
       " '10.012',\n",
       " '10.05',\n",
       " '10.1.0',\n",
       " '10.1.1',\n",
       " '10.1.28.560',\n",
       " '10.1.6',\n",
       " '10.10',\n",
       " '10.180530',\n",
       " '10.19',\n",
       " '10.19.0.0',\n",
       " '10.2.0',\n",
       " '10.2.1',\n",
       " '10.23.2-964159b',\n",
       " '10.24',\n",
       " '10.322.16',\n",
       " '10.36',\n",
       " '10.4',\n",
       " '10.4.1.000_00',\n",
       " '10.4.1.015_05',\n",
       " '10.4.1.018_06',\n",
       " '10.46.2',\n",
       " '10.5.00',\n",
       " '10.6',\n",
       " '10.6.3',\n",
       " '10.7.1388',\n",
       " '10.7.8.111',\n",
       " '10.78',\n",
       " '10.8.1.330',\n",
       " '10.9.1',\n",
       " '10.9.8 (Play)',\n",
       " '1000000.6',\n",
       " '10001008',\n",
       " '1004.0',\n",
       " '1009001',\n",
       " '102.0.875',\n",
       " '106',\n",
       " '108',\n",
       " '11',\n",
       " '11.0',\n",
       " '11.0.0',\n",
       " '11.0.2',\n",
       " '11.0.269 (m)',\n",
       " '11.04',\n",
       " '11.1',\n",
       " '11.1.0',\n",
       " '11.1.1',\n",
       " '11.1.1.179661',\n",
       " '11.1.3',\n",
       " '11.10.1',\n",
       " '11.11.1',\n",
       " '11.13.18.05.07.03',\n",
       " '11.15.03',\n",
       " '11.17.4.1024',\n",
       " '11.26',\n",
       " '11.4.0',\n",
       " '11.45.0',\n",
       " '11.6.0',\n",
       " '11.7.0',\n",
       " '11.7.3.0',\n",
       " '11.7.5',\n",
       " '11.8.6',\n",
       " '112.0',\n",
       " '116',\n",
       " '117',\n",
       " '11;11.26',\n",
       " '12',\n",
       " '12.0',\n",
       " '12.0.18071400',\n",
       " '12.0.4',\n",
       " '12.0.4.62276',\n",
       " '12.04.18',\n",
       " '12.1',\n",
       " '12.1.0',\n",
       " '12.2',\n",
       " '12.2.4',\n",
       " '12.2.6.3660',\n",
       " '12.2.7.3671',\n",
       " '12.6',\n",
       " '12.8.2',\n",
       " '12.8.2-pi',\n",
       " '12.8.5.1121',\n",
       " '125',\n",
       " '1255162018',\n",
       " '13',\n",
       " '13.0',\n",
       " '13.0.0',\n",
       " '13.0.16',\n",
       " '13.3',\n",
       " '13.4',\n",
       " '13.6.4',\n",
       " '13.8.3',\n",
       " '13.9.0.161',\n",
       " '130.48.08',\n",
       " '132',\n",
       " '14',\n",
       " '14.0',\n",
       " '14.0.1',\n",
       " '14.0.13',\n",
       " '14.01',\n",
       " '14.15',\n",
       " '14.2.1',\n",
       " '14.4.4.00',\n",
       " '14.6',\n",
       " '149',\n",
       " '15',\n",
       " '15.0',\n",
       " '15.1.2',\n",
       " '15.6',\n",
       " '15.8',\n",
       " '15.9.4',\n",
       " '15|06|17',\n",
       " '16.0',\n",
       " '16.0.0.437',\n",
       " '16.0.10325.20024',\n",
       " '16.0.10325.20043',\n",
       " '16.0.10325.20059',\n",
       " '16.00',\n",
       " '16.11.8',\n",
       " '16.14.0.100',\n",
       " '16.14.0.850',\n",
       " '16.3',\n",
       " '16.51.1',\n",
       " '16.6',\n",
       " '16.7',\n",
       " '16.7.1',\n",
       " '17.0',\n",
       " '17.05.11',\n",
       " '17.25.11',\n",
       " '17.4',\n",
       " '17.4.0014017',\n",
       " '17.4.1',\n",
       " '17.4.11',\n",
       " '17.6',\n",
       " '17.7.20',\n",
       " '17.7.8',\n",
       " '176.0.0.29.0',\n",
       " '18.0',\n",
       " '18.0.2',\n",
       " '18.0.5.172734',\n",
       " '18.05.31+530',\n",
       " '18.06.p03.02',\n",
       " '18.07.0',\n",
       " '18.08.05',\n",
       " '18.1',\n",
       " '18.1.18164',\n",
       " '18.1.79',\n",
       " '18.10.157066',\n",
       " '18.2',\n",
       " '18.201.01',\n",
       " '18.21.0',\n",
       " '18.30.0',\n",
       " '18.30.22',\n",
       " '18.4',\n",
       " ...]"
      ]
     },
     "execution_count": 144,
     "metadata": {},
     "output_type": "execute_result"
    }
   ],
   "source": [
    "sorted(df[\"Current Ver\"].unique())"
   ]
  },
  {
   "cell_type": "code",
   "execution_count": null,
   "id": "5c472473",
   "metadata": {},
   "outputs": [],
   "source": [
    "## May be from Current Ver column it is impossible to draw findings or the findings may become ambiguous"
   ]
  },
  {
   "cell_type": "code",
   "execution_count": null,
   "id": "8104fa7d",
   "metadata": {},
   "outputs": [],
   "source": []
  },
  {
   "cell_type": "markdown",
   "id": "e06b3160",
   "metadata": {},
   "source": [
    "## Android Ver"
   ]
  },
  {
   "cell_type": "code",
   "execution_count": 145,
   "id": "5a07a32d",
   "metadata": {},
   "outputs": [
    {
     "data": {
      "text/plain": [
       "['1.0 and up',\n",
       " '1.5 and up',\n",
       " '1.6 and up',\n",
       " '2.0 and up',\n",
       " '2.0.1 and up',\n",
       " '2.1 and up',\n",
       " '2.2 - 7.1.1',\n",
       " '2.2 and up',\n",
       " '2.3 and up',\n",
       " '2.3.3 and up',\n",
       " '3.0 and up',\n",
       " '3.1 and up',\n",
       " '3.2 and up',\n",
       " '4.0 and up',\n",
       " '4.0.3 - 7.1.1',\n",
       " '4.0.3 and up',\n",
       " '4.1 - 7.1.1',\n",
       " '4.1 and up',\n",
       " '4.2 and up',\n",
       " '4.3 and up',\n",
       " '4.4 and up',\n",
       " '4.4W and up',\n",
       " '5.0 - 6.0',\n",
       " '5.0 - 7.1.1',\n",
       " '5.0 - 8.0',\n",
       " '5.0 and up',\n",
       " '5.1 and up',\n",
       " '6.0 and up',\n",
       " '7.0 - 7.1.1',\n",
       " '7.0 and up',\n",
       " '7.1 and up',\n",
       " '8.0 and up',\n",
       " 'Varies with device']"
      ]
     },
     "execution_count": 145,
     "metadata": {},
     "output_type": "execute_result"
    }
   ],
   "source": [
    "sorted(df[\"Android Ver\"].unique())"
   ]
  },
  {
   "cell_type": "code",
   "execution_count": 146,
   "id": "19bd1a1c",
   "metadata": {},
   "outputs": [
    {
     "data": {
      "text/plain": [
       "1220"
      ]
     },
     "execution_count": 146,
     "metadata": {},
     "output_type": "execute_result"
    }
   ],
   "source": [
    "df['Android Ver'][df['Android Ver']== \"Varies with device\"].count()"
   ]
  },
  {
   "cell_type": "code",
   "execution_count": 147,
   "id": "867b093a",
   "metadata": {},
   "outputs": [],
   "source": [
    "df[\"Android Ver\"]= df[\"Android Ver\"].apply(lambda x: x.replace(x[1:], \"\"))"
   ]
  },
  {
   "cell_type": "code",
   "execution_count": 148,
   "id": "f7dd47f7",
   "metadata": {},
   "outputs": [],
   "source": [
    "df[\"Android Ver\"]= df[\"Android Ver\"].apply(lambda x: x+\"0.0\" if x==\"V\" else x)"
   ]
  },
  {
   "cell_type": "code",
   "execution_count": 149,
   "id": "f3cce04e",
   "metadata": {},
   "outputs": [
    {
     "data": {
      "text/plain": [
       "array(['4', '2', '3', 'V0.0', '5', '6', '1', '7', '8'], dtype=object)"
      ]
     },
     "execution_count": 149,
     "metadata": {},
     "output_type": "execute_result"
    }
   ],
   "source": [
    "df[\"Android Ver\"].unique()"
   ]
  },
  {
   "cell_type": "code",
   "execution_count": 154,
   "id": "7ac6a09b",
   "metadata": {},
   "outputs": [],
   "source": [
    "index_names = df[ df['Android Ver'] == \"V0.0\" ].index"
   ]
  },
  {
   "cell_type": "code",
   "execution_count": 155,
   "id": "41ad6397",
   "metadata": {},
   "outputs": [],
   "source": [
    "df.drop(index_names, inplace = True)"
   ]
  },
  {
   "cell_type": "code",
   "execution_count": 161,
   "id": "88dcfca0",
   "metadata": {},
   "outputs": [
    {
     "data": {
      "text/html": [
       "<div>\n",
       "<style scoped>\n",
       "    .dataframe tbody tr th:only-of-type {\n",
       "        vertical-align: middle;\n",
       "    }\n",
       "\n",
       "    .dataframe tbody tr th {\n",
       "        vertical-align: top;\n",
       "    }\n",
       "\n",
       "    .dataframe thead th {\n",
       "        text-align: right;\n",
       "    }\n",
       "</style>\n",
       "<table border=\"1\" class=\"dataframe\">\n",
       "  <thead>\n",
       "    <tr style=\"text-align: right;\">\n",
       "      <th></th>\n",
       "      <th>Category</th>\n",
       "      <th>Rating</th>\n",
       "      <th>Reviews</th>\n",
       "      <th>Size</th>\n",
       "      <th>Installs</th>\n",
       "      <th>Type</th>\n",
       "      <th>Price</th>\n",
       "      <th>Content Rating</th>\n",
       "      <th>Genres</th>\n",
       "      <th>Last Updated</th>\n",
       "      <th>Current Ver</th>\n",
       "      <th>Android Ver</th>\n",
       "    </tr>\n",
       "  </thead>\n",
       "  <tbody>\n",
       "    <tr>\n",
       "      <th>0</th>\n",
       "      <td>0</td>\n",
       "      <td>4.1</td>\n",
       "      <td>159</td>\n",
       "      <td>19.0</td>\n",
       "      <td>10,000+</td>\n",
       "      <td>Free</td>\n",
       "      <td>0.0</td>\n",
       "      <td>1</td>\n",
       "      <td>9</td>\n",
       "      <td>2018</td>\n",
       "      <td>1.0.0</td>\n",
       "      <td>4</td>\n",
       "    </tr>\n",
       "    <tr>\n",
       "      <th>1</th>\n",
       "      <td>0</td>\n",
       "      <td>3.9</td>\n",
       "      <td>967</td>\n",
       "      <td>14.0</td>\n",
       "      <td>500,000+</td>\n",
       "      <td>Free</td>\n",
       "      <td>0.0</td>\n",
       "      <td>1</td>\n",
       "      <td>12</td>\n",
       "      <td>2018</td>\n",
       "      <td>2.0.0</td>\n",
       "      <td>4</td>\n",
       "    </tr>\n",
       "    <tr>\n",
       "      <th>2</th>\n",
       "      <td>0</td>\n",
       "      <td>4.7</td>\n",
       "      <td>87510</td>\n",
       "      <td>8.7</td>\n",
       "      <td>5,000,000+</td>\n",
       "      <td>Free</td>\n",
       "      <td>0.0</td>\n",
       "      <td>1</td>\n",
       "      <td>9</td>\n",
       "      <td>2018</td>\n",
       "      <td>1.2.4</td>\n",
       "      <td>4</td>\n",
       "    </tr>\n",
       "    <tr>\n",
       "      <th>3</th>\n",
       "      <td>0</td>\n",
       "      <td>4.5</td>\n",
       "      <td>215644</td>\n",
       "      <td>25.0</td>\n",
       "      <td>50,000,000+</td>\n",
       "      <td>Free</td>\n",
       "      <td>0.0</td>\n",
       "      <td>4</td>\n",
       "      <td>9</td>\n",
       "      <td>2018</td>\n",
       "      <td>Varies with device</td>\n",
       "      <td>4</td>\n",
       "    </tr>\n",
       "    <tr>\n",
       "      <th>4</th>\n",
       "      <td>0</td>\n",
       "      <td>4.3</td>\n",
       "      <td>967</td>\n",
       "      <td>2.8</td>\n",
       "      <td>100,000+</td>\n",
       "      <td>Free</td>\n",
       "      <td>0.0</td>\n",
       "      <td>1</td>\n",
       "      <td>11</td>\n",
       "      <td>2018</td>\n",
       "      <td>1.1</td>\n",
       "      <td>4</td>\n",
       "    </tr>\n",
       "  </tbody>\n",
       "</table>\n",
       "</div>"
      ],
      "text/plain": [
       "   Category  Rating  Reviews  Size     Installs  Type  Price  Content Rating  \\\n",
       "0         0     4.1      159  19.0      10,000+  Free    0.0               1   \n",
       "1         0     3.9      967  14.0     500,000+  Free    0.0               1   \n",
       "2         0     4.7    87510   8.7   5,000,000+  Free    0.0               1   \n",
       "3         0     4.5   215644  25.0  50,000,000+  Free    0.0               4   \n",
       "4         0     4.3      967   2.8     100,000+  Free    0.0               1   \n",
       "\n",
       "   Genres  Last Updated         Current Ver  Android Ver  \n",
       "0       9          2018               1.0.0            4  \n",
       "1      12          2018               2.0.0            4  \n",
       "2       9          2018               1.2.4            4  \n",
       "3       9          2018  Varies with device            4  \n",
       "4      11          2018                 1.1            4  "
      ]
     },
     "execution_count": 161,
     "metadata": {},
     "output_type": "execute_result"
    }
   ],
   "source": [
    "df.head()"
   ]
  },
  {
   "cell_type": "code",
   "execution_count": 157,
   "id": "36f15282",
   "metadata": {},
   "outputs": [
    {
     "data": {
      "text/plain": [
       "array(['4', '2', '3', '5', '6', '1', '7', '8'], dtype=object)"
      ]
     },
     "execution_count": 157,
     "metadata": {},
     "output_type": "execute_result"
    }
   ],
   "source": [
    "df[\"Android Ver\"].unique()"
   ]
  },
  {
   "cell_type": "code",
   "execution_count": 158,
   "id": "72598fed",
   "metadata": {},
   "outputs": [
    {
     "data": {
      "text/plain": [
       "(9126, 12)"
      ]
     },
     "execution_count": 158,
     "metadata": {},
     "output_type": "execute_result"
    }
   ],
   "source": [
    "df.shape"
   ]
  },
  {
   "cell_type": "code",
   "execution_count": 159,
   "id": "97877e52",
   "metadata": {},
   "outputs": [],
   "source": [
    "df[\"Android Ver\"]=df[\"Android Ver\"].apply(lambda x: int(x))"
   ]
  },
  {
   "cell_type": "code",
   "execution_count": 160,
   "id": "16d8e19b",
   "metadata": {},
   "outputs": [
    {
     "data": {
      "text/plain": [
       "array([4, 2, 3, 5, 6, 1, 7, 8], dtype=int64)"
      ]
     },
     "execution_count": 160,
     "metadata": {},
     "output_type": "execute_result"
    }
   ],
   "source": [
    "df[\"Android Ver\"].unique()"
   ]
  },
  {
   "cell_type": "code",
   "execution_count": 204,
   "id": "0ea68f3c",
   "metadata": {},
   "outputs": [
    {
     "data": {
      "text/html": [
       "<div>\n",
       "<style scoped>\n",
       "    .dataframe tbody tr th:only-of-type {\n",
       "        vertical-align: middle;\n",
       "    }\n",
       "\n",
       "    .dataframe tbody tr th {\n",
       "        vertical-align: top;\n",
       "    }\n",
       "\n",
       "    .dataframe thead th {\n",
       "        text-align: right;\n",
       "    }\n",
       "</style>\n",
       "<table border=\"1\" class=\"dataframe\">\n",
       "  <thead>\n",
       "    <tr style=\"text-align: right;\">\n",
       "      <th></th>\n",
       "      <th>Category</th>\n",
       "      <th>Rating</th>\n",
       "      <th>Reviews</th>\n",
       "      <th>Size</th>\n",
       "      <th>Installs</th>\n",
       "      <th>Type</th>\n",
       "      <th>Price</th>\n",
       "      <th>Content Rating</th>\n",
       "      <th>Genres</th>\n",
       "      <th>Last Updated</th>\n",
       "      <th>Current Ver</th>\n",
       "      <th>Android Ver</th>\n",
       "    </tr>\n",
       "  </thead>\n",
       "  <tbody>\n",
       "    <tr>\n",
       "      <th>0</th>\n",
       "      <td>0</td>\n",
       "      <td>4.1</td>\n",
       "      <td>159</td>\n",
       "      <td>19.0</td>\n",
       "      <td>10000</td>\n",
       "      <td>0</td>\n",
       "      <td>0.0</td>\n",
       "      <td>1</td>\n",
       "      <td>9</td>\n",
       "      <td>2018</td>\n",
       "      <td>1.0.0</td>\n",
       "      <td>4</td>\n",
       "    </tr>\n",
       "    <tr>\n",
       "      <th>1</th>\n",
       "      <td>0</td>\n",
       "      <td>3.9</td>\n",
       "      <td>967</td>\n",
       "      <td>14.0</td>\n",
       "      <td>500000</td>\n",
       "      <td>0</td>\n",
       "      <td>0.0</td>\n",
       "      <td>1</td>\n",
       "      <td>12</td>\n",
       "      <td>2018</td>\n",
       "      <td>2.0.0</td>\n",
       "      <td>4</td>\n",
       "    </tr>\n",
       "    <tr>\n",
       "      <th>2</th>\n",
       "      <td>0</td>\n",
       "      <td>4.7</td>\n",
       "      <td>87510</td>\n",
       "      <td>8.7</td>\n",
       "      <td>5000000</td>\n",
       "      <td>0</td>\n",
       "      <td>0.0</td>\n",
       "      <td>1</td>\n",
       "      <td>9</td>\n",
       "      <td>2018</td>\n",
       "      <td>1.2.4</td>\n",
       "      <td>4</td>\n",
       "    </tr>\n",
       "    <tr>\n",
       "      <th>3</th>\n",
       "      <td>0</td>\n",
       "      <td>4.5</td>\n",
       "      <td>215644</td>\n",
       "      <td>25.0</td>\n",
       "      <td>50000000</td>\n",
       "      <td>0</td>\n",
       "      <td>0.0</td>\n",
       "      <td>4</td>\n",
       "      <td>9</td>\n",
       "      <td>2018</td>\n",
       "      <td>Varies with device</td>\n",
       "      <td>4</td>\n",
       "    </tr>\n",
       "    <tr>\n",
       "      <th>4</th>\n",
       "      <td>0</td>\n",
       "      <td>4.3</td>\n",
       "      <td>967</td>\n",
       "      <td>2.8</td>\n",
       "      <td>100000</td>\n",
       "      <td>0</td>\n",
       "      <td>0.0</td>\n",
       "      <td>1</td>\n",
       "      <td>11</td>\n",
       "      <td>2018</td>\n",
       "      <td>1.1</td>\n",
       "      <td>4</td>\n",
       "    </tr>\n",
       "  </tbody>\n",
       "</table>\n",
       "</div>"
      ],
      "text/plain": [
       "   Category  Rating  Reviews  Size  Installs  Type  Price  Content Rating  \\\n",
       "0         0     4.1      159  19.0     10000     0    0.0               1   \n",
       "1         0     3.9      967  14.0    500000     0    0.0               1   \n",
       "2         0     4.7    87510   8.7   5000000     0    0.0               1   \n",
       "3         0     4.5   215644  25.0  50000000     0    0.0               4   \n",
       "4         0     4.3      967   2.8    100000     0    0.0               1   \n",
       "\n",
       "   Genres  Last Updated         Current Ver  Android Ver  \n",
       "0       9          2018               1.0.0            4  \n",
       "1      12          2018               2.0.0            4  \n",
       "2       9          2018               1.2.4            4  \n",
       "3       9          2018  Varies with device            4  \n",
       "4      11          2018                 1.1            4  "
      ]
     },
     "execution_count": 204,
     "metadata": {},
     "output_type": "execute_result"
    }
   ],
   "source": [
    "df.head()"
   ]
  },
  {
   "cell_type": "code",
   "execution_count": 205,
   "id": "54229a81",
   "metadata": {},
   "outputs": [
    {
     "data": {
      "text/html": [
       "<div>\n",
       "<style scoped>\n",
       "    .dataframe tbody tr th:only-of-type {\n",
       "        vertical-align: middle;\n",
       "    }\n",
       "\n",
       "    .dataframe tbody tr th {\n",
       "        vertical-align: top;\n",
       "    }\n",
       "\n",
       "    .dataframe thead th {\n",
       "        text-align: right;\n",
       "    }\n",
       "</style>\n",
       "<table border=\"1\" class=\"dataframe\">\n",
       "  <thead>\n",
       "    <tr style=\"text-align: right;\">\n",
       "      <th></th>\n",
       "      <th>Category</th>\n",
       "      <th>Rating</th>\n",
       "      <th>Reviews</th>\n",
       "      <th>Size</th>\n",
       "      <th>Installs</th>\n",
       "      <th>Type</th>\n",
       "      <th>Price</th>\n",
       "      <th>Content Rating</th>\n",
       "      <th>Genres</th>\n",
       "      <th>Last Updated</th>\n",
       "      <th>Current Ver</th>\n",
       "      <th>Android Ver</th>\n",
       "    </tr>\n",
       "  </thead>\n",
       "  <tbody>\n",
       "    <tr>\n",
       "      <th>0</th>\n",
       "      <td>0</td>\n",
       "      <td>4.100000</td>\n",
       "      <td>159</td>\n",
       "      <td>19.0</td>\n",
       "      <td>10000</td>\n",
       "      <td>0</td>\n",
       "      <td>0.0</td>\n",
       "      <td>1</td>\n",
       "      <td>9</td>\n",
       "      <td>2018</td>\n",
       "      <td>1.0.0</td>\n",
       "      <td>4</td>\n",
       "    </tr>\n",
       "    <tr>\n",
       "      <th>1</th>\n",
       "      <td>0</td>\n",
       "      <td>3.900000</td>\n",
       "      <td>967</td>\n",
       "      <td>14.0</td>\n",
       "      <td>500000</td>\n",
       "      <td>0</td>\n",
       "      <td>0.0</td>\n",
       "      <td>1</td>\n",
       "      <td>12</td>\n",
       "      <td>2018</td>\n",
       "      <td>2.0.0</td>\n",
       "      <td>4</td>\n",
       "    </tr>\n",
       "    <tr>\n",
       "      <th>2</th>\n",
       "      <td>0</td>\n",
       "      <td>4.700000</td>\n",
       "      <td>87510</td>\n",
       "      <td>8.7</td>\n",
       "      <td>5000000</td>\n",
       "      <td>0</td>\n",
       "      <td>0.0</td>\n",
       "      <td>1</td>\n",
       "      <td>9</td>\n",
       "      <td>2018</td>\n",
       "      <td>1.2.4</td>\n",
       "      <td>4</td>\n",
       "    </tr>\n",
       "    <tr>\n",
       "      <th>3</th>\n",
       "      <td>0</td>\n",
       "      <td>4.500000</td>\n",
       "      <td>215644</td>\n",
       "      <td>25.0</td>\n",
       "      <td>50000000</td>\n",
       "      <td>0</td>\n",
       "      <td>0.0</td>\n",
       "      <td>4</td>\n",
       "      <td>9</td>\n",
       "      <td>2018</td>\n",
       "      <td>Varies with device</td>\n",
       "      <td>4</td>\n",
       "    </tr>\n",
       "    <tr>\n",
       "      <th>4</th>\n",
       "      <td>0</td>\n",
       "      <td>4.300000</td>\n",
       "      <td>967</td>\n",
       "      <td>2.8</td>\n",
       "      <td>100000</td>\n",
       "      <td>0</td>\n",
       "      <td>0.0</td>\n",
       "      <td>1</td>\n",
       "      <td>11</td>\n",
       "      <td>2018</td>\n",
       "      <td>1.1</td>\n",
       "      <td>4</td>\n",
       "    </tr>\n",
       "    <tr>\n",
       "      <th>...</th>\n",
       "      <td>...</td>\n",
       "      <td>...</td>\n",
       "      <td>...</td>\n",
       "      <td>...</td>\n",
       "      <td>...</td>\n",
       "      <td>...</td>\n",
       "      <td>...</td>\n",
       "      <td>...</td>\n",
       "      <td>...</td>\n",
       "      <td>...</td>\n",
       "      <td>...</td>\n",
       "      <td>...</td>\n",
       "    </tr>\n",
       "    <tr>\n",
       "      <th>10823</th>\n",
       "      <td>31</td>\n",
       "      <td>4.187877</td>\n",
       "      <td>1</td>\n",
       "      <td>2.9</td>\n",
       "      <td>100</td>\n",
       "      <td>0</td>\n",
       "      <td>0.0</td>\n",
       "      <td>1</td>\n",
       "      <td>114</td>\n",
       "      <td>2018</td>\n",
       "      <td>1.0</td>\n",
       "      <td>4</td>\n",
       "    </tr>\n",
       "    <tr>\n",
       "      <th>10824</th>\n",
       "      <td>20</td>\n",
       "      <td>4.187877</td>\n",
       "      <td>67</td>\n",
       "      <td>82.0</td>\n",
       "      <td>10000</td>\n",
       "      <td>0</td>\n",
       "      <td>0.0</td>\n",
       "      <td>1</td>\n",
       "      <td>71</td>\n",
       "      <td>2018</td>\n",
       "      <td>2.2.2</td>\n",
       "      <td>4</td>\n",
       "    </tr>\n",
       "    <tr>\n",
       "      <th>10825</th>\n",
       "      <td>27</td>\n",
       "      <td>4.187877</td>\n",
       "      <td>7</td>\n",
       "      <td>7.7</td>\n",
       "      <td>100</td>\n",
       "      <td>0</td>\n",
       "      <td>0.0</td>\n",
       "      <td>4</td>\n",
       "      <td>101</td>\n",
       "      <td>2018</td>\n",
       "      <td>1.0</td>\n",
       "      <td>4</td>\n",
       "    </tr>\n",
       "    <tr>\n",
       "      <th>10827</th>\n",
       "      <td>11</td>\n",
       "      <td>4.200000</td>\n",
       "      <td>117</td>\n",
       "      <td>13.0</td>\n",
       "      <td>5000</td>\n",
       "      <td>0</td>\n",
       "      <td>0.0</td>\n",
       "      <td>1</td>\n",
       "      <td>39</td>\n",
       "      <td>2018</td>\n",
       "      <td>2.0.20</td>\n",
       "      <td>4</td>\n",
       "    </tr>\n",
       "    <tr>\n",
       "      <th>10828</th>\n",
       "      <td>5</td>\n",
       "      <td>3.400000</td>\n",
       "      <td>291</td>\n",
       "      <td>13.0</td>\n",
       "      <td>10000</td>\n",
       "      <td>0</td>\n",
       "      <td>0.0</td>\n",
       "      <td>1</td>\n",
       "      <td>34</td>\n",
       "      <td>2017</td>\n",
       "      <td>2.0.1</td>\n",
       "      <td>4</td>\n",
       "    </tr>\n",
       "  </tbody>\n",
       "</table>\n",
       "<p>9116 rows × 12 columns</p>\n",
       "</div>"
      ],
      "text/plain": [
       "       Category    Rating  Reviews  Size  Installs  Type  Price  \\\n",
       "0             0  4.100000      159  19.0     10000     0    0.0   \n",
       "1             0  3.900000      967  14.0    500000     0    0.0   \n",
       "2             0  4.700000    87510   8.7   5000000     0    0.0   \n",
       "3             0  4.500000   215644  25.0  50000000     0    0.0   \n",
       "4             0  4.300000      967   2.8    100000     0    0.0   \n",
       "...         ...       ...      ...   ...       ...   ...    ...   \n",
       "10823        31  4.187877        1   2.9       100     0    0.0   \n",
       "10824        20  4.187877       67  82.0     10000     0    0.0   \n",
       "10825        27  4.187877        7   7.7       100     0    0.0   \n",
       "10827        11  4.200000      117  13.0      5000     0    0.0   \n",
       "10828         5  3.400000      291  13.0     10000     0    0.0   \n",
       "\n",
       "       Content Rating  Genres  Last Updated         Current Ver  Android Ver  \n",
       "0                   1       9          2018               1.0.0            4  \n",
       "1                   1      12          2018               2.0.0            4  \n",
       "2                   1       9          2018               1.2.4            4  \n",
       "3                   4       9          2018  Varies with device            4  \n",
       "4                   1      11          2018                 1.1            4  \n",
       "...               ...     ...           ...                 ...          ...  \n",
       "10823               1     114          2018                 1.0            4  \n",
       "10824               1      71          2018               2.2.2            4  \n",
       "10825               4     101          2018                 1.0            4  \n",
       "10827               1      39          2018              2.0.20            4  \n",
       "10828               1      34          2017               2.0.1            4  \n",
       "\n",
       "[9116 rows x 12 columns]"
      ]
     },
     "execution_count": 205,
     "metadata": {},
     "output_type": "execute_result"
    }
   ],
   "source": [
    "df.head(10-20)"
   ]
  },
  {
   "cell_type": "code",
   "execution_count": null,
   "id": "5b67b764",
   "metadata": {},
   "outputs": [],
   "source": []
  }
 ],
 "metadata": {
  "kernelspec": {
   "display_name": "Python 3 (ipykernel)",
   "language": "python",
   "name": "python3"
  },
  "language_info": {
   "codemirror_mode": {
    "name": "ipython",
    "version": 3
   },
   "file_extension": ".py",
   "mimetype": "text/x-python",
   "name": "python",
   "nbconvert_exporter": "python",
   "pygments_lexer": "ipython3",
   "version": "3.9.7"
  }
 },
 "nbformat": 4,
 "nbformat_minor": 5
}
